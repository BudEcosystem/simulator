{
 "cells": [
  {
   "cell_type": "code",
   "execution_count": 1,
   "metadata": {},
   "outputs": [],
   "source": [
    "%load_ext autoreload\n",
    "%autoreload 2"
   ]
  },
  {
   "cell_type": "code",
   "execution_count": 2,
   "metadata": {},
   "outputs": [],
   "source": [
    "\n",
    "from GenZ import get_model_df, System, get_summary_table, simplify_df, get_configs, ParallelismConfig, get_runtime_breakdown\n",
    "from GenZ.Models.get_language_model import create_full_chunked_model, create_full_decode_model\n",
    "from GenZ.Models.attention import mha_flash_attention_chunked\n",
    "from GenZ.utils.plot_rooflines import display_df\n",
    "import os\n",
    "import pandas as pd\n"
   ]
  },
  {
   "cell_type": "code",
   "execution_count": 3,
   "metadata": {},
   "outputs": [],
   "source": [
    "system = System(frequency=1000 , flops=2000, off_chip_mem_size=(80*1024), compute_efficiency=0.8, memory_efficiency=0.8,\n",
    "                    offchip_mem_bw=3500, bits='int8', external_mem_bw=128, interchip_link_bw=256, interchip_link_latency=2, num_nodes=8)"
   ]
  },
  {
   "cell_type": "code",
   "execution_count": null,
   "metadata": {},
   "outputs": [
    {
     "data": {
      "text/plain": [
       "<GenZ.Models.default_models.ModelConfig at 0x77b3e7f2c0d0>"
      ]
     },
     "execution_count": 4,
     "metadata": {},
     "output_type": "execute_result"
    }
   ],
   "source": [
    "get_configs('meta-llama/meta-llama-3.1-405b')"
   ]
  },
  {
   "cell_type": "code",
   "execution_count": 5,
   "metadata": {},
   "outputs": [],
   "source": [
    "def get_chunked_model_runtime(model_name = 'gpt-3', chunk_size = 256, system = System(), input_tokens = 1024, output_tokens = [1024]*8, batch_size = 1):\n",
    "    \n",
    "    model = create_full_chunked_model(chunk_size, model_name, input_tokens, output_tokens, tensor_parallel=8)\n",
    "    model_df = get_model_df(model, system, batch_size=1,  model_characterstics = False)\n",
    "    summary_table = get_summary_table(model_df, model_characterstics = False)\n",
    "    runtime_df = get_runtime_breakdown(model_df) \n",
    "    return summary_table, runtime_df"
   ]
  },
  {
   "cell_type": "code",
   "execution_count": 6,
   "metadata": {},
   "outputs": [
    {
     "data": {
      "application/vnd.plotly.v1+json": {
       "config": {
        "plotlyServerURL": "https://plot.ly"
       },
       "data": [
        {
         "alignmentgroup": "True",
         "hovertemplate": "Layer Name=Embedding<br>Chunk Size=%{x}<br>Runtime=%{y}<extra></extra>",
         "legendgroup": "Embedding",
         "marker": {
          "color": "#636efa",
          "pattern": {
           "shape": ""
          }
         },
         "name": "Embedding",
         "offsetgroup": "Embedding",
         "orientation": "v",
         "showlegend": true,
         "textposition": "auto",
         "type": "bar",
         "x": [
          256,
          512,
          768,
          1024,
          1280,
          1536,
          1792,
          2048
         ],
         "xaxis": "x",
         "y": [
          0.16684932686601367,
          0.2310062976734979,
          0.30809967676000916,
          0.39380354825672603,
          0.4795074197534429,
          0.5652112912501599,
          0.6509151627468768,
          0.7366190342435937
         ],
         "yaxis": "y"
        },
        {
         "alignmentgroup": "True",
         "hovertemplate": "Layer Name=Collective<br>Chunk Size=%{x}<br>Runtime=%{y}<extra></extra>",
         "legendgroup": "Collective",
         "marker": {
          "color": "#EF553B",
          "pattern": {
           "shape": ""
          }
         },
         "name": "Collective",
         "offsetgroup": "Collective",
         "orientation": "v",
         "showlegend": true,
         "textposition": "auto",
         "type": "bar",
         "x": [
          256,
          512,
          768,
          1024,
          1280,
          1536,
          1792,
          2048
         ],
         "xaxis": "x",
         "y": [
          10.293583173036575,
          14.199792194843292,
          18.106001216650007,
          22.012210238456724,
          25.918419260263434,
          29.82462828207015,
          33.730837303876875,
          37.63704632568359
         ],
         "yaxis": "y"
        },
        {
         "alignmentgroup": "True",
         "hovertemplate": "Layer Name=LA_layers<br>Chunk Size=%{x}<br>Runtime=%{y}<extra></extra>",
         "legendgroup": "LA_layers",
         "marker": {
          "color": "#00cc96",
          "pattern": {
           "shape": ""
          }
         },
         "name": "LA_layers",
         "offsetgroup": "LA_layers",
         "orientation": "v",
         "showlegend": true,
         "textposition": "auto",
         "type": "bar",
         "x": [
          256,
          512,
          768,
          1024,
          1280,
          1536,
          1792,
          2048
         ],
         "xaxis": "x",
         "y": [
          1.001051494053432,
          1.119023731776646,
          1.25652721949986,
          1.4135619572230742,
          1.590127944946288,
          1.7862251826695017,
          2.001853670392716,
          2.2370134081159314
         ],
         "yaxis": "y"
        },
        {
         "alignmentgroup": "True",
         "hovertemplate": "Layer Name=QKVO_layers<br>Chunk Size=%{x}<br>Runtime=%{y}<extra></extra>",
         "legendgroup": "QKVO_layers",
         "marker": {
          "color": "#ab63fa",
          "pattern": {
           "shape": ""
          }
         },
         "name": "QKVO_layers",
         "offsetgroup": "QKVO_layers",
         "orientation": "v",
         "showlegend": true,
         "textposition": "auto",
         "type": "bar",
         "x": [
          256,
          512,
          768,
          1024,
          1280,
          1536,
          1792,
          2048
         ],
         "xaxis": "x",
         "y": [
          2.4595424107142856,
          2.508370535714285,
          3.4789235097599995,
          4.63856467968,
          5.7982058495999995,
          6.957847019519999,
          8.11748818944,
          9.27712935936
         ],
         "yaxis": "y"
        },
        {
         "alignmentgroup": "True",
         "hovertemplate": "Layer Name=FFN_layers<br>Chunk Size=%{x}<br>Runtime=%{y}<extra></extra>",
         "legendgroup": "FFN_layers",
         "marker": {
          "color": "#FFA15A",
          "pattern": {
           "shape": ""
          }
         },
         "name": "FFN_layers",
         "offsetgroup": "FFN_layers",
         "orientation": "v",
         "showlegend": true,
         "textposition": "auto",
         "type": "bar",
         "x": [
          256,
          512,
          768,
          1024,
          1280,
          1536,
          1792,
          2048
         ],
         "xaxis": "x",
         "y": [
          5.122767857142857,
          5.424107142857142,
          6.957847019519999,
          9.27712935936,
          11.596411699199999,
          13.915694039039998,
          16.23497637888,
          18.55425871872
         ],
         "yaxis": "y"
        }
       ],
       "layout": {
        "barmode": "group",
        "legend": {
         "title": {
          "text": "Layer Name"
         },
         "tracegroupgap": 0
        },
        "template": {
         "data": {
          "bar": [
           {
            "error_x": {
             "color": "#2a3f5f"
            },
            "error_y": {
             "color": "#2a3f5f"
            },
            "marker": {
             "line": {
              "color": "#E5ECF6",
              "width": 0.5
             },
             "pattern": {
              "fillmode": "overlay",
              "size": 10,
              "solidity": 0.2
             }
            },
            "type": "bar"
           }
          ],
          "barpolar": [
           {
            "marker": {
             "line": {
              "color": "#E5ECF6",
              "width": 0.5
             },
             "pattern": {
              "fillmode": "overlay",
              "size": 10,
              "solidity": 0.2
             }
            },
            "type": "barpolar"
           }
          ],
          "carpet": [
           {
            "aaxis": {
             "endlinecolor": "#2a3f5f",
             "gridcolor": "white",
             "linecolor": "white",
             "minorgridcolor": "white",
             "startlinecolor": "#2a3f5f"
            },
            "baxis": {
             "endlinecolor": "#2a3f5f",
             "gridcolor": "white",
             "linecolor": "white",
             "minorgridcolor": "white",
             "startlinecolor": "#2a3f5f"
            },
            "type": "carpet"
           }
          ],
          "choropleth": [
           {
            "colorbar": {
             "outlinewidth": 0,
             "ticks": ""
            },
            "type": "choropleth"
           }
          ],
          "contour": [
           {
            "colorbar": {
             "outlinewidth": 0,
             "ticks": ""
            },
            "colorscale": [
             [
              0,
              "#0d0887"
             ],
             [
              0.1111111111111111,
              "#46039f"
             ],
             [
              0.2222222222222222,
              "#7201a8"
             ],
             [
              0.3333333333333333,
              "#9c179e"
             ],
             [
              0.4444444444444444,
              "#bd3786"
             ],
             [
              0.5555555555555556,
              "#d8576b"
             ],
             [
              0.6666666666666666,
              "#ed7953"
             ],
             [
              0.7777777777777778,
              "#fb9f3a"
             ],
             [
              0.8888888888888888,
              "#fdca26"
             ],
             [
              1,
              "#f0f921"
             ]
            ],
            "type": "contour"
           }
          ],
          "contourcarpet": [
           {
            "colorbar": {
             "outlinewidth": 0,
             "ticks": ""
            },
            "type": "contourcarpet"
           }
          ],
          "heatmap": [
           {
            "colorbar": {
             "outlinewidth": 0,
             "ticks": ""
            },
            "colorscale": [
             [
              0,
              "#0d0887"
             ],
             [
              0.1111111111111111,
              "#46039f"
             ],
             [
              0.2222222222222222,
              "#7201a8"
             ],
             [
              0.3333333333333333,
              "#9c179e"
             ],
             [
              0.4444444444444444,
              "#bd3786"
             ],
             [
              0.5555555555555556,
              "#d8576b"
             ],
             [
              0.6666666666666666,
              "#ed7953"
             ],
             [
              0.7777777777777778,
              "#fb9f3a"
             ],
             [
              0.8888888888888888,
              "#fdca26"
             ],
             [
              1,
              "#f0f921"
             ]
            ],
            "type": "heatmap"
           }
          ],
          "heatmapgl": [
           {
            "colorbar": {
             "outlinewidth": 0,
             "ticks": ""
            },
            "colorscale": [
             [
              0,
              "#0d0887"
             ],
             [
              0.1111111111111111,
              "#46039f"
             ],
             [
              0.2222222222222222,
              "#7201a8"
             ],
             [
              0.3333333333333333,
              "#9c179e"
             ],
             [
              0.4444444444444444,
              "#bd3786"
             ],
             [
              0.5555555555555556,
              "#d8576b"
             ],
             [
              0.6666666666666666,
              "#ed7953"
             ],
             [
              0.7777777777777778,
              "#fb9f3a"
             ],
             [
              0.8888888888888888,
              "#fdca26"
             ],
             [
              1,
              "#f0f921"
             ]
            ],
            "type": "heatmapgl"
           }
          ],
          "histogram": [
           {
            "marker": {
             "pattern": {
              "fillmode": "overlay",
              "size": 10,
              "solidity": 0.2
             }
            },
            "type": "histogram"
           }
          ],
          "histogram2d": [
           {
            "colorbar": {
             "outlinewidth": 0,
             "ticks": ""
            },
            "colorscale": [
             [
              0,
              "#0d0887"
             ],
             [
              0.1111111111111111,
              "#46039f"
             ],
             [
              0.2222222222222222,
              "#7201a8"
             ],
             [
              0.3333333333333333,
              "#9c179e"
             ],
             [
              0.4444444444444444,
              "#bd3786"
             ],
             [
              0.5555555555555556,
              "#d8576b"
             ],
             [
              0.6666666666666666,
              "#ed7953"
             ],
             [
              0.7777777777777778,
              "#fb9f3a"
             ],
             [
              0.8888888888888888,
              "#fdca26"
             ],
             [
              1,
              "#f0f921"
             ]
            ],
            "type": "histogram2d"
           }
          ],
          "histogram2dcontour": [
           {
            "colorbar": {
             "outlinewidth": 0,
             "ticks": ""
            },
            "colorscale": [
             [
              0,
              "#0d0887"
             ],
             [
              0.1111111111111111,
              "#46039f"
             ],
             [
              0.2222222222222222,
              "#7201a8"
             ],
             [
              0.3333333333333333,
              "#9c179e"
             ],
             [
              0.4444444444444444,
              "#bd3786"
             ],
             [
              0.5555555555555556,
              "#d8576b"
             ],
             [
              0.6666666666666666,
              "#ed7953"
             ],
             [
              0.7777777777777778,
              "#fb9f3a"
             ],
             [
              0.8888888888888888,
              "#fdca26"
             ],
             [
              1,
              "#f0f921"
             ]
            ],
            "type": "histogram2dcontour"
           }
          ],
          "mesh3d": [
           {
            "colorbar": {
             "outlinewidth": 0,
             "ticks": ""
            },
            "type": "mesh3d"
           }
          ],
          "parcoords": [
           {
            "line": {
             "colorbar": {
              "outlinewidth": 0,
              "ticks": ""
             }
            },
            "type": "parcoords"
           }
          ],
          "pie": [
           {
            "automargin": true,
            "type": "pie"
           }
          ],
          "scatter": [
           {
            "fillpattern": {
             "fillmode": "overlay",
             "size": 10,
             "solidity": 0.2
            },
            "type": "scatter"
           }
          ],
          "scatter3d": [
           {
            "line": {
             "colorbar": {
              "outlinewidth": 0,
              "ticks": ""
             }
            },
            "marker": {
             "colorbar": {
              "outlinewidth": 0,
              "ticks": ""
             }
            },
            "type": "scatter3d"
           }
          ],
          "scattercarpet": [
           {
            "marker": {
             "colorbar": {
              "outlinewidth": 0,
              "ticks": ""
             }
            },
            "type": "scattercarpet"
           }
          ],
          "scattergeo": [
           {
            "marker": {
             "colorbar": {
              "outlinewidth": 0,
              "ticks": ""
             }
            },
            "type": "scattergeo"
           }
          ],
          "scattergl": [
           {
            "marker": {
             "colorbar": {
              "outlinewidth": 0,
              "ticks": ""
             }
            },
            "type": "scattergl"
           }
          ],
          "scattermapbox": [
           {
            "marker": {
             "colorbar": {
              "outlinewidth": 0,
              "ticks": ""
             }
            },
            "type": "scattermapbox"
           }
          ],
          "scatterpolar": [
           {
            "marker": {
             "colorbar": {
              "outlinewidth": 0,
              "ticks": ""
             }
            },
            "type": "scatterpolar"
           }
          ],
          "scatterpolargl": [
           {
            "marker": {
             "colorbar": {
              "outlinewidth": 0,
              "ticks": ""
             }
            },
            "type": "scatterpolargl"
           }
          ],
          "scatterternary": [
           {
            "marker": {
             "colorbar": {
              "outlinewidth": 0,
              "ticks": ""
             }
            },
            "type": "scatterternary"
           }
          ],
          "surface": [
           {
            "colorbar": {
             "outlinewidth": 0,
             "ticks": ""
            },
            "colorscale": [
             [
              0,
              "#0d0887"
             ],
             [
              0.1111111111111111,
              "#46039f"
             ],
             [
              0.2222222222222222,
              "#7201a8"
             ],
             [
              0.3333333333333333,
              "#9c179e"
             ],
             [
              0.4444444444444444,
              "#bd3786"
             ],
             [
              0.5555555555555556,
              "#d8576b"
             ],
             [
              0.6666666666666666,
              "#ed7953"
             ],
             [
              0.7777777777777778,
              "#fb9f3a"
             ],
             [
              0.8888888888888888,
              "#fdca26"
             ],
             [
              1,
              "#f0f921"
             ]
            ],
            "type": "surface"
           }
          ],
          "table": [
           {
            "cells": {
             "fill": {
              "color": "#EBF0F8"
             },
             "line": {
              "color": "white"
             }
            },
            "header": {
             "fill": {
              "color": "#C8D4E3"
             },
             "line": {
              "color": "white"
             }
            },
            "type": "table"
           }
          ]
         },
         "layout": {
          "annotationdefaults": {
           "arrowcolor": "#2a3f5f",
           "arrowhead": 0,
           "arrowwidth": 1
          },
          "autotypenumbers": "strict",
          "coloraxis": {
           "colorbar": {
            "outlinewidth": 0,
            "ticks": ""
           }
          },
          "colorscale": {
           "diverging": [
            [
             0,
             "#8e0152"
            ],
            [
             0.1,
             "#c51b7d"
            ],
            [
             0.2,
             "#de77ae"
            ],
            [
             0.3,
             "#f1b6da"
            ],
            [
             0.4,
             "#fde0ef"
            ],
            [
             0.5,
             "#f7f7f7"
            ],
            [
             0.6,
             "#e6f5d0"
            ],
            [
             0.7,
             "#b8e186"
            ],
            [
             0.8,
             "#7fbc41"
            ],
            [
             0.9,
             "#4d9221"
            ],
            [
             1,
             "#276419"
            ]
           ],
           "sequential": [
            [
             0,
             "#0d0887"
            ],
            [
             0.1111111111111111,
             "#46039f"
            ],
            [
             0.2222222222222222,
             "#7201a8"
            ],
            [
             0.3333333333333333,
             "#9c179e"
            ],
            [
             0.4444444444444444,
             "#bd3786"
            ],
            [
             0.5555555555555556,
             "#d8576b"
            ],
            [
             0.6666666666666666,
             "#ed7953"
            ],
            [
             0.7777777777777778,
             "#fb9f3a"
            ],
            [
             0.8888888888888888,
             "#fdca26"
            ],
            [
             1,
             "#f0f921"
            ]
           ],
           "sequentialminus": [
            [
             0,
             "#0d0887"
            ],
            [
             0.1111111111111111,
             "#46039f"
            ],
            [
             0.2222222222222222,
             "#7201a8"
            ],
            [
             0.3333333333333333,
             "#9c179e"
            ],
            [
             0.4444444444444444,
             "#bd3786"
            ],
            [
             0.5555555555555556,
             "#d8576b"
            ],
            [
             0.6666666666666666,
             "#ed7953"
            ],
            [
             0.7777777777777778,
             "#fb9f3a"
            ],
            [
             0.8888888888888888,
             "#fdca26"
            ],
            [
             1,
             "#f0f921"
            ]
           ]
          },
          "colorway": [
           "#636efa",
           "#EF553B",
           "#00cc96",
           "#ab63fa",
           "#FFA15A",
           "#19d3f3",
           "#FF6692",
           "#B6E880",
           "#FF97FF",
           "#FECB52"
          ],
          "font": {
           "color": "#2a3f5f"
          },
          "geo": {
           "bgcolor": "white",
           "lakecolor": "white",
           "landcolor": "#E5ECF6",
           "showlakes": true,
           "showland": true,
           "subunitcolor": "white"
          },
          "hoverlabel": {
           "align": "left"
          },
          "hovermode": "closest",
          "mapbox": {
           "style": "light"
          },
          "paper_bgcolor": "white",
          "plot_bgcolor": "#E5ECF6",
          "polar": {
           "angularaxis": {
            "gridcolor": "white",
            "linecolor": "white",
            "ticks": ""
           },
           "bgcolor": "#E5ECF6",
           "radialaxis": {
            "gridcolor": "white",
            "linecolor": "white",
            "ticks": ""
           }
          },
          "scene": {
           "xaxis": {
            "backgroundcolor": "#E5ECF6",
            "gridcolor": "white",
            "gridwidth": 2,
            "linecolor": "white",
            "showbackground": true,
            "ticks": "",
            "zerolinecolor": "white"
           },
           "yaxis": {
            "backgroundcolor": "#E5ECF6",
            "gridcolor": "white",
            "gridwidth": 2,
            "linecolor": "white",
            "showbackground": true,
            "ticks": "",
            "zerolinecolor": "white"
           },
           "zaxis": {
            "backgroundcolor": "#E5ECF6",
            "gridcolor": "white",
            "gridwidth": 2,
            "linecolor": "white",
            "showbackground": true,
            "ticks": "",
            "zerolinecolor": "white"
           }
          },
          "shapedefaults": {
           "line": {
            "color": "#2a3f5f"
           }
          },
          "ternary": {
           "aaxis": {
            "gridcolor": "white",
            "linecolor": "white",
            "ticks": ""
           },
           "baxis": {
            "gridcolor": "white",
            "linecolor": "white",
            "ticks": ""
           },
           "bgcolor": "#E5ECF6",
           "caxis": {
            "gridcolor": "white",
            "linecolor": "white",
            "ticks": ""
           }
          },
          "title": {
           "x": 0.05
          },
          "xaxis": {
           "automargin": true,
           "gridcolor": "white",
           "linecolor": "white",
           "ticks": "",
           "title": {
            "standoff": 15
           },
           "zerolinecolor": "white",
           "zerolinewidth": 2
          },
          "yaxis": {
           "automargin": true,
           "gridcolor": "white",
           "linecolor": "white",
           "ticks": "",
           "title": {
            "standoff": 15
           },
           "zerolinecolor": "white",
           "zerolinewidth": 2
          }
         }
        },
        "title": {
         "text": "Runtime Breakdown by Chunk Size, Input Tokens = 1024, Output Tokens = 1024, Output Batch = 8"
        },
        "xaxis": {
         "anchor": "y",
         "domain": [
          0,
          1
         ],
         "title": {
          "text": "Chunk Size"
         }
        },
        "yaxis": {
         "anchor": "x",
         "domain": [
          0,
          1
         ],
         "title": {
          "text": "Runtime"
         }
        }
       }
      },
      "text/html": [
       "<div>                            <div id=\"20a2d83a-e04d-4ded-b877-015eb16502e2\" class=\"plotly-graph-div\" style=\"height:525px; width:100%;\"></div>            <script type=\"text/javascript\">                require([\"plotly\"], function(Plotly) {                    window.PLOTLYENV=window.PLOTLYENV || {};                                    if (document.getElementById(\"20a2d83a-e04d-4ded-b877-015eb16502e2\")) {                    Plotly.newPlot(                        \"20a2d83a-e04d-4ded-b877-015eb16502e2\",                        [{\"alignmentgroup\":\"True\",\"hovertemplate\":\"Layer Name=Embedding\\u003cbr\\u003eChunk Size=%{x}\\u003cbr\\u003eRuntime=%{y}\\u003cextra\\u003e\\u003c\\u002fextra\\u003e\",\"legendgroup\":\"Embedding\",\"marker\":{\"color\":\"#636efa\",\"pattern\":{\"shape\":\"\"}},\"name\":\"Embedding\",\"offsetgroup\":\"Embedding\",\"orientation\":\"v\",\"showlegend\":true,\"textposition\":\"auto\",\"x\":[256,512,768,1024,1280,1536,1792,2048],\"xaxis\":\"x\",\"y\":[0.16684932686601367,0.2310062976734979,0.30809967676000916,0.39380354825672603,0.4795074197534429,0.5652112912501599,0.6509151627468768,0.7366190342435937],\"yaxis\":\"y\",\"type\":\"bar\"},{\"alignmentgroup\":\"True\",\"hovertemplate\":\"Layer Name=Collective\\u003cbr\\u003eChunk Size=%{x}\\u003cbr\\u003eRuntime=%{y}\\u003cextra\\u003e\\u003c\\u002fextra\\u003e\",\"legendgroup\":\"Collective\",\"marker\":{\"color\":\"#EF553B\",\"pattern\":{\"shape\":\"\"}},\"name\":\"Collective\",\"offsetgroup\":\"Collective\",\"orientation\":\"v\",\"showlegend\":true,\"textposition\":\"auto\",\"x\":[256,512,768,1024,1280,1536,1792,2048],\"xaxis\":\"x\",\"y\":[10.293583173036575,14.199792194843292,18.106001216650007,22.012210238456724,25.918419260263434,29.82462828207015,33.730837303876875,37.63704632568359],\"yaxis\":\"y\",\"type\":\"bar\"},{\"alignmentgroup\":\"True\",\"hovertemplate\":\"Layer Name=LA_layers\\u003cbr\\u003eChunk Size=%{x}\\u003cbr\\u003eRuntime=%{y}\\u003cextra\\u003e\\u003c\\u002fextra\\u003e\",\"legendgroup\":\"LA_layers\",\"marker\":{\"color\":\"#00cc96\",\"pattern\":{\"shape\":\"\"}},\"name\":\"LA_layers\",\"offsetgroup\":\"LA_layers\",\"orientation\":\"v\",\"showlegend\":true,\"textposition\":\"auto\",\"x\":[256,512,768,1024,1280,1536,1792,2048],\"xaxis\":\"x\",\"y\":[1.001051494053432,1.119023731776646,1.25652721949986,1.4135619572230742,1.590127944946288,1.7862251826695017,2.001853670392716,2.2370134081159314],\"yaxis\":\"y\",\"type\":\"bar\"},{\"alignmentgroup\":\"True\",\"hovertemplate\":\"Layer Name=QKVO_layers\\u003cbr\\u003eChunk Size=%{x}\\u003cbr\\u003eRuntime=%{y}\\u003cextra\\u003e\\u003c\\u002fextra\\u003e\",\"legendgroup\":\"QKVO_layers\",\"marker\":{\"color\":\"#ab63fa\",\"pattern\":{\"shape\":\"\"}},\"name\":\"QKVO_layers\",\"offsetgroup\":\"QKVO_layers\",\"orientation\":\"v\",\"showlegend\":true,\"textposition\":\"auto\",\"x\":[256,512,768,1024,1280,1536,1792,2048],\"xaxis\":\"x\",\"y\":[2.4595424107142856,2.508370535714285,3.4789235097599995,4.63856467968,5.7982058495999995,6.957847019519999,8.11748818944,9.27712935936],\"yaxis\":\"y\",\"type\":\"bar\"},{\"alignmentgroup\":\"True\",\"hovertemplate\":\"Layer Name=FFN_layers\\u003cbr\\u003eChunk Size=%{x}\\u003cbr\\u003eRuntime=%{y}\\u003cextra\\u003e\\u003c\\u002fextra\\u003e\",\"legendgroup\":\"FFN_layers\",\"marker\":{\"color\":\"#FFA15A\",\"pattern\":{\"shape\":\"\"}},\"name\":\"FFN_layers\",\"offsetgroup\":\"FFN_layers\",\"orientation\":\"v\",\"showlegend\":true,\"textposition\":\"auto\",\"x\":[256,512,768,1024,1280,1536,1792,2048],\"xaxis\":\"x\",\"y\":[5.122767857142857,5.424107142857142,6.957847019519999,9.27712935936,11.596411699199999,13.915694039039998,16.23497637888,18.55425871872],\"yaxis\":\"y\",\"type\":\"bar\"}],                        {\"template\":{\"data\":{\"histogram2dcontour\":[{\"type\":\"histogram2dcontour\",\"colorbar\":{\"outlinewidth\":0,\"ticks\":\"\"},\"colorscale\":[[0.0,\"#0d0887\"],[0.1111111111111111,\"#46039f\"],[0.2222222222222222,\"#7201a8\"],[0.3333333333333333,\"#9c179e\"],[0.4444444444444444,\"#bd3786\"],[0.5555555555555556,\"#d8576b\"],[0.6666666666666666,\"#ed7953\"],[0.7777777777777778,\"#fb9f3a\"],[0.8888888888888888,\"#fdca26\"],[1.0,\"#f0f921\"]]}],\"choropleth\":[{\"type\":\"choropleth\",\"colorbar\":{\"outlinewidth\":0,\"ticks\":\"\"}}],\"histogram2d\":[{\"type\":\"histogram2d\",\"colorbar\":{\"outlinewidth\":0,\"ticks\":\"\"},\"colorscale\":[[0.0,\"#0d0887\"],[0.1111111111111111,\"#46039f\"],[0.2222222222222222,\"#7201a8\"],[0.3333333333333333,\"#9c179e\"],[0.4444444444444444,\"#bd3786\"],[0.5555555555555556,\"#d8576b\"],[0.6666666666666666,\"#ed7953\"],[0.7777777777777778,\"#fb9f3a\"],[0.8888888888888888,\"#fdca26\"],[1.0,\"#f0f921\"]]}],\"heatmap\":[{\"type\":\"heatmap\",\"colorbar\":{\"outlinewidth\":0,\"ticks\":\"\"},\"colorscale\":[[0.0,\"#0d0887\"],[0.1111111111111111,\"#46039f\"],[0.2222222222222222,\"#7201a8\"],[0.3333333333333333,\"#9c179e\"],[0.4444444444444444,\"#bd3786\"],[0.5555555555555556,\"#d8576b\"],[0.6666666666666666,\"#ed7953\"],[0.7777777777777778,\"#fb9f3a\"],[0.8888888888888888,\"#fdca26\"],[1.0,\"#f0f921\"]]}],\"heatmapgl\":[{\"type\":\"heatmapgl\",\"colorbar\":{\"outlinewidth\":0,\"ticks\":\"\"},\"colorscale\":[[0.0,\"#0d0887\"],[0.1111111111111111,\"#46039f\"],[0.2222222222222222,\"#7201a8\"],[0.3333333333333333,\"#9c179e\"],[0.4444444444444444,\"#bd3786\"],[0.5555555555555556,\"#d8576b\"],[0.6666666666666666,\"#ed7953\"],[0.7777777777777778,\"#fb9f3a\"],[0.8888888888888888,\"#fdca26\"],[1.0,\"#f0f921\"]]}],\"contourcarpet\":[{\"type\":\"contourcarpet\",\"colorbar\":{\"outlinewidth\":0,\"ticks\":\"\"}}],\"contour\":[{\"type\":\"contour\",\"colorbar\":{\"outlinewidth\":0,\"ticks\":\"\"},\"colorscale\":[[0.0,\"#0d0887\"],[0.1111111111111111,\"#46039f\"],[0.2222222222222222,\"#7201a8\"],[0.3333333333333333,\"#9c179e\"],[0.4444444444444444,\"#bd3786\"],[0.5555555555555556,\"#d8576b\"],[0.6666666666666666,\"#ed7953\"],[0.7777777777777778,\"#fb9f3a\"],[0.8888888888888888,\"#fdca26\"],[1.0,\"#f0f921\"]]}],\"surface\":[{\"type\":\"surface\",\"colorbar\":{\"outlinewidth\":0,\"ticks\":\"\"},\"colorscale\":[[0.0,\"#0d0887\"],[0.1111111111111111,\"#46039f\"],[0.2222222222222222,\"#7201a8\"],[0.3333333333333333,\"#9c179e\"],[0.4444444444444444,\"#bd3786\"],[0.5555555555555556,\"#d8576b\"],[0.6666666666666666,\"#ed7953\"],[0.7777777777777778,\"#fb9f3a\"],[0.8888888888888888,\"#fdca26\"],[1.0,\"#f0f921\"]]}],\"mesh3d\":[{\"type\":\"mesh3d\",\"colorbar\":{\"outlinewidth\":0,\"ticks\":\"\"}}],\"scatter\":[{\"fillpattern\":{\"fillmode\":\"overlay\",\"size\":10,\"solidity\":0.2},\"type\":\"scatter\"}],\"parcoords\":[{\"type\":\"parcoords\",\"line\":{\"colorbar\":{\"outlinewidth\":0,\"ticks\":\"\"}}}],\"scatterpolargl\":[{\"type\":\"scatterpolargl\",\"marker\":{\"colorbar\":{\"outlinewidth\":0,\"ticks\":\"\"}}}],\"bar\":[{\"error_x\":{\"color\":\"#2a3f5f\"},\"error_y\":{\"color\":\"#2a3f5f\"},\"marker\":{\"line\":{\"color\":\"#E5ECF6\",\"width\":0.5},\"pattern\":{\"fillmode\":\"overlay\",\"size\":10,\"solidity\":0.2}},\"type\":\"bar\"}],\"scattergeo\":[{\"type\":\"scattergeo\",\"marker\":{\"colorbar\":{\"outlinewidth\":0,\"ticks\":\"\"}}}],\"scatterpolar\":[{\"type\":\"scatterpolar\",\"marker\":{\"colorbar\":{\"outlinewidth\":0,\"ticks\":\"\"}}}],\"histogram\":[{\"marker\":{\"pattern\":{\"fillmode\":\"overlay\",\"size\":10,\"solidity\":0.2}},\"type\":\"histogram\"}],\"scattergl\":[{\"type\":\"scattergl\",\"marker\":{\"colorbar\":{\"outlinewidth\":0,\"ticks\":\"\"}}}],\"scatter3d\":[{\"type\":\"scatter3d\",\"line\":{\"colorbar\":{\"outlinewidth\":0,\"ticks\":\"\"}},\"marker\":{\"colorbar\":{\"outlinewidth\":0,\"ticks\":\"\"}}}],\"scattermapbox\":[{\"type\":\"scattermapbox\",\"marker\":{\"colorbar\":{\"outlinewidth\":0,\"ticks\":\"\"}}}],\"scatterternary\":[{\"type\":\"scatterternary\",\"marker\":{\"colorbar\":{\"outlinewidth\":0,\"ticks\":\"\"}}}],\"scattercarpet\":[{\"type\":\"scattercarpet\",\"marker\":{\"colorbar\":{\"outlinewidth\":0,\"ticks\":\"\"}}}],\"carpet\":[{\"aaxis\":{\"endlinecolor\":\"#2a3f5f\",\"gridcolor\":\"white\",\"linecolor\":\"white\",\"minorgridcolor\":\"white\",\"startlinecolor\":\"#2a3f5f\"},\"baxis\":{\"endlinecolor\":\"#2a3f5f\",\"gridcolor\":\"white\",\"linecolor\":\"white\",\"minorgridcolor\":\"white\",\"startlinecolor\":\"#2a3f5f\"},\"type\":\"carpet\"}],\"table\":[{\"cells\":{\"fill\":{\"color\":\"#EBF0F8\"},\"line\":{\"color\":\"white\"}},\"header\":{\"fill\":{\"color\":\"#C8D4E3\"},\"line\":{\"color\":\"white\"}},\"type\":\"table\"}],\"barpolar\":[{\"marker\":{\"line\":{\"color\":\"#E5ECF6\",\"width\":0.5},\"pattern\":{\"fillmode\":\"overlay\",\"size\":10,\"solidity\":0.2}},\"type\":\"barpolar\"}],\"pie\":[{\"automargin\":true,\"type\":\"pie\"}]},\"layout\":{\"autotypenumbers\":\"strict\",\"colorway\":[\"#636efa\",\"#EF553B\",\"#00cc96\",\"#ab63fa\",\"#FFA15A\",\"#19d3f3\",\"#FF6692\",\"#B6E880\",\"#FF97FF\",\"#FECB52\"],\"font\":{\"color\":\"#2a3f5f\"},\"hovermode\":\"closest\",\"hoverlabel\":{\"align\":\"left\"},\"paper_bgcolor\":\"white\",\"plot_bgcolor\":\"#E5ECF6\",\"polar\":{\"bgcolor\":\"#E5ECF6\",\"angularaxis\":{\"gridcolor\":\"white\",\"linecolor\":\"white\",\"ticks\":\"\"},\"radialaxis\":{\"gridcolor\":\"white\",\"linecolor\":\"white\",\"ticks\":\"\"}},\"ternary\":{\"bgcolor\":\"#E5ECF6\",\"aaxis\":{\"gridcolor\":\"white\",\"linecolor\":\"white\",\"ticks\":\"\"},\"baxis\":{\"gridcolor\":\"white\",\"linecolor\":\"white\",\"ticks\":\"\"},\"caxis\":{\"gridcolor\":\"white\",\"linecolor\":\"white\",\"ticks\":\"\"}},\"coloraxis\":{\"colorbar\":{\"outlinewidth\":0,\"ticks\":\"\"}},\"colorscale\":{\"sequential\":[[0.0,\"#0d0887\"],[0.1111111111111111,\"#46039f\"],[0.2222222222222222,\"#7201a8\"],[0.3333333333333333,\"#9c179e\"],[0.4444444444444444,\"#bd3786\"],[0.5555555555555556,\"#d8576b\"],[0.6666666666666666,\"#ed7953\"],[0.7777777777777778,\"#fb9f3a\"],[0.8888888888888888,\"#fdca26\"],[1.0,\"#f0f921\"]],\"sequentialminus\":[[0.0,\"#0d0887\"],[0.1111111111111111,\"#46039f\"],[0.2222222222222222,\"#7201a8\"],[0.3333333333333333,\"#9c179e\"],[0.4444444444444444,\"#bd3786\"],[0.5555555555555556,\"#d8576b\"],[0.6666666666666666,\"#ed7953\"],[0.7777777777777778,\"#fb9f3a\"],[0.8888888888888888,\"#fdca26\"],[1.0,\"#f0f921\"]],\"diverging\":[[0,\"#8e0152\"],[0.1,\"#c51b7d\"],[0.2,\"#de77ae\"],[0.3,\"#f1b6da\"],[0.4,\"#fde0ef\"],[0.5,\"#f7f7f7\"],[0.6,\"#e6f5d0\"],[0.7,\"#b8e186\"],[0.8,\"#7fbc41\"],[0.9,\"#4d9221\"],[1,\"#276419\"]]},\"xaxis\":{\"gridcolor\":\"white\",\"linecolor\":\"white\",\"ticks\":\"\",\"title\":{\"standoff\":15},\"zerolinecolor\":\"white\",\"automargin\":true,\"zerolinewidth\":2},\"yaxis\":{\"gridcolor\":\"white\",\"linecolor\":\"white\",\"ticks\":\"\",\"title\":{\"standoff\":15},\"zerolinecolor\":\"white\",\"automargin\":true,\"zerolinewidth\":2},\"scene\":{\"xaxis\":{\"backgroundcolor\":\"#E5ECF6\",\"gridcolor\":\"white\",\"linecolor\":\"white\",\"showbackground\":true,\"ticks\":\"\",\"zerolinecolor\":\"white\",\"gridwidth\":2},\"yaxis\":{\"backgroundcolor\":\"#E5ECF6\",\"gridcolor\":\"white\",\"linecolor\":\"white\",\"showbackground\":true,\"ticks\":\"\",\"zerolinecolor\":\"white\",\"gridwidth\":2},\"zaxis\":{\"backgroundcolor\":\"#E5ECF6\",\"gridcolor\":\"white\",\"linecolor\":\"white\",\"showbackground\":true,\"ticks\":\"\",\"zerolinecolor\":\"white\",\"gridwidth\":2}},\"shapedefaults\":{\"line\":{\"color\":\"#2a3f5f\"}},\"annotationdefaults\":{\"arrowcolor\":\"#2a3f5f\",\"arrowhead\":0,\"arrowwidth\":1},\"geo\":{\"bgcolor\":\"white\",\"landcolor\":\"#E5ECF6\",\"subunitcolor\":\"white\",\"showland\":true,\"showlakes\":true,\"lakecolor\":\"white\"},\"title\":{\"x\":0.05},\"mapbox\":{\"style\":\"light\"}}},\"xaxis\":{\"anchor\":\"y\",\"domain\":[0.0,1.0],\"title\":{\"text\":\"Chunk Size\"}},\"yaxis\":{\"anchor\":\"x\",\"domain\":[0.0,1.0],\"title\":{\"text\":\"Runtime\"}},\"legend\":{\"title\":{\"text\":\"Layer Name\"},\"tracegroupgap\":0},\"title\":{\"text\":\"Runtime Breakdown by Chunk Size, Input Tokens = 1024, Output Tokens = 1024, Output Batch = 8\"},\"barmode\":\"group\"},                        {\"responsive\": true}                    ).then(function(){\n",
       "                            \n",
       "var gd = document.getElementById('20a2d83a-e04d-4ded-b877-015eb16502e2');\n",
       "var x = new MutationObserver(function (mutations, observer) {{\n",
       "        var display = window.getComputedStyle(gd).display;\n",
       "        if (!display || display === 'none') {{\n",
       "            console.log([gd, 'removed!']);\n",
       "            Plotly.purge(gd);\n",
       "            observer.disconnect();\n",
       "        }}\n",
       "}});\n",
       "\n",
       "// Listen for the removal of the full notebook cells\n",
       "var notebookContainer = gd.closest('#notebook-container');\n",
       "if (notebookContainer) {{\n",
       "    x.observe(notebookContainer, {childList: true});\n",
       "}}\n",
       "\n",
       "// Listen for the clearing of the current output cell\n",
       "var outputEl = gd.closest('.output');\n",
       "if (outputEl) {{\n",
       "    x.observe(outputEl, {childList: true});\n",
       "}}\n",
       "\n",
       "                        })                };                });            </script>        </div>"
      ]
     },
     "metadata": {},
     "output_type": "display_data"
    },
    {
     "data": {
      "application/vnd.jupyter.widget-view+json": {
       "model_id": "f38d093b98cc48b19b30b255fc1084ce",
       "version_major": 2,
       "version_minor": 0
      },
      "text/plain": [
       "interactive(children=(BoundedIntText(value=1024, description='Input Tokens:', max=20480, min=1, step=10), Boun…"
      ]
     },
     "metadata": {},
     "output_type": "display_data"
    },
    {
     "data": {
      "text/plain": [
       "<function __main__.interactive_chunked_model_runtime(input_tokens, output_tokens, output_batch)>"
      ]
     },
     "execution_count": 6,
     "metadata": {},
     "output_type": "execute_result"
    }
   ],
   "source": [
    "import ipywidgets as widgets\n",
    "from ipywidgets import interact\n",
    "\n",
    "def interactive_chunked_model_runtime(input_tokens, output_tokens, output_batch):\n",
    "    runtime_plot_df = pd.DataFrame(columns=['Layer Name', 'Runtime', 'Chunk Size'])\n",
    "    for chunk_size in range(256, 2049, 256):\n",
    "        summary_table, runtime_df = get_chunked_model_runtime(chunk_size=chunk_size, input_tokens=input_tokens, output_tokens=[output_tokens]*output_batch, system=system)\n",
    "        # display(summary_table)\n",
    "        # display(runtime_df)\n",
    "    \n",
    "        df = pd.DataFrame(\n",
    "            [['Embedding', runtime_df.Embedding, chunk_size],\n",
    "            ['Collective', runtime_df.Collective, chunk_size],\n",
    "            ['LA_layers', runtime_df.LA_layers, chunk_size], \n",
    "            ['QKVO_layers', runtime_df.QKVO_layers, chunk_size],\n",
    "            ['FFN_layers', runtime_df.FFN_layers, chunk_size]],\n",
    "            columns=['Layer Name', 'Runtime', 'Chunk Size'])\n",
    "        runtime_plot_df = pd.concat([runtime_plot_df, df])\n",
    "\n",
    "    import plotly.express as px\n",
    "\n",
    "    fig = px.bar(runtime_plot_df, x='Chunk Size', y='Runtime', color='Layer Name', barmode='group',\n",
    "                title='Runtime Breakdown by Chunk Size, Input Tokens = {}, Output Tokens = {}, Output Batch = {}'.format(input_tokens, output_tokens, output_batch))\n",
    "    fig.show()\n",
    "    # return fig\n",
    "    # display(runtime_plot_df)\n",
    "\n",
    "input_tokens_slider = widgets.BoundedIntText(min=1, max=20480, step=10, value=1024, description='Input Tokens:')\n",
    "output_tokens_slider = widgets.BoundedIntText(min=1, max=20480, step=10, value=1024, description='Output Tokens:')\n",
    "batch_slider = widgets.BoundedIntText(min=1, max=512, step=8, value=8, description='Output Batch:')\n",
    "\n",
    "interact(interactive_chunked_model_runtime, input_tokens=input_tokens_slider, output_tokens=output_tokens_slider, output_batch=batch_slider)"
   ]
  },
  {
   "cell_type": "code",
   "execution_count": 7,
   "metadata": {},
   "outputs": [],
   "source": [
    "summary_table = get_chunked_model_runtime()"
   ]
  },
  {
   "cell_type": "code",
   "execution_count": 8,
   "metadata": {},
   "outputs": [],
   "source": [
    "model = create_full_chunked_model(512, 'gpt-3', 512, [1024]*250, tensor_parallel=8)\n",
    "model_df = get_model_df(model, system, batch_size=1,  model_characterstics = False)\n",
    "summary_table = get_summary_table(model_df, model_characterstics = False)\n",
    "runtime_df = get_runtime_breakdown(model_df) "
   ]
  },
  {
   "cell_type": "code",
   "execution_count": 9,
   "metadata": {},
   "outputs": [
    {
     "data": {
      "text/html": [
       "<div>\n",
       "<style scoped>\n",
       "    .dataframe tbody tr th:only-of-type {\n",
       "        vertical-align: middle;\n",
       "    }\n",
       "\n",
       "    .dataframe tbody tr th {\n",
       "        vertical-align: top;\n",
       "    }\n",
       "\n",
       "    .dataframe thead th {\n",
       "        text-align: right;\n",
       "    }\n",
       "</style>\n",
       "<table border=\"1\" class=\"dataframe\">\n",
       "  <thead>\n",
       "    <tr style=\"text-align: right;\">\n",
       "      <th></th>\n",
       "      <th>MACs (MFLOP)</th>\n",
       "      <th>Total Data (MB)</th>\n",
       "      <th>Total Weights (MB)</th>\n",
       "      <th>Unused Weights (MB)</th>\n",
       "      <th>KV Cache (MB)</th>\n",
       "      <th>On-chip Memory Footprint (MB)</th>\n",
       "      <th>Latency (msec)</th>\n",
       "      <th>Cycles</th>\n",
       "      <th>Attn Latency (msec)</th>\n",
       "      <th>Linear Latency (msec)</th>\n",
       "      <th>Comm Latency (msec)</th>\n",
       "    </tr>\n",
       "  </thead>\n",
       "  <tbody>\n",
       "    <tr>\n",
       "      <th>0</th>\n",
       "      <td>2.265525e+07</td>\n",
       "      <td>97434.75666</td>\n",
       "      <td>20883.28125</td>\n",
       "      <td>0.0</td>\n",
       "      <td>72217.6875</td>\n",
       "      <td>82.708984</td>\n",
       "      <td>47.455851</td>\n",
       "      <td>4.745585e+07</td>\n",
       "      <td>25.286364</td>\n",
       "      <td>7.988627</td>\n",
       "      <td>14.18086</td>\n",
       "    </tr>\n",
       "  </tbody>\n",
       "</table>\n",
       "</div>"
      ],
      "text/plain": [
       "   MACs (MFLOP)  Total Data (MB)  Total Weights (MB)  Unused Weights (MB)  \\\n",
       "0  2.265525e+07      97434.75666         20883.28125                  0.0   \n",
       "\n",
       "   KV Cache (MB)  On-chip Memory Footprint (MB)  Latency (msec)        Cycles  \\\n",
       "0     72217.6875                      82.708984       47.455851  4.745585e+07   \n",
       "\n",
       "   Attn Latency (msec)  Linear Latency (msec)  Comm Latency (msec)  \n",
       "0            25.286364               7.988627             14.18086  "
      ]
     },
     "execution_count": 9,
     "metadata": {},
     "output_type": "execute_result"
    }
   ],
   "source": [
    "summary_table"
   ]
  },
  {
   "cell_type": "code",
   "execution_count": 10,
   "metadata": {},
   "outputs": [
    {
     "data": {
      "text/html": [
       "<div>\n",
       "<style scoped>\n",
       "    .dataframe tbody tr th:only-of-type {\n",
       "        vertical-align: middle;\n",
       "    }\n",
       "\n",
       "    .dataframe tbody tr th {\n",
       "        vertical-align: top;\n",
       "    }\n",
       "\n",
       "    .dataframe thead th {\n",
       "        text-align: right;\n",
       "    }\n",
       "</style>\n",
       "<table border=\"1\" class=\"dataframe\">\n",
       "  <thead>\n",
       "    <tr style=\"text-align: right;\">\n",
       "      <th></th>\n",
       "      <th>MACs (MFLOP)</th>\n",
       "      <th>Total Data (MB)</th>\n",
       "      <th>Total Weights (MB)</th>\n",
       "      <th>Unused Weights (MB)</th>\n",
       "      <th>KV Cache (MB)</th>\n",
       "      <th>On-chip Memory Footprint (MB)</th>\n",
       "      <th>Latency (msec)</th>\n",
       "      <th>Cycles</th>\n",
       "      <th>Attn Latency (msec)</th>\n",
       "      <th>Linear Latency (msec)</th>\n",
       "      <th>Comm Latency (msec)</th>\n",
       "    </tr>\n",
       "  </thead>\n",
       "  <tbody>\n",
       "    <tr>\n",
       "      <th>0</th>\n",
       "      <td>2.265525e+07</td>\n",
       "      <td>97434.75666</td>\n",
       "      <td>20883.28125</td>\n",
       "      <td>0.0</td>\n",
       "      <td>72217.6875</td>\n",
       "      <td>82.708984</td>\n",
       "      <td>47.455851</td>\n",
       "      <td>4.745585e+07</td>\n",
       "      <td>25.286364</td>\n",
       "      <td>7.988627</td>\n",
       "      <td>14.18086</td>\n",
       "    </tr>\n",
       "  </tbody>\n",
       "</table>\n",
       "</div>"
      ],
      "text/plain": [
       "   MACs (MFLOP)  Total Data (MB)  Total Weights (MB)  Unused Weights (MB)  \\\n",
       "0  2.265525e+07      97434.75666         20883.28125                  0.0   \n",
       "\n",
       "   KV Cache (MB)  On-chip Memory Footprint (MB)  Latency (msec)        Cycles  \\\n",
       "0     72217.6875                      82.708984       47.455851  4.745585e+07   \n",
       "\n",
       "   Attn Latency (msec)  Linear Latency (msec)  Comm Latency (msec)  \n",
       "0            25.286364               7.988627             14.18086  "
      ]
     },
     "execution_count": 10,
     "metadata": {},
     "output_type": "execute_result"
    }
   ],
   "source": [
    "summary_table"
   ]
  },
  {
   "cell_type": "code",
   "execution_count": 11,
   "metadata": {},
   "outputs": [],
   "source": [
    "model = create_full_decode_model(1024, 'gpt-3', output_gen_tokens=1, tensor_parallel=8)\n",
    "model_df = get_model_df(model, system, batch_size=250,  model_characterstics = False)\n",
    "summary_table = get_summary_table(model_df, model_characterstics = False)\n",
    "runtime_df = get_runtime_breakdown(model_df) "
   ]
  },
  {
   "cell_type": "code",
   "execution_count": 12,
   "metadata": {},
   "outputs": [
    {
     "data": {
      "text/html": [
       "<div>\n",
       "<style scoped>\n",
       "    .dataframe tbody tr th:only-of-type {\n",
       "        vertical-align: middle;\n",
       "    }\n",
       "\n",
       "    .dataframe tbody tr th {\n",
       "        vertical-align: top;\n",
       "    }\n",
       "\n",
       "    .dataframe thead th {\n",
       "        text-align: right;\n",
       "    }\n",
       "</style>\n",
       "<table border=\"1\" class=\"dataframe\">\n",
       "  <thead>\n",
       "    <tr style=\"text-align: right;\">\n",
       "      <th></th>\n",
       "      <th>MACs (MFLOP)</th>\n",
       "      <th>Total Data (MB)</th>\n",
       "      <th>Total Weights (MB)</th>\n",
       "      <th>Unused Weights (MB)</th>\n",
       "      <th>KV Cache (MB)</th>\n",
       "      <th>On-chip Memory Footprint (MB)</th>\n",
       "      <th>Latency (msec)</th>\n",
       "      <th>Cycles</th>\n",
       "      <th>Attn Latency (msec)</th>\n",
       "      <th>Linear Latency (msec)</th>\n",
       "      <th>Comm Latency (msec)</th>\n",
       "    </tr>\n",
       "  </thead>\n",
       "  <tbody>\n",
       "    <tr>\n",
       "      <th>0</th>\n",
       "      <td>1.106139e+07</td>\n",
       "      <td>95134.930351</td>\n",
       "      <td>20809.640625</td>\n",
       "      <td>0.0</td>\n",
       "      <td>72070.3125</td>\n",
       "      <td>378.295898</td>\n",
       "      <td>42.698226</td>\n",
       "      <td>4.269823e+07</td>\n",
       "      <td>25.183851</td>\n",
       "      <td>7.364275</td>\n",
       "      <td>10.150099</td>\n",
       "    </tr>\n",
       "  </tbody>\n",
       "</table>\n",
       "</div>"
      ],
      "text/plain": [
       "   MACs (MFLOP)  Total Data (MB)  Total Weights (MB)  Unused Weights (MB)  \\\n",
       "0  1.106139e+07     95134.930351        20809.640625                  0.0   \n",
       "\n",
       "   KV Cache (MB)  On-chip Memory Footprint (MB)  Latency (msec)        Cycles  \\\n",
       "0     72070.3125                     378.295898       42.698226  4.269823e+07   \n",
       "\n",
       "   Attn Latency (msec)  Linear Latency (msec)  Comm Latency (msec)  \n",
       "0            25.183851               7.364275            10.150099  "
      ]
     },
     "execution_count": 12,
     "metadata": {},
     "output_type": "execute_result"
    }
   ],
   "source": [
    "summary_table"
   ]
  },
  {
   "cell_type": "code",
   "execution_count": 13,
   "metadata": {},
   "outputs": [
    {
     "data": {
      "text/html": [
       "<style type=\"text/css\">\n",
       "#T_28177_row0_col3 {\n",
       "  background-color: #832804;\n",
       "  color: #f1f1f1;\n",
       "}\n",
       "#T_28177_row0_col6 {\n",
       "  background-color: #5061aa;\n",
       "  color: #f1f1f1;\n",
       "}\n",
       "#T_28177_row0_col7, #T_28177_row1_col7, #T_28177_row2_col6, #T_28177_row2_col7, #T_28177_row3_col7, #T_28177_row4_col7, #T_28177_row4_col8, #T_28177_row5_col7, #T_28177_row7_col7, #T_28177_row8_col7, #T_28177_row10_col7 {\n",
       "  background-color: #9e0142;\n",
       "  color: #f1f1f1;\n",
       "}\n",
       "#T_28177_row0_col8, #T_28177_row1_col6, #T_28177_row2_col8, #T_28177_row3_col8, #T_28177_row4_col6, #T_28177_row5_col6, #T_28177_row6_col6, #T_28177_row6_col7, #T_28177_row6_col8, #T_28177_row7_col8, #T_28177_row8_col6, #T_28177_row9_col6, #T_28177_row9_col7, #T_28177_row9_col8, #T_28177_row10_col8, #T_28177_row11_col6, #T_28177_row11_col7, #T_28177_row11_col8 {\n",
       "  background-color: #5e4fa2;\n",
       "  color: #f1f1f1;\n",
       "}\n",
       "#T_28177_row0_col9 {\n",
       "  background-color: #d9e7f5;\n",
       "  color: #000000;\n",
       "}\n",
       "#T_28177_row0_col11, #T_28177_row1_col11, #T_28177_row2_col11, #T_28177_row3_col11, #T_28177_row4_col11, #T_28177_row5_col11, #T_28177_row6_col12, #T_28177_row7_col11, #T_28177_row8_col11, #T_28177_row9_col12, #T_28177_row10_col11, #T_28177_row11_col12 {\n",
       "  background-color: green;\n",
       "}\n",
       "#T_28177_row0_col13, #T_28177_row1_col13, #T_28177_row2_col13, #T_28177_row3_col13, #T_28177_row4_col13, #T_28177_row5_col13, #T_28177_row7_col13, #T_28177_row8_col13, #T_28177_row10_col13 {\n",
       "  color: red;\n",
       "}\n",
       "#T_28177_row0_col15 {\n",
       "  background-color: #dae8f6;\n",
       "  color: #000000;\n",
       "}\n",
       "#T_28177_row1_col3, #T_28177_row3_col3 {\n",
       "  background-color: #fff5ea;\n",
       "  color: #000000;\n",
       "}\n",
       "#T_28177_row1_col8, #T_28177_row3_col6 {\n",
       "  background-color: #5c51a3;\n",
       "  color: #f1f1f1;\n",
       "}\n",
       "#T_28177_row1_col9, #T_28177_row1_col15, #T_28177_row3_col9, #T_28177_row3_col15 {\n",
       "  background-color: #08306b;\n",
       "  color: #f1f1f1;\n",
       "}\n",
       "#T_28177_row2_col3, #T_28177_row4_col3, #T_28177_row6_col3, #T_28177_row9_col3, #T_28177_row11_col3 {\n",
       "  background-color: #fff5eb;\n",
       "  color: #000000;\n",
       "}\n",
       "#T_28177_row2_col9, #T_28177_row2_col15, #T_28177_row4_col9, #T_28177_row4_col15, #T_28177_row6_col9, #T_28177_row9_col9, #T_28177_row10_col9, #T_28177_row10_col15, #T_28177_row11_col9, #T_28177_row11_col15 {\n",
       "  background-color: #f7fbff;\n",
       "  color: #000000;\n",
       "}\n",
       "#T_28177_row5_col3 {\n",
       "  background-color: #9f3303;\n",
       "  color: #f1f1f1;\n",
       "}\n",
       "#T_28177_row5_col8 {\n",
       "  background-color: #49a2b2;\n",
       "  color: #f1f1f1;\n",
       "}\n",
       "#T_28177_row5_col9 {\n",
       "  background-color: #ecf4fb;\n",
       "  color: #000000;\n",
       "}\n",
       "#T_28177_row5_col15 {\n",
       "  background-color: #eef5fc;\n",
       "  color: #000000;\n",
       "}\n",
       "#T_28177_row6_col13, #T_28177_row9_col13, #T_28177_row11_col13 {\n",
       "  color: blue;\n",
       "}\n",
       "#T_28177_row6_col15, #T_28177_row9_col15 {\n",
       "  background-color: #94c4df;\n",
       "  color: #000000;\n",
       "}\n",
       "#T_28177_row7_col3, #T_28177_row8_col3, #T_28177_row10_col3 {\n",
       "  background-color: #7f2704;\n",
       "  color: #f1f1f1;\n",
       "}\n",
       "#T_28177_row7_col6, #T_28177_row8_col8, #T_28177_row10_col6 {\n",
       "  background-color: #555aa7;\n",
       "  color: #f1f1f1;\n",
       "}\n",
       "#T_28177_row7_col9, #T_28177_row8_col9 {\n",
       "  background-color: #d0e1f2;\n",
       "  color: #000000;\n",
       "}\n",
       "#T_28177_row7_col15, #T_28177_row8_col15 {\n",
       "  background-color: #d1e2f3;\n",
       "  color: #000000;\n",
       "}\n",
       "</style>\n",
       "<table id=\"T_28177\">\n",
       "  <thead>\n",
       "    <tr>\n",
       "      <th class=\"blank level0\" >&nbsp;</th>\n",
       "      <th id=\"T_28177_level0_col0\" class=\"col_heading level0 col0\" >Layer Name</th>\n",
       "      <th id=\"T_28177_level0_col1\" class=\"col_heading level0 col1\" >Op Type</th>\n",
       "      <th id=\"T_28177_level0_col2\" class=\"col_heading level0 col2\" >Dimension</th>\n",
       "      <th id=\"T_28177_level0_col3\" class=\"col_heading level0 col3\" >Op Intensity</th>\n",
       "      <th id=\"T_28177_level0_col4\" class=\"col_heading level0 col4\" >Latency (msec)</th>\n",
       "      <th id=\"T_28177_level0_col5\" class=\"col_heading level0 col5\" >Num ops (MFLOP)</th>\n",
       "      <th id=\"T_28177_level0_col6\" class=\"col_heading level0 col6\" >Input_a (MB)</th>\n",
       "      <th id=\"T_28177_level0_col7\" class=\"col_heading level0 col7\" >Input_w (MB)</th>\n",
       "      <th id=\"T_28177_level0_col8\" class=\"col_heading level0 col8\" >Output (MB)</th>\n",
       "      <th id=\"T_28177_level0_col9\" class=\"col_heading level0 col9\" >Total Data (MB)</th>\n",
       "      <th id=\"T_28177_level0_col10\" class=\"col_heading level0 col10\" >Compute time (msec)</th>\n",
       "      <th id=\"T_28177_level0_col11\" class=\"col_heading level0 col11\" >Memory time (msec)</th>\n",
       "      <th id=\"T_28177_level0_col12\" class=\"col_heading level0 col12\" >Communication time (msec)</th>\n",
       "      <th id=\"T_28177_level0_col13\" class=\"col_heading level0 col13\" >Bound</th>\n",
       "      <th id=\"T_28177_level0_col14\" class=\"col_heading level0 col14\" >C/M ratio</th>\n",
       "      <th id=\"T_28177_level0_col15\" class=\"col_heading level0 col15\" >Cycles</th>\n",
       "      <th id=\"T_28177_level0_col16\" class=\"col_heading level0 col16\" >% of total time</th>\n",
       "      <th id=\"T_28177_level0_col17\" class=\"col_heading level0 col17\" >Throughput (Tflops)</th>\n",
       "      <th id=\"T_28177_level0_col18\" class=\"col_heading level0 col18\" >Compute cycle</th>\n",
       "      <th id=\"T_28177_level0_col19\" class=\"col_heading level0 col19\" >Memory cycle</th>\n",
       "      <th id=\"T_28177_level0_col20\" class=\"col_heading level0 col20\" >C Effcy</th>\n",
       "      <th id=\"T_28177_level0_col21\" class=\"col_heading level0 col21\" >Communication cycle</th>\n",
       "    </tr>\n",
       "  </thead>\n",
       "  <tbody>\n",
       "    <tr>\n",
       "      <th id=\"T_28177_level0_row0\" class=\"row_heading level0 row0\" >0</th>\n",
       "      <td id=\"T_28177_row0_col0\" class=\"data row0 col0\" >QKV</td>\n",
       "      <td id=\"T_28177_row0_col1\" class=\"data row0 col1\" >GEMM</td>\n",
       "      <td id=\"T_28177_row0_col2\" class=\"data row0 col2\" >[((250, 12288, 1), (4608, 12288), (250, 4608, 1))]</td>\n",
       "      <td id=\"T_28177_row0_col3\" class=\"data row0 col3\" >465.290049</td>\n",
       "      <td id=\"T_28177_row0_col4\" class=\"data row0 col4\" >1.834262</td>\n",
       "      <td id=\"T_28177_row0_col5\" class=\"data row0 col5\" >2717908.992000</td>\n",
       "      <td id=\"T_28177_row0_col6\" class=\"data row0 col6\" >281.250000</td>\n",
       "      <td id=\"T_28177_row0_col7\" class=\"data row0 col7\" >5184.000000</td>\n",
       "      <td id=\"T_28177_row0_col8\" class=\"data row0 col8\" >105.468750</td>\n",
       "      <td id=\"T_28177_row0_col9\" class=\"data row0 col9\" >5570.718750</td>\n",
       "      <td id=\"T_28177_row0_col10\" class=\"data row0 col10\" >0.849347</td>\n",
       "      <td id=\"T_28177_row0_col11\" class=\"data row0 col11\" >1.834262</td>\n",
       "      <td id=\"T_28177_row0_col12\" class=\"data row0 col12\" >0.000000</td>\n",
       "      <td id=\"T_28177_row0_col13\" class=\"data row0 col13\" >Memory</td>\n",
       "      <td id=\"T_28177_row0_col14\" class=\"data row0 col14\" >0.463045</td>\n",
       "      <td id=\"T_28177_row0_col15\" class=\"data row0 col15\" >1834261.757987</td>\n",
       "      <td id=\"T_28177_row0_col16\" class=\"data row0 col16\" >4.295873</td>\n",
       "      <td id=\"T_28177_row0_col17\" class=\"data row0 col17\" >1481.745438</td>\n",
       "      <td id=\"T_28177_row0_col18\" class=\"data row0 col18\" >849346.560000</td>\n",
       "      <td id=\"T_28177_row0_col19\" class=\"data row0 col19\" >1834261.757987</td>\n",
       "      <td id=\"T_28177_row0_col20\" class=\"data row0 col20\" >0.800000</td>\n",
       "      <td id=\"T_28177_row0_col21\" class=\"data row0 col21\" >0.000000</td>\n",
       "    </tr>\n",
       "    <tr>\n",
       "      <th id=\"T_28177_level0_row1\" class=\"row_heading level0 row1\" >1</th>\n",
       "      <td id=\"T_28177_row1_col0\" class=\"data row1 col0\" >Logit Pre</td>\n",
       "      <td id=\"T_28177_row1_col1\" class=\"data row1 col1\" >Logit</td>\n",
       "      <td id=\"T_28177_row1_col2\" class=\"data row1 col2\" >((250, 12, 1, 128), (250, 12, 1024, 128), (250, 12, 1, 1024))</td>\n",
       "      <td id=\"T_28177_row1_col3\" class=\"data row1 col3\" >1.982575</td>\n",
       "      <td id=\"T_28177_row1_col4\" class=\"data row1 col4\" >12.577261</td>\n",
       "      <td id=\"T_28177_row1_col5\" class=\"data row1 col5\" >75497.472000</td>\n",
       "      <td id=\"T_28177_row1_col6\" class=\"data row1 col6\" >35.156250</td>\n",
       "      <td id=\"T_28177_row1_col7\" class=\"data row1 col7\" >36000.000000</td>\n",
       "      <td id=\"T_28177_row1_col8\" class=\"data row1 col8\" >281.250000</td>\n",
       "      <td id=\"T_28177_row1_col9\" class=\"data row1 col9\" >36316.406250</td>\n",
       "      <td id=\"T_28177_row1_col10\" class=\"data row1 col10\" >0.023593</td>\n",
       "      <td id=\"T_28177_row1_col11\" class=\"data row1 col11\" >12.577261</td>\n",
       "      <td id=\"T_28177_row1_col12\" class=\"data row1 col12\" >0.000000</td>\n",
       "      <td id=\"T_28177_row1_col13\" class=\"data row1 col13\" >Memory</td>\n",
       "      <td id=\"T_28177_row1_col14\" class=\"data row1 col14\" >0.001876</td>\n",
       "      <td id=\"T_28177_row1_col15\" class=\"data row1 col15\" >12577261.243548</td>\n",
       "      <td id=\"T_28177_row1_col16\" class=\"data row1 col16\" >29.456168</td>\n",
       "      <td id=\"T_28177_row1_col17\" class=\"data row1 col17\" >6.002696</td>\n",
       "      <td id=\"T_28177_row1_col18\" class=\"data row1 col18\" >23592.960000</td>\n",
       "      <td id=\"T_28177_row1_col19\" class=\"data row1 col19\" >12577261.243548</td>\n",
       "      <td id=\"T_28177_row1_col20\" class=\"data row1 col20\" >0.800000</td>\n",
       "      <td id=\"T_28177_row1_col21\" class=\"data row1 col21\" >0.000000</td>\n",
       "    </tr>\n",
       "    <tr>\n",
       "      <th id=\"T_28177_level0_row2\" class=\"row_heading level0 row2\" >2</th>\n",
       "      <td id=\"T_28177_row2_col0\" class=\"data row2 col0\" >Logit Suf</td>\n",
       "      <td id=\"T_28177_row2_col1\" class=\"data row2 col1\" >Logit</td>\n",
       "      <td id=\"T_28177_row2_col2\" class=\"data row2 col2\" >((250, 12, 1, 128), (250, 12, 1, 128), (250, 12, 1, 1))</td>\n",
       "      <td id=\"T_28177_row2_col3\" class=\"data row2 col3\" >0.996109</td>\n",
       "      <td id=\"T_28177_row2_col4\" class=\"data row2 col4\" >0.014664</td>\n",
       "      <td id=\"T_28177_row2_col5\" class=\"data row2 col5\" >73.728000</td>\n",
       "      <td id=\"T_28177_row2_col6\" class=\"data row2 col6\" >35.156250</td>\n",
       "      <td id=\"T_28177_row2_col7\" class=\"data row2 col7\" >35.156250</td>\n",
       "      <td id=\"T_28177_row2_col8\" class=\"data row2 col8\" >0.274658</td>\n",
       "      <td id=\"T_28177_row2_col9\" class=\"data row2 col9\" >70.587158</td>\n",
       "      <td id=\"T_28177_row2_col10\" class=\"data row2 col10\" >0.000023</td>\n",
       "      <td id=\"T_28177_row2_col11\" class=\"data row2 col11\" >0.014664</td>\n",
       "      <td id=\"T_28177_row2_col12\" class=\"data row2 col12\" >0.000000</td>\n",
       "      <td id=\"T_28177_row2_col13\" class=\"data row2 col13\" >Memory</td>\n",
       "      <td id=\"T_28177_row2_col14\" class=\"data row2 col14\" >0.001571</td>\n",
       "      <td id=\"T_28177_row2_col15\" class=\"data row2 col15\" >14664.339168</td>\n",
       "      <td id=\"T_28177_row2_col16\" class=\"data row2 col16\" >0.034344</td>\n",
       "      <td id=\"T_28177_row2_col17\" class=\"data row2 col17\" >5.027707</td>\n",
       "      <td id=\"T_28177_row2_col18\" class=\"data row2 col18\" >23.040000</td>\n",
       "      <td id=\"T_28177_row2_col19\" class=\"data row2 col19\" >14664.339168</td>\n",
       "      <td id=\"T_28177_row2_col20\" class=\"data row2 col20\" >0.800000</td>\n",
       "      <td id=\"T_28177_row2_col21\" class=\"data row2 col21\" >0.000000</td>\n",
       "    </tr>\n",
       "    <tr>\n",
       "      <th id=\"T_28177_level0_row3\" class=\"row_heading level0 row3\" >3</th>\n",
       "      <td id=\"T_28177_row3_col0\" class=\"data row3 col0\" >Attend Pre</td>\n",
       "      <td id=\"T_28177_row3_col1\" class=\"data row3 col1\" >Attend</td>\n",
       "      <td id=\"T_28177_row3_col2\" class=\"data row3 col2\" >((250, 12, 1, 1024), (250, 12, 1024, 128), (250, 12, 1, 128))</td>\n",
       "      <td id=\"T_28177_row3_col3\" class=\"data row3 col3\" >1.982575</td>\n",
       "      <td id=\"T_28177_row3_col4\" class=\"data row3 col4\" >12.577261</td>\n",
       "      <td id=\"T_28177_row3_col5\" class=\"data row3 col5\" >75497.472000</td>\n",
       "      <td id=\"T_28177_row3_col6\" class=\"data row3 col6\" >281.250000</td>\n",
       "      <td id=\"T_28177_row3_col7\" class=\"data row3 col7\" >36000.000000</td>\n",
       "      <td id=\"T_28177_row3_col8\" class=\"data row3 col8\" >35.156250</td>\n",
       "      <td id=\"T_28177_row3_col9\" class=\"data row3 col9\" >36316.406250</td>\n",
       "      <td id=\"T_28177_row3_col10\" class=\"data row3 col10\" >0.023593</td>\n",
       "      <td id=\"T_28177_row3_col11\" class=\"data row3 col11\" >12.577261</td>\n",
       "      <td id=\"T_28177_row3_col12\" class=\"data row3 col12\" >0.000000</td>\n",
       "      <td id=\"T_28177_row3_col13\" class=\"data row3 col13\" >Memory</td>\n",
       "      <td id=\"T_28177_row3_col14\" class=\"data row3 col14\" >0.001876</td>\n",
       "      <td id=\"T_28177_row3_col15\" class=\"data row3 col15\" >12577261.243548</td>\n",
       "      <td id=\"T_28177_row3_col16\" class=\"data row3 col16\" >29.456168</td>\n",
       "      <td id=\"T_28177_row3_col17\" class=\"data row3 col17\" >6.002696</td>\n",
       "      <td id=\"T_28177_row3_col18\" class=\"data row3 col18\" >23592.960000</td>\n",
       "      <td id=\"T_28177_row3_col19\" class=\"data row3 col19\" >12577261.243548</td>\n",
       "      <td id=\"T_28177_row3_col20\" class=\"data row3 col20\" >0.800000</td>\n",
       "      <td id=\"T_28177_row3_col21\" class=\"data row3 col21\" >0.000000</td>\n",
       "    </tr>\n",
       "    <tr>\n",
       "      <th id=\"T_28177_level0_row4\" class=\"row_heading level0 row4\" >4</th>\n",
       "      <td id=\"T_28177_row4_col0\" class=\"data row4 col0\" >Attend Suf</td>\n",
       "      <td id=\"T_28177_row4_col1\" class=\"data row4 col1\" >Attend</td>\n",
       "      <td id=\"T_28177_row4_col2\" class=\"data row4 col2\" >((250, 12, 1, 1), (250, 12, 1, 128), (250, 12, 1, 128))</td>\n",
       "      <td id=\"T_28177_row4_col3\" class=\"data row4 col3\" >0.996109</td>\n",
       "      <td id=\"T_28177_row4_col4\" class=\"data row4 col4\" >0.014664</td>\n",
       "      <td id=\"T_28177_row4_col5\" class=\"data row4 col5\" >73.728000</td>\n",
       "      <td id=\"T_28177_row4_col6\" class=\"data row4 col6\" >0.274658</td>\n",
       "      <td id=\"T_28177_row4_col7\" class=\"data row4 col7\" >35.156250</td>\n",
       "      <td id=\"T_28177_row4_col8\" class=\"data row4 col8\" >35.156250</td>\n",
       "      <td id=\"T_28177_row4_col9\" class=\"data row4 col9\" >70.587158</td>\n",
       "      <td id=\"T_28177_row4_col10\" class=\"data row4 col10\" >0.000023</td>\n",
       "      <td id=\"T_28177_row4_col11\" class=\"data row4 col11\" >0.014664</td>\n",
       "      <td id=\"T_28177_row4_col12\" class=\"data row4 col12\" >0.000000</td>\n",
       "      <td id=\"T_28177_row4_col13\" class=\"data row4 col13\" >Memory</td>\n",
       "      <td id=\"T_28177_row4_col14\" class=\"data row4 col14\" >0.001571</td>\n",
       "      <td id=\"T_28177_row4_col15\" class=\"data row4 col15\" >14664.339168</td>\n",
       "      <td id=\"T_28177_row4_col16\" class=\"data row4 col16\" >0.034344</td>\n",
       "      <td id=\"T_28177_row4_col17\" class=\"data row4 col17\" >5.027707</td>\n",
       "      <td id=\"T_28177_row4_col18\" class=\"data row4 col18\" >23.040000</td>\n",
       "      <td id=\"T_28177_row4_col19\" class=\"data row4 col19\" >14664.339168</td>\n",
       "      <td id=\"T_28177_row4_col20\" class=\"data row4 col20\" >0.800000</td>\n",
       "      <td id=\"T_28177_row4_col21\" class=\"data row4 col21\" >0.000000</td>\n",
       "    </tr>\n",
       "    <tr>\n",
       "      <th id=\"T_28177_level0_row5\" class=\"row_heading level0 row5\" >5</th>\n",
       "      <td id=\"T_28177_row5_col0\" class=\"data row5 col0\" >Out Proj</td>\n",
       "      <td id=\"T_28177_row5_col1\" class=\"data row5 col1\" >GEMM</td>\n",
       "      <td id=\"T_28177_row5_col2\" class=\"data row5 col2\" >[((250, 1536, 1), (12288, 1536), (250, 12288, 1))]</td>\n",
       "      <td id=\"T_28177_row5_col3\" class=\"data row5 col3\" >422.616591</td>\n",
       "      <td id=\"T_28177_row5_col4\" class=\"data row5 col4\" >0.624136</td>\n",
       "      <td id=\"T_28177_row5_col5\" class=\"data row5 col5\" >905969.664000</td>\n",
       "      <td id=\"T_28177_row5_col6\" class=\"data row5 col6\" >35.156250</td>\n",
       "      <td id=\"T_28177_row5_col7\" class=\"data row5 col7\" >1728.000000</td>\n",
       "      <td id=\"T_28177_row5_col8\" class=\"data row5 col8\" >281.250000</td>\n",
       "      <td id=\"T_28177_row5_col9\" class=\"data row5 col9\" >2044.406250</td>\n",
       "      <td id=\"T_28177_row5_col10\" class=\"data row5 col10\" >0.283116</td>\n",
       "      <td id=\"T_28177_row5_col11\" class=\"data row5 col11\" >0.624136</td>\n",
       "      <td id=\"T_28177_row5_col12\" class=\"data row5 col12\" >0.000000</td>\n",
       "      <td id=\"T_28177_row5_col13\" class=\"data row5 col13\" >Memory</td>\n",
       "      <td id=\"T_28177_row5_col14\" class=\"data row5 col14\" >0.453612</td>\n",
       "      <td id=\"T_28177_row5_col15\" class=\"data row5 col15\" >624136.243548</td>\n",
       "      <td id=\"T_28177_row5_col16\" class=\"data row5 col16\" >1.461738</td>\n",
       "      <td id=\"T_28177_row5_col17\" class=\"data row5 col17\" >1451.557530</td>\n",
       "      <td id=\"T_28177_row5_col18\" class=\"data row5 col18\" >283115.520000</td>\n",
       "      <td id=\"T_28177_row5_col19\" class=\"data row5 col19\" >624136.243548</td>\n",
       "      <td id=\"T_28177_row5_col20\" class=\"data row5 col20\" >0.800000</td>\n",
       "      <td id=\"T_28177_row5_col21\" class=\"data row5 col21\" >0.000000</td>\n",
       "    </tr>\n",
       "    <tr>\n",
       "      <th id=\"T_28177_level0_row6\" class=\"row_heading level0 row6\" >6</th>\n",
       "      <td id=\"T_28177_row6_col0\" class=\"data row6 col0\" >MHA AR</td>\n",
       "      <td id=\"T_28177_row6_col1\" class=\"data row6 col1\" >Sync</td>\n",
       "      <td id=\"T_28177_row6_col2\" class=\"data row6 col2\" >(250, 1, 12288)</td>\n",
       "      <td id=\"T_28177_row6_col3\" class=\"data row6 col3\" >0.000000</td>\n",
       "      <td id=\"T_28177_row6_col4\" class=\"data row6 col4\" >5.045546</td>\n",
       "      <td id=\"T_28177_row6_col5\" class=\"data row6 col5\" >0.000000</td>\n",
       "      <td id=\"T_28177_row6_col6\" class=\"data row6 col6\" >0.000000</td>\n",
       "      <td id=\"T_28177_row6_col7\" class=\"data row6 col7\" >0.000000</td>\n",
       "      <td id=\"T_28177_row6_col8\" class=\"data row6 col8\" >0.000000</td>\n",
       "      <td id=\"T_28177_row6_col9\" class=\"data row6 col9\" >0.000000</td>\n",
       "      <td id=\"T_28177_row6_col10\" class=\"data row6 col10\" >0.000000</td>\n",
       "      <td id=\"T_28177_row6_col11\" class=\"data row6 col11\" >0.000000</td>\n",
       "      <td id=\"T_28177_row6_col12\" class=\"data row6 col12\" >5.045546</td>\n",
       "      <td id=\"T_28177_row6_col13\" class=\"data row6 col13\" >Collective</td>\n",
       "      <td id=\"T_28177_row6_col14\" class=\"data row6 col14\" >0.000000</td>\n",
       "      <td id=\"T_28177_row6_col15\" class=\"data row6 col15\" >5045546.310425</td>\n",
       "      <td id=\"T_28177_row6_col16\" class=\"data row6 col16\" >11.816759</td>\n",
       "      <td id=\"T_28177_row6_col17\" class=\"data row6 col17\" >0.000000</td>\n",
       "      <td id=\"T_28177_row6_col18\" class=\"data row6 col18\" >0.000000</td>\n",
       "      <td id=\"T_28177_row6_col19\" class=\"data row6 col19\" >0.000000</td>\n",
       "      <td id=\"T_28177_row6_col20\" class=\"data row6 col20\" >0.800000</td>\n",
       "      <td id=\"T_28177_row6_col21\" class=\"data row6 col21\" >5045546.310425</td>\n",
       "    </tr>\n",
       "    <tr>\n",
       "      <th id=\"T_28177_level0_row7\" class=\"row_heading level0 row7\" >7</th>\n",
       "      <td id=\"T_28177_row7_col0\" class=\"data row7 col0\" >up+gate</td>\n",
       "      <td id=\"T_28177_row7_col1\" class=\"data row7 col1\" >GEMM</td>\n",
       "      <td id=\"T_28177_row7_col2\" class=\"data row7 col2\" >[((250, 12288, 1), (6144, 12288), (250, 6144, 1))]</td>\n",
       "      <td id=\"T_28177_row7_col3\" class=\"data row7 col3\" >471.237920</td>\n",
       "      <td id=\"T_28177_row7_col4\" class=\"data row7 col4\" >2.439325</td>\n",
       "      <td id=\"T_28177_row7_col5\" class=\"data row7 col5\" >3623878.656000</td>\n",
       "      <td id=\"T_28177_row7_col6\" class=\"data row7 col6\" >281.250000</td>\n",
       "      <td id=\"T_28177_row7_col7\" class=\"data row7 col7\" >6912.000000</td>\n",
       "      <td id=\"T_28177_row7_col8\" class=\"data row7 col8\" >140.625000</td>\n",
       "      <td id=\"T_28177_row7_col9\" class=\"data row7 col9\" >7333.875000</td>\n",
       "      <td id=\"T_28177_row7_col10\" class=\"data row7 col10\" >1.132462</td>\n",
       "      <td id=\"T_28177_row7_col11\" class=\"data row7 col11\" >2.439325</td>\n",
       "      <td id=\"T_28177_row7_col12\" class=\"data row7 col12\" >0.000000</td>\n",
       "      <td id=\"T_28177_row7_col13\" class=\"data row7 col13\" >Memory</td>\n",
       "      <td id=\"T_28177_row7_col14\" class=\"data row7 col14\" >0.464252</td>\n",
       "      <td id=\"T_28177_row7_col15\" class=\"data row7 col15\" >2439324.515206</td>\n",
       "      <td id=\"T_28177_row7_col16\" class=\"data row7 col16\" >5.712941</td>\n",
       "      <td id=\"T_28177_row7_col17\" class=\"data row7 col17\" >1485.607443</td>\n",
       "      <td id=\"T_28177_row7_col18\" class=\"data row7 col18\" >1132462.080000</td>\n",
       "      <td id=\"T_28177_row7_col19\" class=\"data row7 col19\" >2439324.515206</td>\n",
       "      <td id=\"T_28177_row7_col20\" class=\"data row7 col20\" >0.800000</td>\n",
       "      <td id=\"T_28177_row7_col21\" class=\"data row7 col21\" >0.000000</td>\n",
       "    </tr>\n",
       "    <tr>\n",
       "      <th id=\"T_28177_level0_row8\" class=\"row_heading level0 row8\" >8</th>\n",
       "      <td id=\"T_28177_row8_col0\" class=\"data row8 col0\" >down</td>\n",
       "      <td id=\"T_28177_row8_col1\" class=\"data row8 col1\" >GEMM</td>\n",
       "      <td id=\"T_28177_row8_col2\" class=\"data row8 col2\" >[((250, 6144, 1), (12288, 6144), (250, 12288, 1))]</td>\n",
       "      <td id=\"T_28177_row8_col3\" class=\"data row8 col3\" >471.237920</td>\n",
       "      <td id=\"T_28177_row8_col4\" class=\"data row8 col4\" >2.439325</td>\n",
       "      <td id=\"T_28177_row8_col5\" class=\"data row8 col5\" >3623878.656000</td>\n",
       "      <td id=\"T_28177_row8_col6\" class=\"data row8 col6\" >140.625000</td>\n",
       "      <td id=\"T_28177_row8_col7\" class=\"data row8 col7\" >6912.000000</td>\n",
       "      <td id=\"T_28177_row8_col8\" class=\"data row8 col8\" >281.250000</td>\n",
       "      <td id=\"T_28177_row8_col9\" class=\"data row8 col9\" >7333.875000</td>\n",
       "      <td id=\"T_28177_row8_col10\" class=\"data row8 col10\" >1.132462</td>\n",
       "      <td id=\"T_28177_row8_col11\" class=\"data row8 col11\" >2.439325</td>\n",
       "      <td id=\"T_28177_row8_col12\" class=\"data row8 col12\" >0.000000</td>\n",
       "      <td id=\"T_28177_row8_col13\" class=\"data row8 col13\" >Memory</td>\n",
       "      <td id=\"T_28177_row8_col14\" class=\"data row8 col14\" >0.464252</td>\n",
       "      <td id=\"T_28177_row8_col15\" class=\"data row8 col15\" >2439324.515206</td>\n",
       "      <td id=\"T_28177_row8_col16\" class=\"data row8 col16\" >5.712941</td>\n",
       "      <td id=\"T_28177_row8_col17\" class=\"data row8 col17\" >1485.607443</td>\n",
       "      <td id=\"T_28177_row8_col18\" class=\"data row8 col18\" >1132462.080000</td>\n",
       "      <td id=\"T_28177_row8_col19\" class=\"data row8 col19\" >2439324.515206</td>\n",
       "      <td id=\"T_28177_row8_col20\" class=\"data row8 col20\" >0.800000</td>\n",
       "      <td id=\"T_28177_row8_col21\" class=\"data row8 col21\" >0.000000</td>\n",
       "    </tr>\n",
       "    <tr>\n",
       "      <th id=\"T_28177_level0_row9\" class=\"row_heading level0 row9\" >9</th>\n",
       "      <td id=\"T_28177_row9_col0\" class=\"data row9 col0\" >FFN AR</td>\n",
       "      <td id=\"T_28177_row9_col1\" class=\"data row9 col1\" >Sync</td>\n",
       "      <td id=\"T_28177_row9_col2\" class=\"data row9 col2\" >(250, 1, 12288)</td>\n",
       "      <td id=\"T_28177_row9_col3\" class=\"data row9 col3\" >0.000000</td>\n",
       "      <td id=\"T_28177_row9_col4\" class=\"data row9 col4\" >5.045546</td>\n",
       "      <td id=\"T_28177_row9_col5\" class=\"data row9 col5\" >0.000000</td>\n",
       "      <td id=\"T_28177_row9_col6\" class=\"data row9 col6\" >0.000000</td>\n",
       "      <td id=\"T_28177_row9_col7\" class=\"data row9 col7\" >0.000000</td>\n",
       "      <td id=\"T_28177_row9_col8\" class=\"data row9 col8\" >0.000000</td>\n",
       "      <td id=\"T_28177_row9_col9\" class=\"data row9 col9\" >0.000000</td>\n",
       "      <td id=\"T_28177_row9_col10\" class=\"data row9 col10\" >0.000000</td>\n",
       "      <td id=\"T_28177_row9_col11\" class=\"data row9 col11\" >0.000000</td>\n",
       "      <td id=\"T_28177_row9_col12\" class=\"data row9 col12\" >5.045546</td>\n",
       "      <td id=\"T_28177_row9_col13\" class=\"data row9 col13\" >Collective</td>\n",
       "      <td id=\"T_28177_row9_col14\" class=\"data row9 col14\" >0.000000</td>\n",
       "      <td id=\"T_28177_row9_col15\" class=\"data row9 col15\" >5045546.310425</td>\n",
       "      <td id=\"T_28177_row9_col16\" class=\"data row9 col16\" >11.816759</td>\n",
       "      <td id=\"T_28177_row9_col17\" class=\"data row9 col17\" >0.000000</td>\n",
       "      <td id=\"T_28177_row9_col18\" class=\"data row9 col18\" >0.000000</td>\n",
       "      <td id=\"T_28177_row9_col19\" class=\"data row9 col19\" >0.000000</td>\n",
       "      <td id=\"T_28177_row9_col20\" class=\"data row9 col20\" >0.800000</td>\n",
       "      <td id=\"T_28177_row9_col21\" class=\"data row9 col21\" >5045546.310425</td>\n",
       "    </tr>\n",
       "    <tr>\n",
       "      <th id=\"T_28177_level0_row10\" class=\"row_heading level0 row10\" >10</th>\n",
       "      <td id=\"T_28177_row10_col0\" class=\"data row10 col0\" >classifier</td>\n",
       "      <td id=\"T_28177_row10_col1\" class=\"data row10 col1\" >GEMM</td>\n",
       "      <td id=\"T_28177_row10_col2\" class=\"data row10 col2\" >[((250, 12288, 1), (6284, 12288), (250, 6284, 1))]</td>\n",
       "      <td id=\"T_28177_row10_col3\" class=\"data row10 col3\" >471.640880</td>\n",
       "      <td id=\"T_28177_row10_col4\" class=\"data row10 col4\" >0.027228</td>\n",
       "      <td id=\"T_28177_row10_col5\" class=\"data row10 col5\" >38608.896000</td>\n",
       "      <td id=\"T_28177_row10_col6\" class=\"data row10 col6\" >2.929688</td>\n",
       "      <td id=\"T_28177_row10_col7\" class=\"data row10 col7\" >73.640625</td>\n",
       "      <td id=\"T_28177_row10_col8\" class=\"data row10 col8\" >1.498222</td>\n",
       "      <td id=\"T_28177_row10_col9\" class=\"data row10 col9\" >78.068535</td>\n",
       "      <td id=\"T_28177_row10_col10\" class=\"data row10 col10\" >0.012065</td>\n",
       "      <td id=\"T_28177_row10_col11\" class=\"data row10 col11\" >0.027228</td>\n",
       "      <td id=\"T_28177_row10_col12\" class=\"data row10 col12\" >0.000000</td>\n",
       "      <td id=\"T_28177_row10_col13\" class=\"data row10 col13\" >Memory</td>\n",
       "      <td id=\"T_28177_row10_col14\" class=\"data row10 col14\" >0.443118</td>\n",
       "      <td id=\"T_28177_row10_col15\" class=\"data row10 col15\" >27228.144131</td>\n",
       "      <td id=\"T_28177_row10_col16\" class=\"data row10 col16\" >0.063769</td>\n",
       "      <td id=\"T_28177_row10_col17\" class=\"data row10 col17\" >1417.977509</td>\n",
       "      <td id=\"T_28177_row10_col18\" class=\"data row10 col18\" >12065.280000</td>\n",
       "      <td id=\"T_28177_row10_col19\" class=\"data row10 col19\" >27228.144131</td>\n",
       "      <td id=\"T_28177_row10_col20\" class=\"data row10 col20\" >0.800000</td>\n",
       "      <td id=\"T_28177_row10_col21\" class=\"data row10 col21\" >0.000000</td>\n",
       "    </tr>\n",
       "    <tr>\n",
       "      <th id=\"T_28177_level0_row11\" class=\"row_heading level0 row11\" >11</th>\n",
       "      <td id=\"T_28177_row11_col0\" class=\"data row11 col0\" >classifier_AG</td>\n",
       "      <td id=\"T_28177_row11_col1\" class=\"data row11 col1\" >Sync</td>\n",
       "      <td id=\"T_28177_row11_col2\" class=\"data row11 col2\" >(250, 1, 50272)</td>\n",
       "      <td id=\"T_28177_row11_col3\" class=\"data row11 col3\" >0.000000</td>\n",
       "      <td id=\"T_28177_row11_col4\" class=\"data row11 col4\" >0.059007</td>\n",
       "      <td id=\"T_28177_row11_col5\" class=\"data row11 col5\" >0.000000</td>\n",
       "      <td id=\"T_28177_row11_col6\" class=\"data row11 col6\" >0.000000</td>\n",
       "      <td id=\"T_28177_row11_col7\" class=\"data row11 col7\" >0.000000</td>\n",
       "      <td id=\"T_28177_row11_col8\" class=\"data row11 col8\" >0.000000</td>\n",
       "      <td id=\"T_28177_row11_col9\" class=\"data row11 col9\" >0.000000</td>\n",
       "      <td id=\"T_28177_row11_col10\" class=\"data row11 col10\" >0.000000</td>\n",
       "      <td id=\"T_28177_row11_col11\" class=\"data row11 col11\" >0.000000</td>\n",
       "      <td id=\"T_28177_row11_col12\" class=\"data row11 col12\" >0.059007</td>\n",
       "      <td id=\"T_28177_row11_col13\" class=\"data row11 col13\" >Collective</td>\n",
       "      <td id=\"T_28177_row11_col14\" class=\"data row11 col14\" >0.000000</td>\n",
       "      <td id=\"T_28177_row11_col15\" class=\"data row11 col15\" >59006.852942</td>\n",
       "      <td id=\"T_28177_row11_col16\" class=\"data row11 col16\" >0.138195</td>\n",
       "      <td id=\"T_28177_row11_col17\" class=\"data row11 col17\" >0.000000</td>\n",
       "      <td id=\"T_28177_row11_col18\" class=\"data row11 col18\" >0.000000</td>\n",
       "      <td id=\"T_28177_row11_col19\" class=\"data row11 col19\" >0.000000</td>\n",
       "      <td id=\"T_28177_row11_col20\" class=\"data row11 col20\" >0.800000</td>\n",
       "      <td id=\"T_28177_row11_col21\" class=\"data row11 col21\" >59006.852942</td>\n",
       "    </tr>\n",
       "  </tbody>\n",
       "</table>\n"
      ],
      "text/plain": [
       "<pandas.io.formats.style.Styler at 0x77b360dee350>"
      ]
     },
     "metadata": {},
     "output_type": "display_data"
    }
   ],
   "source": [
    "display_df(simplify_df(model_df))"
   ]
  },
  {
   "cell_type": "code",
   "execution_count": null,
   "metadata": {},
   "outputs": [],
   "source": []
  }
 ],
 "metadata": {
  "kernelspec": {
   "display_name": "genz_env",
   "language": "python",
   "name": "python3"
  },
  "language_info": {
   "codemirror_mode": {
    "name": "ipython",
    "version": 3
   },
   "file_extension": ".py",
   "mimetype": "text/x-python",
   "name": "python",
   "nbconvert_exporter": "python",
   "pygments_lexer": "ipython3",
   "version": "3.11.10"
  }
 },
 "nbformat": 4,
 "nbformat_minor": 2
}
