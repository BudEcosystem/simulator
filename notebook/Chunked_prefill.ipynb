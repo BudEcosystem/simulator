{
 "cells": [
  {
   "cell_type": "code",
   "execution_count": 1,
   "metadata": {},
   "outputs": [],
   "source": [
    "%load_ext autoreload\n",
    "%autoreload 2"
   ]
  },
  {
   "cell_type": "code",
   "execution_count": 2,
   "metadata": {},
   "outputs": [],
   "source": [
    "from GenZ import chunked_moddeling\n",
    "from GenZ import get_model_df, System, get_summary_table, simplify_df, get_configs, ParallelismConfig, get_runtime_breakdown\n",
    "from GenZ.Models.get_language_model import create_full_chunked_model, create_full_decode_model\n",
    "from GenZ.Models.attention import mha_flash_attention_chunked\n",
    "from GenZ.utils.plot_rooflines import display_df\n",
    "import os\n",
    "import pandas as pd\n"
   ]
  },
  {
   "cell_type": "code",
   "execution_count": null,
   "metadata": {},
   "outputs": [],
   "source": []
  },
  {
   "cell_type": "code",
   "execution_count": 3,
   "metadata": {},
   "outputs": [
    {
     "data": {
      "text/plain": [
       "<GenZ.Models.default_models.ModelConfig at 0x122eb5d60>"
      ]
     },
     "execution_count": 3,
     "metadata": {},
     "output_type": "execute_result"
    }
   ],
   "source": [
    "get_configs('meta-llama/meta-llama-3.1-405b')"
   ]
  },
  {
   "cell_type": "code",
   "execution_count": 4,
   "metadata": {},
   "outputs": [
    {
     "name": "stderr",
     "output_type": "stream",
     "text": [
      "/var/folders/h1/r_4mhdb92_7cg5n015yr61wh0000gp/T/ipykernel_90623/4116165449.py:48: FutureWarning: The behavior of DataFrame concatenation with empty or all-NA entries is deprecated. In a future version, this will no longer exclude empty or all-NA columns when determining the result dtypes. To retain the old behavior, exclude the relevant entries before the concat operation.\n",
      "  runtime_plot_df = pd.concat([runtime_plot_df, df])\n"
     ]
    }
   ],
   "source": [
    "import ipywidgets as widgets\n",
    "from ipywidgets import interact\n",
    "\n",
    "# def interactive_chunked_model_runtime(input_tokens, output_tokens, output_batch):\n",
    "input_tokens = 1024\n",
    "output_tokens = 1024\n",
    "TP = 4\n",
    "chunk_size = 512\n",
    "system = System(frequency=1000 , flops=4500, off_chip_mem_size=(192*1024), compute_efficiency=1, memory_efficiency=1,\n",
    "                offchip_mem_bw=8000, bits='int8', external_mem_bw=128, interchip_link_bw=900, interchip_link_latency=0.25, num_nodes=4)\n",
    "runtime_plot_df = pd.DataFrame(columns=['Batching Type', 'Layer Name', 'Runtime', 'Chunk Size', 'Decode Batch'])\n",
    "for chunk_size in [512,  2048]:\n",
    "    for output_batch in [1, 16, 64]:\n",
    "        # model = create_full_decode_model(name='gpt-3', input_sequence_length = output_tokens, tensor_parallel=TP)\n",
    "        # model_df = get_model_df(model, system, batch_size=output_batch,  model_characterstics = False)\n",
    "        # summary_table = get_summary_table(model_df, model_characterstics = False)\n",
    "        # runtime_df = get_runtime_breakdown(model_df)\n",
    "        # # display(model_df)\n",
    "        # # display(summary_table)\n",
    "        # df = pd.DataFrame(\n",
    "        #     [   ['Continous', 'Embedding',   runtime_df.Embedding, chunk_size, output_batch],\n",
    "        #         ['Continous', 'Collective',  runtime_df.Collective, chunk_size, output_batch],\n",
    "        #         ['Continous', 'LA_layers',   runtime_df.LA_layers, chunk_size, output_batch],\n",
    "        #         ['Continous', 'QKVO_layers', runtime_df.QKVO_layers, chunk_size, output_batch],\n",
    "        #         ['Continous', 'FFN_layers',  runtime_df.FFN_layers, chunk_size, output_batch]],\n",
    "        #     columns=['Batching Type', 'Layer Name', 'Runtime','Chunk Size', 'Decode Batch'])\n",
    "        # runtime_plot_df = pd.concat([runtime_plot_df, df])\n",
    "        # model = create_full_chunked_model(name='gpt-3',\n",
    "        #                                     prefill_kv_sizes= [(input_tokens, chunk_size-output_batch)],\n",
    "        #                                     decode_kv_sizes = [output_tokens] * output_batch, tensor_parallel=TP)\n",
    "        # model_df = get_model_df(model, system, batch_size=1,  model_characterstics = False)\n",
    "        # summary_table = get_summary_table(model_df, model_characterstics = False)\n",
    "        # runtime_df = get_runtime_breakdown(model_df)\n",
    "        # display(summary_table)\n",
    "        # display(model_df)\n",
    "        chunked_output = chunked_moddeling(model='gpt-3', \n",
    "                        prefill_kv_sizes = [(input_tokens, chunk_size-output_batch)],\n",
    "                        system_name=system, \n",
    "                        decode_kv_sizes = [output_tokens] * output_batch, tensor_parallel=TP)\n",
    "        runtime_df = chunked_output['Runtime_breakdown']\n",
    "        df = pd.DataFrame(\n",
    "                [['Chunked', 'Embedding',   runtime_df.Embedding, chunk_size, output_batch],\n",
    "                ['Chunked', 'Collective',  runtime_df.Collective, chunk_size, output_batch],\n",
    "                ['Chunked', 'LA',   runtime_df.LA_layers, chunk_size, output_batch], \n",
    "                ['Chunked', 'QKVO', runtime_df.QKVO_layers, chunk_size, output_batch],\n",
    "                ['Chunked', 'FFN',  runtime_df.FFN_layers, chunk_size, output_batch]],\n",
    "            columns=['Batching Type', 'Layer Name', 'Runtime','Chunk Size', 'Decode Batch'])\n",
    "        runtime_plot_df = pd.concat([runtime_plot_df, df])\n",
    "\n",
    "\n",
    "    # return fig\n",
    "    # display(runtime_plot_df)\n",
    "\n",
    "# input_tokens_slider = widgets.BoundedIntText(min=1, max=20480, step=10, value=1024, description='Input Tokens:')\n",
    "# output_tokens_slider = widgets.BoundedIntText(min=1, max=20480, step=10, value=1024, description='Output Tokens:')\n",
    "# batch_slider = widgets.BoundedIntText(min=1, max=512, step=8, value=8, description='Output Batch:')\n",
    "\n",
    "# interactive_chunked_model_runtime(input_tokens=1024, output_tokens=1024, output_batch=8)"
   ]
  },
  {
   "cell_type": "code",
   "execution_count": 5,
   "metadata": {},
   "outputs": [
    {
     "data": {
      "application/vnd.plotly.v1+json": {
       "config": {
        "plotlyServerURL": "https://plot.ly"
       },
       "data": [
        {
         "alignmentgroup": "True",
         "hovertemplate": "Layer Name=Embedding<br>Batching Type=Chunked<br>Chunk Size=512<br>Decode Batch=%{x}<br>Runtime=%{y}<extra></extra>",
         "legendgroup": "Embedding, Chunked",
         "marker": {
          "color": "#636efa",
          "pattern": {
           "shape": ""
          }
         },
         "name": "Embedding, Chunked",
         "offsetgroup": "Embedding, Chunked",
         "orientation": "v",
         "showlegend": true,
         "textposition": "auto",
         "type": "bar",
         "x": [
          "1",
          "16",
          "64"
         ],
         "xaxis": "x2",
         "y": [
          0.14953071687122188,
          0.14887170370419822,
          0.1467628615697225
         ],
         "yaxis": "y2"
        },
        {
         "alignmentgroup": "True",
         "hovertemplate": "Layer Name=Embedding<br>Batching Type=Chunked<br>Chunk Size=2048<br>Decode Batch=%{x}<br>Runtime=%{y}<extra></extra>",
         "legendgroup": "Embedding, Chunked",
         "marker": {
          "color": "#636efa",
          "pattern": {
           "shape": ""
          }
         },
         "name": "Embedding, Chunked",
         "offsetgroup": "Embedding, Chunked",
         "orientation": "v",
         "showlegend": false,
         "textposition": "auto",
         "type": "bar",
         "x": [
          "1",
          "16",
          "64"
         ],
         "xaxis": "x",
         "y": [
          0.531220000021927,
          0.5296182248720833,
          0.5244925443925833
         ],
         "yaxis": "y"
        },
        {
         "alignmentgroup": "True",
         "hovertemplate": "Layer Name=Collective<br>Batching Type=Chunked<br>Chunk Size=512<br>Decode Batch=%{x}<br>Runtime=%{y}<extra></extra>",
         "legendgroup": "Collective, Chunked",
         "marker": {
          "color": "#EF553B",
          "pattern": {
           "shape": ""
          }
         },
         "name": "Collective, Chunked",
         "offsetgroup": "Collective, Chunked",
         "orientation": "v",
         "showlegend": true,
         "textposition": "auto",
         "type": "bar",
         "x": [
          "1",
          "16",
          "64"
         ],
         "xaxis": "x2",
         "y": [
          5.0696956990559885,
          5.069123494466145,
          5.067292439778645
         ],
         "yaxis": "y2"
        },
        {
         "alignmentgroup": "True",
         "hovertemplate": "Layer Name=Collective<br>Batching Type=Chunked<br>Chunk Size=2048<br>Decode Batch=%{x}<br>Runtime=%{y}<extra></extra>",
         "legendgroup": "Collective, Chunked",
         "marker": {
          "color": "#EF553B",
          "pattern": {
           "shape": ""
          }
         },
         "name": "Collective, Chunked",
         "offsetgroup": "Collective, Chunked",
         "orientation": "v",
         "showlegend": false,
         "textposition": "auto",
         "type": "bar",
         "x": [
          "1",
          "16",
          "64"
         ],
         "xaxis": "x",
         "y": [
          16.49814723714193,
          16.497575032552085,
          16.495743977864585
         ],
         "yaxis": "y"
        },
        {
         "alignmentgroup": "True",
         "hovertemplate": "Layer Name=LA<br>Batching Type=Chunked<br>Chunk Size=512<br>Decode Batch=%{x}<br>Runtime=%{y}<extra></extra>",
         "legendgroup": "LA, Chunked",
         "marker": {
          "color": "#00cc96",
          "pattern": {
           "shape": ""
          }
         },
         "name": "LA, Chunked",
         "offsetgroup": "LA, Chunked",
         "orientation": "v",
         "showlegend": true,
         "textposition": "auto",
         "type": "bar",
         "x": [
          "1",
          "16",
          "64"
         ],
         "xaxis": "x2",
         "y": [
          0.7961735725402832,
          2.8951416015625,
          9.61328125
         ],
         "yaxis": "y2"
        },
        {
         "alignmentgroup": "True",
         "hovertemplate": "Layer Name=LA<br>Batching Type=Chunked<br>Chunk Size=2048<br>Decode Batch=%{x}<br>Runtime=%{y}<extra></extra>",
         "legendgroup": "LA, Chunked",
         "marker": {
          "color": "#00cc96",
          "pattern": {
           "shape": ""
          }
         },
         "name": "LA, Chunked",
         "offsetgroup": "LA, Chunked",
         "orientation": "v",
         "showlegend": false,
         "textposition": "auto",
         "type": "bar",
         "x": [
          "1",
          "16",
          "64"
         ],
         "xaxis": "x",
         "y": [
          3.841583728790283,
          5.9185791015625,
          12.56640625
         ],
         "yaxis": "y"
        },
        {
         "alignmentgroup": "True",
         "hovertemplate": "Layer Name=QKVO<br>Batching Type=Chunked<br>Chunk Size=512<br>Decode Batch=%{x}<br>Runtime=%{y}<extra></extra>",
         "legendgroup": "QKVO, Chunked",
         "marker": {
          "color": "#ab63fa",
          "pattern": {
           "shape": ""
          }
         },
         "name": "QKVO, Chunked",
         "offsetgroup": "QKVO, Chunked",
         "orientation": "v",
         "showlegend": true,
         "textposition": "auto",
         "type": "bar",
         "x": [
          "1",
          "16",
          "64"
         ],
         "xaxis": "x2",
         "y": [
          3.5625,
          3.5625,
          3.5625
         ],
         "yaxis": "y2"
        },
        {
         "alignmentgroup": "True",
         "hovertemplate": "Layer Name=QKVO<br>Batching Type=Chunked<br>Chunk Size=2048<br>Decode Batch=%{x}<br>Runtime=%{y}<extra></extra>",
         "legendgroup": "QKVO, Chunked",
         "marker": {
          "color": "#ab63fa",
          "pattern": {
           "shape": ""
          }
         },
         "name": "QKVO, Chunked",
         "offsetgroup": "QKVO, Chunked",
         "orientation": "v",
         "showlegend": false,
         "textposition": "auto",
         "type": "bar",
         "x": [
          "1",
          "16",
          "64"
         ],
         "xaxis": "x",
         "y": [
          13.194139533312,
          13.194139533312,
          13.194139533312
         ],
         "yaxis": "y"
        },
        {
         "alignmentgroup": "True",
         "hovertemplate": "Layer Name=FFN<br>Batching Type=Chunked<br>Chunk Size=512<br>Decode Batch=%{x}<br>Runtime=%{y}<extra></extra>",
         "legendgroup": "FFN, Chunked",
         "marker": {
          "color": "#FFA15A",
          "pattern": {
           "shape": ""
          }
         },
         "name": "FFN, Chunked",
         "offsetgroup": "FFN, Chunked",
         "orientation": "v",
         "showlegend": true,
         "textposition": "auto",
         "type": "bar",
         "x": [
          "1",
          "16",
          "64"
         ],
         "xaxis": "x2",
         "y": [
          7.3125,
          7.3125,
          7.3125
         ],
         "yaxis": "y2"
        },
        {
         "alignmentgroup": "True",
         "hovertemplate": "Layer Name=FFN<br>Batching Type=Chunked<br>Chunk Size=2048<br>Decode Batch=%{x}<br>Runtime=%{y}<extra></extra>",
         "legendgroup": "FFN, Chunked",
         "marker": {
          "color": "#FFA15A",
          "pattern": {
           "shape": ""
          }
         },
         "name": "FFN, Chunked",
         "offsetgroup": "FFN, Chunked",
         "orientation": "v",
         "showlegend": false,
         "textposition": "auto",
         "type": "bar",
         "x": [
          "1",
          "16",
          "64"
         ],
         "xaxis": "x",
         "y": [
          26.388279066624,
          26.388279066624,
          26.388279066624
         ],
         "yaxis": "y"
        }
       ],
       "layout": {
        "annotations": [
         {
          "font": {},
          "showarrow": false,
          "text": "Chunk Size=2048",
          "textangle": 90,
          "x": 0.98,
          "xanchor": "left",
          "xref": "paper",
          "y": 0.2425,
          "yanchor": "middle",
          "yref": "paper"
         },
         {
          "font": {},
          "showarrow": false,
          "text": "Chunk Size=512",
          "textangle": 90,
          "x": 0.98,
          "xanchor": "left",
          "xref": "paper",
          "y": 0.7575000000000001,
          "yanchor": "middle",
          "yref": "paper"
         }
        ],
        "autosize": false,
        "barmode": "relative",
        "height": 800,
        "legend": {
         "title": {
          "text": "Layer Name, Batching Type"
         },
         "tracegroupgap": 0
        },
        "template": {
         "data": {
          "bar": [
           {
            "error_x": {
             "color": "#2a3f5f"
            },
            "error_y": {
             "color": "#2a3f5f"
            },
            "marker": {
             "line": {
              "color": "#E5ECF6",
              "width": 0.5
             },
             "pattern": {
              "fillmode": "overlay",
              "size": 10,
              "solidity": 0.2
             }
            },
            "type": "bar"
           }
          ],
          "barpolar": [
           {
            "marker": {
             "line": {
              "color": "#E5ECF6",
              "width": 0.5
             },
             "pattern": {
              "fillmode": "overlay",
              "size": 10,
              "solidity": 0.2
             }
            },
            "type": "barpolar"
           }
          ],
          "carpet": [
           {
            "aaxis": {
             "endlinecolor": "#2a3f5f",
             "gridcolor": "white",
             "linecolor": "white",
             "minorgridcolor": "white",
             "startlinecolor": "#2a3f5f"
            },
            "baxis": {
             "endlinecolor": "#2a3f5f",
             "gridcolor": "white",
             "linecolor": "white",
             "minorgridcolor": "white",
             "startlinecolor": "#2a3f5f"
            },
            "type": "carpet"
           }
          ],
          "choropleth": [
           {
            "colorbar": {
             "outlinewidth": 0,
             "ticks": ""
            },
            "type": "choropleth"
           }
          ],
          "contour": [
           {
            "colorbar": {
             "outlinewidth": 0,
             "ticks": ""
            },
            "colorscale": [
             [
              0,
              "#0d0887"
             ],
             [
              0.1111111111111111,
              "#46039f"
             ],
             [
              0.2222222222222222,
              "#7201a8"
             ],
             [
              0.3333333333333333,
              "#9c179e"
             ],
             [
              0.4444444444444444,
              "#bd3786"
             ],
             [
              0.5555555555555556,
              "#d8576b"
             ],
             [
              0.6666666666666666,
              "#ed7953"
             ],
             [
              0.7777777777777778,
              "#fb9f3a"
             ],
             [
              0.8888888888888888,
              "#fdca26"
             ],
             [
              1,
              "#f0f921"
             ]
            ],
            "type": "contour"
           }
          ],
          "contourcarpet": [
           {
            "colorbar": {
             "outlinewidth": 0,
             "ticks": ""
            },
            "type": "contourcarpet"
           }
          ],
          "heatmap": [
           {
            "colorbar": {
             "outlinewidth": 0,
             "ticks": ""
            },
            "colorscale": [
             [
              0,
              "#0d0887"
             ],
             [
              0.1111111111111111,
              "#46039f"
             ],
             [
              0.2222222222222222,
              "#7201a8"
             ],
             [
              0.3333333333333333,
              "#9c179e"
             ],
             [
              0.4444444444444444,
              "#bd3786"
             ],
             [
              0.5555555555555556,
              "#d8576b"
             ],
             [
              0.6666666666666666,
              "#ed7953"
             ],
             [
              0.7777777777777778,
              "#fb9f3a"
             ],
             [
              0.8888888888888888,
              "#fdca26"
             ],
             [
              1,
              "#f0f921"
             ]
            ],
            "type": "heatmap"
           }
          ],
          "heatmapgl": [
           {
            "colorbar": {
             "outlinewidth": 0,
             "ticks": ""
            },
            "colorscale": [
             [
              0,
              "#0d0887"
             ],
             [
              0.1111111111111111,
              "#46039f"
             ],
             [
              0.2222222222222222,
              "#7201a8"
             ],
             [
              0.3333333333333333,
              "#9c179e"
             ],
             [
              0.4444444444444444,
              "#bd3786"
             ],
             [
              0.5555555555555556,
              "#d8576b"
             ],
             [
              0.6666666666666666,
              "#ed7953"
             ],
             [
              0.7777777777777778,
              "#fb9f3a"
             ],
             [
              0.8888888888888888,
              "#fdca26"
             ],
             [
              1,
              "#f0f921"
             ]
            ],
            "type": "heatmapgl"
           }
          ],
          "histogram": [
           {
            "marker": {
             "pattern": {
              "fillmode": "overlay",
              "size": 10,
              "solidity": 0.2
             }
            },
            "type": "histogram"
           }
          ],
          "histogram2d": [
           {
            "colorbar": {
             "outlinewidth": 0,
             "ticks": ""
            },
            "colorscale": [
             [
              0,
              "#0d0887"
             ],
             [
              0.1111111111111111,
              "#46039f"
             ],
             [
              0.2222222222222222,
              "#7201a8"
             ],
             [
              0.3333333333333333,
              "#9c179e"
             ],
             [
              0.4444444444444444,
              "#bd3786"
             ],
             [
              0.5555555555555556,
              "#d8576b"
             ],
             [
              0.6666666666666666,
              "#ed7953"
             ],
             [
              0.7777777777777778,
              "#fb9f3a"
             ],
             [
              0.8888888888888888,
              "#fdca26"
             ],
             [
              1,
              "#f0f921"
             ]
            ],
            "type": "histogram2d"
           }
          ],
          "histogram2dcontour": [
           {
            "colorbar": {
             "outlinewidth": 0,
             "ticks": ""
            },
            "colorscale": [
             [
              0,
              "#0d0887"
             ],
             [
              0.1111111111111111,
              "#46039f"
             ],
             [
              0.2222222222222222,
              "#7201a8"
             ],
             [
              0.3333333333333333,
              "#9c179e"
             ],
             [
              0.4444444444444444,
              "#bd3786"
             ],
             [
              0.5555555555555556,
              "#d8576b"
             ],
             [
              0.6666666666666666,
              "#ed7953"
             ],
             [
              0.7777777777777778,
              "#fb9f3a"
             ],
             [
              0.8888888888888888,
              "#fdca26"
             ],
             [
              1,
              "#f0f921"
             ]
            ],
            "type": "histogram2dcontour"
           }
          ],
          "mesh3d": [
           {
            "colorbar": {
             "outlinewidth": 0,
             "ticks": ""
            },
            "type": "mesh3d"
           }
          ],
          "parcoords": [
           {
            "line": {
             "colorbar": {
              "outlinewidth": 0,
              "ticks": ""
             }
            },
            "type": "parcoords"
           }
          ],
          "pie": [
           {
            "automargin": true,
            "type": "pie"
           }
          ],
          "scatter": [
           {
            "fillpattern": {
             "fillmode": "overlay",
             "size": 10,
             "solidity": 0.2
            },
            "type": "scatter"
           }
          ],
          "scatter3d": [
           {
            "line": {
             "colorbar": {
              "outlinewidth": 0,
              "ticks": ""
             }
            },
            "marker": {
             "colorbar": {
              "outlinewidth": 0,
              "ticks": ""
             }
            },
            "type": "scatter3d"
           }
          ],
          "scattercarpet": [
           {
            "marker": {
             "colorbar": {
              "outlinewidth": 0,
              "ticks": ""
             }
            },
            "type": "scattercarpet"
           }
          ],
          "scattergeo": [
           {
            "marker": {
             "colorbar": {
              "outlinewidth": 0,
              "ticks": ""
             }
            },
            "type": "scattergeo"
           }
          ],
          "scattergl": [
           {
            "marker": {
             "colorbar": {
              "outlinewidth": 0,
              "ticks": ""
             }
            },
            "type": "scattergl"
           }
          ],
          "scattermapbox": [
           {
            "marker": {
             "colorbar": {
              "outlinewidth": 0,
              "ticks": ""
             }
            },
            "type": "scattermapbox"
           }
          ],
          "scatterpolar": [
           {
            "marker": {
             "colorbar": {
              "outlinewidth": 0,
              "ticks": ""
             }
            },
            "type": "scatterpolar"
           }
          ],
          "scatterpolargl": [
           {
            "marker": {
             "colorbar": {
              "outlinewidth": 0,
              "ticks": ""
             }
            },
            "type": "scatterpolargl"
           }
          ],
          "scatterternary": [
           {
            "marker": {
             "colorbar": {
              "outlinewidth": 0,
              "ticks": ""
             }
            },
            "type": "scatterternary"
           }
          ],
          "surface": [
           {
            "colorbar": {
             "outlinewidth": 0,
             "ticks": ""
            },
            "colorscale": [
             [
              0,
              "#0d0887"
             ],
             [
              0.1111111111111111,
              "#46039f"
             ],
             [
              0.2222222222222222,
              "#7201a8"
             ],
             [
              0.3333333333333333,
              "#9c179e"
             ],
             [
              0.4444444444444444,
              "#bd3786"
             ],
             [
              0.5555555555555556,
              "#d8576b"
             ],
             [
              0.6666666666666666,
              "#ed7953"
             ],
             [
              0.7777777777777778,
              "#fb9f3a"
             ],
             [
              0.8888888888888888,
              "#fdca26"
             ],
             [
              1,
              "#f0f921"
             ]
            ],
            "type": "surface"
           }
          ],
          "table": [
           {
            "cells": {
             "fill": {
              "color": "#EBF0F8"
             },
             "line": {
              "color": "white"
             }
            },
            "header": {
             "fill": {
              "color": "#C8D4E3"
             },
             "line": {
              "color": "white"
             }
            },
            "type": "table"
           }
          ]
         },
         "layout": {
          "annotationdefaults": {
           "arrowcolor": "#2a3f5f",
           "arrowhead": 0,
           "arrowwidth": 1
          },
          "autotypenumbers": "strict",
          "coloraxis": {
           "colorbar": {
            "outlinewidth": 0,
            "ticks": ""
           }
          },
          "colorscale": {
           "diverging": [
            [
             0,
             "#8e0152"
            ],
            [
             0.1,
             "#c51b7d"
            ],
            [
             0.2,
             "#de77ae"
            ],
            [
             0.3,
             "#f1b6da"
            ],
            [
             0.4,
             "#fde0ef"
            ],
            [
             0.5,
             "#f7f7f7"
            ],
            [
             0.6,
             "#e6f5d0"
            ],
            [
             0.7,
             "#b8e186"
            ],
            [
             0.8,
             "#7fbc41"
            ],
            [
             0.9,
             "#4d9221"
            ],
            [
             1,
             "#276419"
            ]
           ],
           "sequential": [
            [
             0,
             "#0d0887"
            ],
            [
             0.1111111111111111,
             "#46039f"
            ],
            [
             0.2222222222222222,
             "#7201a8"
            ],
            [
             0.3333333333333333,
             "#9c179e"
            ],
            [
             0.4444444444444444,
             "#bd3786"
            ],
            [
             0.5555555555555556,
             "#d8576b"
            ],
            [
             0.6666666666666666,
             "#ed7953"
            ],
            [
             0.7777777777777778,
             "#fb9f3a"
            ],
            [
             0.8888888888888888,
             "#fdca26"
            ],
            [
             1,
             "#f0f921"
            ]
           ],
           "sequentialminus": [
            [
             0,
             "#0d0887"
            ],
            [
             0.1111111111111111,
             "#46039f"
            ],
            [
             0.2222222222222222,
             "#7201a8"
            ],
            [
             0.3333333333333333,
             "#9c179e"
            ],
            [
             0.4444444444444444,
             "#bd3786"
            ],
            [
             0.5555555555555556,
             "#d8576b"
            ],
            [
             0.6666666666666666,
             "#ed7953"
            ],
            [
             0.7777777777777778,
             "#fb9f3a"
            ],
            [
             0.8888888888888888,
             "#fdca26"
            ],
            [
             1,
             "#f0f921"
            ]
           ]
          },
          "colorway": [
           "#636efa",
           "#EF553B",
           "#00cc96",
           "#ab63fa",
           "#FFA15A",
           "#19d3f3",
           "#FF6692",
           "#B6E880",
           "#FF97FF",
           "#FECB52"
          ],
          "font": {
           "color": "#2a3f5f"
          },
          "geo": {
           "bgcolor": "white",
           "lakecolor": "white",
           "landcolor": "#E5ECF6",
           "showlakes": true,
           "showland": true,
           "subunitcolor": "white"
          },
          "hoverlabel": {
           "align": "left"
          },
          "hovermode": "closest",
          "mapbox": {
           "style": "light"
          },
          "paper_bgcolor": "white",
          "plot_bgcolor": "#E5ECF6",
          "polar": {
           "angularaxis": {
            "gridcolor": "white",
            "linecolor": "white",
            "ticks": ""
           },
           "bgcolor": "#E5ECF6",
           "radialaxis": {
            "gridcolor": "white",
            "linecolor": "white",
            "ticks": ""
           }
          },
          "scene": {
           "xaxis": {
            "backgroundcolor": "#E5ECF6",
            "gridcolor": "white",
            "gridwidth": 2,
            "linecolor": "white",
            "showbackground": true,
            "ticks": "",
            "zerolinecolor": "white"
           },
           "yaxis": {
            "backgroundcolor": "#E5ECF6",
            "gridcolor": "white",
            "gridwidth": 2,
            "linecolor": "white",
            "showbackground": true,
            "ticks": "",
            "zerolinecolor": "white"
           },
           "zaxis": {
            "backgroundcolor": "#E5ECF6",
            "gridcolor": "white",
            "gridwidth": 2,
            "linecolor": "white",
            "showbackground": true,
            "ticks": "",
            "zerolinecolor": "white"
           }
          },
          "shapedefaults": {
           "line": {
            "color": "#2a3f5f"
           }
          },
          "ternary": {
           "aaxis": {
            "gridcolor": "white",
            "linecolor": "white",
            "ticks": ""
           },
           "baxis": {
            "gridcolor": "white",
            "linecolor": "white",
            "ticks": ""
           },
           "bgcolor": "#E5ECF6",
           "caxis": {
            "gridcolor": "white",
            "linecolor": "white",
            "ticks": ""
           }
          },
          "title": {
           "x": 0.05
          },
          "xaxis": {
           "automargin": true,
           "gridcolor": "white",
           "linecolor": "white",
           "ticks": "",
           "title": {
            "standoff": 15
           },
           "zerolinecolor": "white",
           "zerolinewidth": 2
          },
          "yaxis": {
           "automargin": true,
           "gridcolor": "white",
           "linecolor": "white",
           "ticks": "",
           "title": {
            "standoff": 15
           },
           "zerolinecolor": "white",
           "zerolinewidth": 2
          }
         }
        },
        "title": {
         "text": "Runtime Breakdown by Chunk Size, Input Tokens = 1024, Output Tokens = 1024"
        },
        "width": 1000,
        "xaxis": {
         "anchor": "y",
         "domain": [
          0,
          0.98
         ],
         "title": {
          "text": "Decode Batch"
         }
        },
        "xaxis2": {
         "anchor": "y2",
         "domain": [
          0,
          0.98
         ],
         "matches": "x",
         "showticklabels": false
        },
        "yaxis": {
         "anchor": "x",
         "domain": [
          0,
          0.485
         ],
         "title": {
          "text": "Runtime"
         }
        },
        "yaxis2": {
         "anchor": "x2",
         "domain": [
          0.515,
          1
         ],
         "matches": "y",
         "title": {
          "text": "Runtime"
         }
        }
       }
      }
     },
     "metadata": {},
     "output_type": "display_data"
    }
   ],
   "source": [
    "import plotly.express as px\n",
    "runtime_plot_df['Decode Batch'] = runtime_plot_df['Decode Batch'].astype(str)\n",
    "\n",
    "\n",
    "\n",
    "fig = px.bar(runtime_plot_df, x='Decode Batch', y='Runtime', color='Layer Name', facet_row='Chunk Size',\n",
    "            pattern_shape=\"Batching Type\", barmode='relative',\n",
    "            title='Runtime Breakdown by Chunk Size, Input Tokens = {}, Output Tokens = {}'.format(input_tokens, output_tokens))\n",
    "\n",
    "fig.update_layout(\n",
    "    autosize=False,\n",
    "    width=1000,\n",
    "    height=800,\n",
    ")\n",
    "fig.show()"
   ]
  },
  {
   "cell_type": "code",
   "execution_count": 6,
   "metadata": {},
   "outputs": [
    {
     "data": {
      "application/vnd.microsoft.datawrangler.viewer.v0+json": {
       "columns": [
        {
         "name": "index",
         "rawType": "int64",
         "type": "integer"
        },
        {
         "name": "Batching Type",
         "rawType": "object",
         "type": "string"
        },
        {
         "name": "Layer Name",
         "rawType": "object",
         "type": "string"
        },
        {
         "name": "Runtime",
         "rawType": "float64",
         "type": "float"
        },
        {
         "name": "Chunk Size",
         "rawType": "object",
         "type": "unknown"
        },
        {
         "name": "Decode Batch",
         "rawType": "object",
         "type": "string"
        }
       ],
       "conversionMethod": "pd.DataFrame",
       "ref": "8d712798-fcc3-4398-897d-ccda623e7379",
       "rows": [
        [
         "0",
         "Chunked",
         "Embedding",
         "0.14953071687122188",
         "512",
         "1"
        ],
        [
         "1",
         "Chunked",
         "Collective",
         "5.0696956990559885",
         "512",
         "1"
        ],
        [
         "2",
         "Chunked",
         "LA",
         "0.7961735725402832",
         "512",
         "1"
        ],
        [
         "3",
         "Chunked",
         "QKVO",
         "3.5625",
         "512",
         "1"
        ],
        [
         "4",
         "Chunked",
         "FFN",
         "7.3125",
         "512",
         "1"
        ],
        [
         "0",
         "Chunked",
         "Embedding",
         "0.14887170370419822",
         "512",
         "16"
        ],
        [
         "1",
         "Chunked",
         "Collective",
         "5.069123494466145",
         "512",
         "16"
        ],
        [
         "2",
         "Chunked",
         "LA",
         "2.8951416015625",
         "512",
         "16"
        ],
        [
         "3",
         "Chunked",
         "QKVO",
         "3.5625",
         "512",
         "16"
        ],
        [
         "4",
         "Chunked",
         "FFN",
         "7.3125",
         "512",
         "16"
        ],
        [
         "0",
         "Chunked",
         "Embedding",
         "0.1467628615697225",
         "512",
         "64"
        ],
        [
         "1",
         "Chunked",
         "Collective",
         "5.067292439778645",
         "512",
         "64"
        ],
        [
         "2",
         "Chunked",
         "LA",
         "9.61328125",
         "512",
         "64"
        ],
        [
         "3",
         "Chunked",
         "QKVO",
         "3.5625",
         "512",
         "64"
        ],
        [
         "4",
         "Chunked",
         "FFN",
         "7.3125",
         "512",
         "64"
        ],
        [
         "0",
         "Chunked",
         "Embedding",
         "0.531220000021927",
         "2048",
         "1"
        ],
        [
         "1",
         "Chunked",
         "Collective",
         "16.49814723714193",
         "2048",
         "1"
        ],
        [
         "2",
         "Chunked",
         "LA",
         "3.841583728790283",
         "2048",
         "1"
        ],
        [
         "3",
         "Chunked",
         "QKVO",
         "13.194139533312",
         "2048",
         "1"
        ],
        [
         "4",
         "Chunked",
         "FFN",
         "26.388279066624",
         "2048",
         "1"
        ],
        [
         "0",
         "Chunked",
         "Embedding",
         "0.5296182248720833",
         "2048",
         "16"
        ],
        [
         "1",
         "Chunked",
         "Collective",
         "16.497575032552085",
         "2048",
         "16"
        ],
        [
         "2",
         "Chunked",
         "LA",
         "5.9185791015625",
         "2048",
         "16"
        ],
        [
         "3",
         "Chunked",
         "QKVO",
         "13.194139533312",
         "2048",
         "16"
        ],
        [
         "4",
         "Chunked",
         "FFN",
         "26.388279066624",
         "2048",
         "16"
        ],
        [
         "0",
         "Chunked",
         "Embedding",
         "0.5244925443925833",
         "2048",
         "64"
        ],
        [
         "1",
         "Chunked",
         "Collective",
         "16.495743977864585",
         "2048",
         "64"
        ],
        [
         "2",
         "Chunked",
         "LA",
         "12.56640625",
         "2048",
         "64"
        ],
        [
         "3",
         "Chunked",
         "QKVO",
         "13.194139533312",
         "2048",
         "64"
        ],
        [
         "4",
         "Chunked",
         "FFN",
         "26.388279066624",
         "2048",
         "64"
        ]
       ],
       "shape": {
        "columns": 5,
        "rows": 30
       }
      },
      "text/html": [
       "<div>\n",
       "<style scoped>\n",
       "    .dataframe tbody tr th:only-of-type {\n",
       "        vertical-align: middle;\n",
       "    }\n",
       "\n",
       "    .dataframe tbody tr th {\n",
       "        vertical-align: top;\n",
       "    }\n",
       "\n",
       "    .dataframe thead th {\n",
       "        text-align: right;\n",
       "    }\n",
       "</style>\n",
       "<table border=\"1\" class=\"dataframe\">\n",
       "  <thead>\n",
       "    <tr style=\"text-align: right;\">\n",
       "      <th></th>\n",
       "      <th>Batching Type</th>\n",
       "      <th>Layer Name</th>\n",
       "      <th>Runtime</th>\n",
       "      <th>Chunk Size</th>\n",
       "      <th>Decode Batch</th>\n",
       "    </tr>\n",
       "  </thead>\n",
       "  <tbody>\n",
       "    <tr>\n",
       "      <th>0</th>\n",
       "      <td>Chunked</td>\n",
       "      <td>Embedding</td>\n",
       "      <td>0.149531</td>\n",
       "      <td>512</td>\n",
       "      <td>1</td>\n",
       "    </tr>\n",
       "    <tr>\n",
       "      <th>1</th>\n",
       "      <td>Chunked</td>\n",
       "      <td>Collective</td>\n",
       "      <td>5.069696</td>\n",
       "      <td>512</td>\n",
       "      <td>1</td>\n",
       "    </tr>\n",
       "    <tr>\n",
       "      <th>2</th>\n",
       "      <td>Chunked</td>\n",
       "      <td>LA</td>\n",
       "      <td>0.796174</td>\n",
       "      <td>512</td>\n",
       "      <td>1</td>\n",
       "    </tr>\n",
       "    <tr>\n",
       "      <th>3</th>\n",
       "      <td>Chunked</td>\n",
       "      <td>QKVO</td>\n",
       "      <td>3.562500</td>\n",
       "      <td>512</td>\n",
       "      <td>1</td>\n",
       "    </tr>\n",
       "    <tr>\n",
       "      <th>4</th>\n",
       "      <td>Chunked</td>\n",
       "      <td>FFN</td>\n",
       "      <td>7.312500</td>\n",
       "      <td>512</td>\n",
       "      <td>1</td>\n",
       "    </tr>\n",
       "    <tr>\n",
       "      <th>0</th>\n",
       "      <td>Chunked</td>\n",
       "      <td>Embedding</td>\n",
       "      <td>0.148872</td>\n",
       "      <td>512</td>\n",
       "      <td>16</td>\n",
       "    </tr>\n",
       "    <tr>\n",
       "      <th>1</th>\n",
       "      <td>Chunked</td>\n",
       "      <td>Collective</td>\n",
       "      <td>5.069123</td>\n",
       "      <td>512</td>\n",
       "      <td>16</td>\n",
       "    </tr>\n",
       "    <tr>\n",
       "      <th>2</th>\n",
       "      <td>Chunked</td>\n",
       "      <td>LA</td>\n",
       "      <td>2.895142</td>\n",
       "      <td>512</td>\n",
       "      <td>16</td>\n",
       "    </tr>\n",
       "    <tr>\n",
       "      <th>3</th>\n",
       "      <td>Chunked</td>\n",
       "      <td>QKVO</td>\n",
       "      <td>3.562500</td>\n",
       "      <td>512</td>\n",
       "      <td>16</td>\n",
       "    </tr>\n",
       "    <tr>\n",
       "      <th>4</th>\n",
       "      <td>Chunked</td>\n",
       "      <td>FFN</td>\n",
       "      <td>7.312500</td>\n",
       "      <td>512</td>\n",
       "      <td>16</td>\n",
       "    </tr>\n",
       "    <tr>\n",
       "      <th>0</th>\n",
       "      <td>Chunked</td>\n",
       "      <td>Embedding</td>\n",
       "      <td>0.146763</td>\n",
       "      <td>512</td>\n",
       "      <td>64</td>\n",
       "    </tr>\n",
       "    <tr>\n",
       "      <th>1</th>\n",
       "      <td>Chunked</td>\n",
       "      <td>Collective</td>\n",
       "      <td>5.067292</td>\n",
       "      <td>512</td>\n",
       "      <td>64</td>\n",
       "    </tr>\n",
       "    <tr>\n",
       "      <th>2</th>\n",
       "      <td>Chunked</td>\n",
       "      <td>LA</td>\n",
       "      <td>9.613281</td>\n",
       "      <td>512</td>\n",
       "      <td>64</td>\n",
       "    </tr>\n",
       "    <tr>\n",
       "      <th>3</th>\n",
       "      <td>Chunked</td>\n",
       "      <td>QKVO</td>\n",
       "      <td>3.562500</td>\n",
       "      <td>512</td>\n",
       "      <td>64</td>\n",
       "    </tr>\n",
       "    <tr>\n",
       "      <th>4</th>\n",
       "      <td>Chunked</td>\n",
       "      <td>FFN</td>\n",
       "      <td>7.312500</td>\n",
       "      <td>512</td>\n",
       "      <td>64</td>\n",
       "    </tr>\n",
       "    <tr>\n",
       "      <th>0</th>\n",
       "      <td>Chunked</td>\n",
       "      <td>Embedding</td>\n",
       "      <td>0.531220</td>\n",
       "      <td>2048</td>\n",
       "      <td>1</td>\n",
       "    </tr>\n",
       "    <tr>\n",
       "      <th>1</th>\n",
       "      <td>Chunked</td>\n",
       "      <td>Collective</td>\n",
       "      <td>16.498147</td>\n",
       "      <td>2048</td>\n",
       "      <td>1</td>\n",
       "    </tr>\n",
       "    <tr>\n",
       "      <th>2</th>\n",
       "      <td>Chunked</td>\n",
       "      <td>LA</td>\n",
       "      <td>3.841584</td>\n",
       "      <td>2048</td>\n",
       "      <td>1</td>\n",
       "    </tr>\n",
       "    <tr>\n",
       "      <th>3</th>\n",
       "      <td>Chunked</td>\n",
       "      <td>QKVO</td>\n",
       "      <td>13.194140</td>\n",
       "      <td>2048</td>\n",
       "      <td>1</td>\n",
       "    </tr>\n",
       "    <tr>\n",
       "      <th>4</th>\n",
       "      <td>Chunked</td>\n",
       "      <td>FFN</td>\n",
       "      <td>26.388279</td>\n",
       "      <td>2048</td>\n",
       "      <td>1</td>\n",
       "    </tr>\n",
       "    <tr>\n",
       "      <th>0</th>\n",
       "      <td>Chunked</td>\n",
       "      <td>Embedding</td>\n",
       "      <td>0.529618</td>\n",
       "      <td>2048</td>\n",
       "      <td>16</td>\n",
       "    </tr>\n",
       "    <tr>\n",
       "      <th>1</th>\n",
       "      <td>Chunked</td>\n",
       "      <td>Collective</td>\n",
       "      <td>16.497575</td>\n",
       "      <td>2048</td>\n",
       "      <td>16</td>\n",
       "    </tr>\n",
       "    <tr>\n",
       "      <th>2</th>\n",
       "      <td>Chunked</td>\n",
       "      <td>LA</td>\n",
       "      <td>5.918579</td>\n",
       "      <td>2048</td>\n",
       "      <td>16</td>\n",
       "    </tr>\n",
       "    <tr>\n",
       "      <th>3</th>\n",
       "      <td>Chunked</td>\n",
       "      <td>QKVO</td>\n",
       "      <td>13.194140</td>\n",
       "      <td>2048</td>\n",
       "      <td>16</td>\n",
       "    </tr>\n",
       "    <tr>\n",
       "      <th>4</th>\n",
       "      <td>Chunked</td>\n",
       "      <td>FFN</td>\n",
       "      <td>26.388279</td>\n",
       "      <td>2048</td>\n",
       "      <td>16</td>\n",
       "    </tr>\n",
       "    <tr>\n",
       "      <th>0</th>\n",
       "      <td>Chunked</td>\n",
       "      <td>Embedding</td>\n",
       "      <td>0.524493</td>\n",
       "      <td>2048</td>\n",
       "      <td>64</td>\n",
       "    </tr>\n",
       "    <tr>\n",
       "      <th>1</th>\n",
       "      <td>Chunked</td>\n",
       "      <td>Collective</td>\n",
       "      <td>16.495744</td>\n",
       "      <td>2048</td>\n",
       "      <td>64</td>\n",
       "    </tr>\n",
       "    <tr>\n",
       "      <th>2</th>\n",
       "      <td>Chunked</td>\n",
       "      <td>LA</td>\n",
       "      <td>12.566406</td>\n",
       "      <td>2048</td>\n",
       "      <td>64</td>\n",
       "    </tr>\n",
       "    <tr>\n",
       "      <th>3</th>\n",
       "      <td>Chunked</td>\n",
       "      <td>QKVO</td>\n",
       "      <td>13.194140</td>\n",
       "      <td>2048</td>\n",
       "      <td>64</td>\n",
       "    </tr>\n",
       "    <tr>\n",
       "      <th>4</th>\n",
       "      <td>Chunked</td>\n",
       "      <td>FFN</td>\n",
       "      <td>26.388279</td>\n",
       "      <td>2048</td>\n",
       "      <td>64</td>\n",
       "    </tr>\n",
       "  </tbody>\n",
       "</table>\n",
       "</div>"
      ],
      "text/plain": [
       "  Batching Type  Layer Name    Runtime Chunk Size Decode Batch\n",
       "0       Chunked   Embedding   0.149531        512            1\n",
       "1       Chunked  Collective   5.069696        512            1\n",
       "2       Chunked          LA   0.796174        512            1\n",
       "3       Chunked        QKVO   3.562500        512            1\n",
       "4       Chunked         FFN   7.312500        512            1\n",
       "0       Chunked   Embedding   0.148872        512           16\n",
       "1       Chunked  Collective   5.069123        512           16\n",
       "2       Chunked          LA   2.895142        512           16\n",
       "3       Chunked        QKVO   3.562500        512           16\n",
       "4       Chunked         FFN   7.312500        512           16\n",
       "0       Chunked   Embedding   0.146763        512           64\n",
       "1       Chunked  Collective   5.067292        512           64\n",
       "2       Chunked          LA   9.613281        512           64\n",
       "3       Chunked        QKVO   3.562500        512           64\n",
       "4       Chunked         FFN   7.312500        512           64\n",
       "0       Chunked   Embedding   0.531220       2048            1\n",
       "1       Chunked  Collective  16.498147       2048            1\n",
       "2       Chunked          LA   3.841584       2048            1\n",
       "3       Chunked        QKVO  13.194140       2048            1\n",
       "4       Chunked         FFN  26.388279       2048            1\n",
       "0       Chunked   Embedding   0.529618       2048           16\n",
       "1       Chunked  Collective  16.497575       2048           16\n",
       "2       Chunked          LA   5.918579       2048           16\n",
       "3       Chunked        QKVO  13.194140       2048           16\n",
       "4       Chunked         FFN  26.388279       2048           16\n",
       "0       Chunked   Embedding   0.524493       2048           64\n",
       "1       Chunked  Collective  16.495744       2048           64\n",
       "2       Chunked          LA  12.566406       2048           64\n",
       "3       Chunked        QKVO  13.194140       2048           64\n",
       "4       Chunked         FFN  26.388279       2048           64"
      ]
     },
     "execution_count": 6,
     "metadata": {},
     "output_type": "execute_result"
    }
   ],
   "source": [
    "runtime_plot_df"
   ]
  },
  {
   "cell_type": "code",
   "execution_count": 7,
   "metadata": {},
   "outputs": [
    {
     "data": {
      "image/png": "[encoded data removed]",
      "text/plain": [
       "<Figure size 1000x400 with 2 Axes>"
      ]
     },
     "metadata": {},
     "output_type": "display_data"
    }
   ],
   "source": [
    "import matplotlib.pyplot as plt\n",
    "\n",
    "runtime_plot_df['Decode Batch'] = runtime_plot_df['Decode Batch'].astype(str)\n",
    "runtime_plot_df['Decode Batch'] = pd.Categorical(runtime_plot_df['Decode Batch'], categories=runtime_plot_df['Decode Batch'].unique(), ordered=True)\n",
    "\n",
    "fig, ax = plt.subplots(figsize=(10, 4), ncols=2)\n",
    "\n",
    "\n",
    "\n",
    "for i, (key, grp) in enumerate(runtime_plot_df[runtime_plot_df['Batching Type'] == 'Chunked'].groupby(['Chunk Size'])):\n",
    "    # print(grp.pivot(index=['Decode Batch'], columns='Layer Name', values='Runtime'))\n",
    "    grp.pivot(index=['Decode Batch'], columns='Layer Name', values='Runtime').plot(kind='bar', stacked=True, ax=ax[i], label=key)\n",
    "\n",
    "    # ax[i].set_title('Runtime Breakdown by Chunk Size, Input Tokens = {}, Output Tokens = {}, Chunk Size= {}'.format(input_tokens, output_tokens, key[0]))\n",
    "    ax[i].set_title('Chunk Size= {}'.format(key[0]))\n",
    "    ax[i].set_ylabel('Latency (ms)')\n",
    "    ax[i].xaxis.set_tick_params(rotation=0)\n",
    "    ax[i].tick_params(axis='both', which='major', labelsize=24)\n",
    "\n",
    "    ax[i].title.set_size(30)\n",
    "    ax[i].xaxis.label.set_size(24)\n",
    "    ax[i].yaxis.label.set_size(24)\n",
    "    # ax[i].xaxis.tick_size = 32\n",
    "    ax[i].legend(loc='upper left', fontsize=18)\n",
    "    # ax[i].legend = 2\n",
    "    ax[i].set_ylim(0, 50)\n",
    "    if i == 1:\n",
    "        ax[i].legend().set_visible(False)\n",
    "        ax[i].set_ylabel('')\n",
    "    ax[i].set_xlabel('Batch')\n",
    "plt.savefig('chunked_runtime_breakdown.pdf', format='pdf', dpi=300)\n",
    "# plt.xticks(rotation=90)\n",
    "plt.tight_layout()\n",
    "plt.show()\n"
   ]
  },
  {
   "cell_type": "code",
   "execution_count": 8,
   "metadata": {},
   "outputs": [
    {
     "data": {
      "text/html": [
       "<style type=\"text/css\">\n",
       "#T_9cf45_row0_col3 {\n",
       "  background-color: #802704;\n",
       "  color: #f1f1f1;\n",
       "}\n",
       "#T_9cf45_row0_col4, #T_9cf45_row0_col9, #T_9cf45_row0_col15, #T_9cf45_row1_col4, #T_9cf45_row1_col9, #T_9cf45_row1_col15, #T_9cf45_row3_col4, #T_9cf45_row3_col9, #T_9cf45_row3_col15, #T_9cf45_row4_col4, #T_9cf45_row4_col9, #T_9cf45_row4_col15, #T_9cf45_row5_col4, #T_9cf45_row5_col9, #T_9cf45_row5_col15, #T_9cf45_row6_col4, #T_9cf45_row6_col9, #T_9cf45_row6_col15, #T_9cf45_row7_col4, #T_9cf45_row7_col9, #T_9cf45_row7_col15, #T_9cf45_row8_col4, #T_9cf45_row8_col9, #T_9cf45_row8_col15, #T_9cf45_row10_col9, #T_9cf45_row11_col4, #T_9cf45_row11_col9, #T_9cf45_row11_col15, #T_9cf45_row12_col9, #T_9cf45_row15_col9, #T_9cf45_row16_col4, #T_9cf45_row16_col9, #T_9cf45_row16_col15, #T_9cf45_row17_col9 {\n",
       "  background-color: #f7fbff;\n",
       "  color: #000000;\n",
       "}\n",
       "#T_9cf45_row0_col6, #T_9cf45_row16_col8 {\n",
       "  background-color: #555aa7;\n",
       "  color: #f1f1f1;\n",
       "}\n",
       "#T_9cf45_row0_col7, #T_9cf45_row2_col7, #T_9cf45_row3_col8, #T_9cf45_row4_col6, #T_9cf45_row5_col7, #T_9cf45_row6_col7, #T_9cf45_row7_col7, #T_9cf45_row8_col7, #T_9cf45_row9_col7, #T_9cf45_row11_col6, #T_9cf45_row13_col7, #T_9cf45_row14_col7, #T_9cf45_row16_col7 {\n",
       "  background-color: #9e0142;\n",
       "  color: #f1f1f1;\n",
       "}\n",
       "#T_9cf45_row0_col8, #T_9cf45_row1_col6, #T_9cf45_row1_col7, #T_9cf45_row1_col8, #T_9cf45_row2_col8, #T_9cf45_row3_col7, #T_9cf45_row4_col7, #T_9cf45_row5_col6, #T_9cf45_row6_col8, #T_9cf45_row7_col6, #T_9cf45_row8_col8, #T_9cf45_row9_col6, #T_9cf45_row10_col6, #T_9cf45_row10_col7, #T_9cf45_row10_col8, #T_9cf45_row11_col8, #T_9cf45_row12_col6, #T_9cf45_row12_col7, #T_9cf45_row12_col8, #T_9cf45_row13_col6, #T_9cf45_row13_col8, #T_9cf45_row14_col6, #T_9cf45_row14_col8, #T_9cf45_row15_col6, #T_9cf45_row15_col7, #T_9cf45_row15_col8, #T_9cf45_row16_col6, #T_9cf45_row17_col6, #T_9cf45_row17_col7, #T_9cf45_row17_col8 {\n",
       "  background-color: #5e4fa2;\n",
       "  color: #f1f1f1;\n",
       "}\n",
       "#T_9cf45_row0_col11, #T_9cf45_row1_col12, #T_9cf45_row2_col11, #T_9cf45_row3_col11, #T_9cf45_row4_col11, #T_9cf45_row5_col11, #T_9cf45_row6_col11, #T_9cf45_row7_col11, #T_9cf45_row8_col11, #T_9cf45_row9_col11, #T_9cf45_row10_col12, #T_9cf45_row11_col11, #T_9cf45_row12_col12, #T_9cf45_row13_col11, #T_9cf45_row14_col11, #T_9cf45_row15_col12, #T_9cf45_row16_col11, #T_9cf45_row17_col12 {\n",
       "  background-color: green;\n",
       "}\n",
       "#T_9cf45_row0_col13, #T_9cf45_row2_col13, #T_9cf45_row3_col13, #T_9cf45_row4_col13, #T_9cf45_row5_col13, #T_9cf45_row6_col13, #T_9cf45_row7_col13, #T_9cf45_row8_col13, #T_9cf45_row9_col13, #T_9cf45_row11_col13, #T_9cf45_row13_col13, #T_9cf45_row14_col13, #T_9cf45_row16_col13 {\n",
       "  color: red;\n",
       "}\n",
       "#T_9cf45_row1_col3, #T_9cf45_row10_col3, #T_9cf45_row12_col3, #T_9cf45_row15_col3, #T_9cf45_row17_col3 {\n",
       "  background-color: #fff5eb;\n",
       "  color: #000000;\n",
       "}\n",
       "#T_9cf45_row1_col13, #T_9cf45_row10_col13, #T_9cf45_row12_col13, #T_9cf45_row15_col13, #T_9cf45_row17_col13 {\n",
       "  color: blue;\n",
       "}\n",
       "#T_9cf45_row2_col3 {\n",
       "  background-color: #be3f02;\n",
       "  color: #f1f1f1;\n",
       "}\n",
       "#T_9cf45_row2_col4, #T_9cf45_row2_col9, #T_9cf45_row2_col15, #T_9cf45_row9_col9 {\n",
       "  background-color: #f5fafe;\n",
       "  color: #000000;\n",
       "}\n",
       "#T_9cf45_row2_col6 {\n",
       "  background-color: #79c9a5;\n",
       "  color: #000000;\n",
       "}\n",
       "#T_9cf45_row3_col3, #T_9cf45_row4_col3 {\n",
       "  background-color: #fedcb9;\n",
       "  color: #000000;\n",
       "}\n",
       "#T_9cf45_row3_col6, #T_9cf45_row4_col8 {\n",
       "  background-color: #6bc4a5;\n",
       "  color: #000000;\n",
       "}\n",
       "#T_9cf45_row5_col3, #T_9cf45_row6_col3, #T_9cf45_row7_col3, #T_9cf45_row8_col3 {\n",
       "  background-color: #ffefe0;\n",
       "  color: #000000;\n",
       "}\n",
       "#T_9cf45_row5_col8, #T_9cf45_row6_col6 {\n",
       "  background-color: #7ecca5;\n",
       "  color: #000000;\n",
       "}\n",
       "#T_9cf45_row7_col8, #T_9cf45_row8_col6 {\n",
       "  background-color: #91d3a4;\n",
       "  color: #000000;\n",
       "}\n",
       "#T_9cf45_row9_col3 {\n",
       "  background-color: #c64102;\n",
       "  color: #f1f1f1;\n",
       "}\n",
       "#T_9cf45_row9_col4, #T_9cf45_row9_col15, #T_9cf45_row17_col4, #T_9cf45_row17_col15 {\n",
       "  background-color: #f6faff;\n",
       "  color: #000000;\n",
       "}\n",
       "#T_9cf45_row9_col8 {\n",
       "  background-color: #8fd2a4;\n",
       "  color: #000000;\n",
       "}\n",
       "#T_9cf45_row10_col4, #T_9cf45_row10_col15, #T_9cf45_row15_col4, #T_9cf45_row15_col15 {\n",
       "  background-color: #e2edf8;\n",
       "  color: #000000;\n",
       "}\n",
       "#T_9cf45_row11_col3 {\n",
       "  background-color: #fd984b;\n",
       "  color: #000000;\n",
       "}\n",
       "#T_9cf45_row11_col7 {\n",
       "  background-color: #a20643;\n",
       "  color: #f1f1f1;\n",
       "}\n",
       "#T_9cf45_row12_col4, #T_9cf45_row12_col15 {\n",
       "  background-color: #e7f1fa;\n",
       "  color: #000000;\n",
       "}\n",
       "#T_9cf45_row13_col3, #T_9cf45_row14_col3 {\n",
       "  background-color: #fff1e4;\n",
       "  color: #000000;\n",
       "}\n",
       "#T_9cf45_row13_col4, #T_9cf45_row13_col9, #T_9cf45_row13_col15 {\n",
       "  background-color: #08306b;\n",
       "  color: #f1f1f1;\n",
       "}\n",
       "#T_9cf45_row14_col4, #T_9cf45_row14_col9, #T_9cf45_row14_col15 {\n",
       "  background-color: #6aaed6;\n",
       "  color: #f1f1f1;\n",
       "}\n",
       "#T_9cf45_row16_col3 {\n",
       "  background-color: #7f2704;\n",
       "  color: #f1f1f1;\n",
       "}\n",
       "</style>\n",
       "<table id=\"T_9cf45\">\n",
       "  <thead>\n",
       "    <tr>\n",
       "      <th class=\"blank level0\" >&nbsp;</th>\n",
       "      <th id=\"T_9cf45_level0_col0\" class=\"col_heading level0 col0\" >Layer Name</th>\n",
       "      <th id=\"T_9cf45_level0_col1\" class=\"col_heading level0 col1\" >Op Type</th>\n",
       "      <th id=\"T_9cf45_level0_col2\" class=\"col_heading level0 col2\" >Dimension</th>\n",
       "      <th id=\"T_9cf45_level0_col3\" class=\"col_heading level0 col3\" >Op Intensity</th>\n",
       "      <th id=\"T_9cf45_level0_col4\" class=\"col_heading level0 col4\" >Latency (msec)</th>\n",
       "      <th id=\"T_9cf45_level0_col5\" class=\"col_heading level0 col5\" >Num ops (MFLOP)</th>\n",
       "      <th id=\"T_9cf45_level0_col6\" class=\"col_heading level0 col6\" >Input_a (MB)</th>\n",
       "      <th id=\"T_9cf45_level0_col7\" class=\"col_heading level0 col7\" >Input_w (MB)</th>\n",
       "      <th id=\"T_9cf45_level0_col8\" class=\"col_heading level0 col8\" >Output (MB)</th>\n",
       "      <th id=\"T_9cf45_level0_col9\" class=\"col_heading level0 col9\" >Total Data (MB)</th>\n",
       "      <th id=\"T_9cf45_level0_col10\" class=\"col_heading level0 col10\" >Compute time (msec)</th>\n",
       "      <th id=\"T_9cf45_level0_col11\" class=\"col_heading level0 col11\" >Memory time (msec)</th>\n",
       "      <th id=\"T_9cf45_level0_col12\" class=\"col_heading level0 col12\" >Communication time (msec)</th>\n",
       "      <th id=\"T_9cf45_level0_col13\" class=\"col_heading level0 col13\" >Bound</th>\n",
       "      <th id=\"T_9cf45_level0_col14\" class=\"col_heading level0 col14\" >C/M ratio</th>\n",
       "      <th id=\"T_9cf45_level0_col15\" class=\"col_heading level0 col15\" >Cycles</th>\n",
       "      <th id=\"T_9cf45_level0_col16\" class=\"col_heading level0 col16\" >% of total time</th>\n",
       "      <th id=\"T_9cf45_level0_col17\" class=\"col_heading level0 col17\" >Throughput (Tflops)</th>\n",
       "      <th id=\"T_9cf45_level0_col18\" class=\"col_heading level0 col18\" >Compute cycle</th>\n",
       "      <th id=\"T_9cf45_level0_col19\" class=\"col_heading level0 col19\" >Memory cycle</th>\n",
       "      <th id=\"T_9cf45_level0_col20\" class=\"col_heading level0 col20\" >C Effcy</th>\n",
       "      <th id=\"T_9cf45_level0_col21\" class=\"col_heading level0 col21\" >Communication cycle</th>\n",
       "    </tr>\n",
       "  </thead>\n",
       "  <tbody>\n",
       "    <tr>\n",
       "      <th id=\"T_9cf45_level0_row0\" class=\"row_heading level0 row0\" >0</th>\n",
       "      <td id=\"T_9cf45_row0_col0\" class=\"data row0 col0\" >embeddings</td>\n",
       "      <td id=\"T_9cf45_row0_col1\" class=\"data row0 col1\" >GEMM</td>\n",
       "      <td id=\"T_9cf45_row0_col2\" class=\"data row0 col2\" >[((1, 16160, 256), (7168, 16160), (1, 7168, 256))]</td>\n",
       "      <td id=\"T_9cf45_row0_col3\" class=\"data row0 col3\" >486.897572</td>\n",
       "      <td id=\"T_9cf45_row0_col4\" class=\"data row0 col4\" >0.014180</td>\n",
       "      <td id=\"T_9cf45_row0_col5\" class=\"data row0 col5\" >59307.458560</td>\n",
       "      <td id=\"T_9cf45_row0_col6\" class=\"data row0 col6\" >3.945312</td>\n",
       "      <td id=\"T_9cf45_row0_col7\" class=\"data row0 col7\" >110.468750</td>\n",
       "      <td id=\"T_9cf45_row0_col8\" class=\"data row0 col8\" >1.750000</td>\n",
       "      <td id=\"T_9cf45_row0_col9\" class=\"data row0 col9\" >116.164062</td>\n",
       "      <td id=\"T_9cf45_row0_col10\" class=\"data row0 col10\" >0.006590</td>\n",
       "      <td id=\"T_9cf45_row0_col11\" class=\"data row0 col11\" >0.014180</td>\n",
       "      <td id=\"T_9cf45_row0_col12\" class=\"data row0 col12\" >0.000000</td>\n",
       "      <td id=\"T_9cf45_row0_col13\" class=\"data row0 col13\" >Memory</td>\n",
       "      <td id=\"T_9cf45_row0_col14\" class=\"data row0 col14\" >0.464713</td>\n",
       "      <td id=\"T_9cf45_row0_col15\" class=\"data row0 col15\" >14180.183411</td>\n",
       "      <td id=\"T_9cf45_row0_col16\" class=\"data row0 col16\" >0.116298</td>\n",
       "      <td id=\"T_9cf45_row0_col17\" class=\"data row0 col17\" >4182.418298</td>\n",
       "      <td id=\"T_9cf45_row0_col18\" class=\"data row0 col18\" >6589.717618</td>\n",
       "      <td id=\"T_9cf45_row0_col19\" class=\"data row0 col19\" >14180.183411</td>\n",
       "      <td id=\"T_9cf45_row0_col20\" class=\"data row0 col20\" >1</td>\n",
       "      <td id=\"T_9cf45_row0_col21\" class=\"data row0 col21\" >0.000000</td>\n",
       "    </tr>\n",
       "    <tr>\n",
       "      <th id=\"T_9cf45_level0_row1\" class=\"row_heading level0 row1\" >1</th>\n",
       "      <td id=\"T_9cf45_row1_col0\" class=\"data row1 col0\" >Emb_AR</td>\n",
       "      <td id=\"T_9cf45_row1_col1\" class=\"data row1 col1\" >Sync</td>\n",
       "      <td id=\"T_9cf45_row1_col2\" class=\"data row1 col2\" >(1, 256, 7168)</td>\n",
       "      <td id=\"T_9cf45_row1_col3\" class=\"data row1 col3\" >0.000000</td>\n",
       "      <td id=\"T_9cf45_row1_col4\" class=\"data row1 col4\" >0.011823</td>\n",
       "      <td id=\"T_9cf45_row1_col5\" class=\"data row1 col5\" >0.000000</td>\n",
       "      <td id=\"T_9cf45_row1_col6\" class=\"data row1 col6\" >0.000000</td>\n",
       "      <td id=\"T_9cf45_row1_col7\" class=\"data row1 col7\" >0.000000</td>\n",
       "      <td id=\"T_9cf45_row1_col8\" class=\"data row1 col8\" >0.000000</td>\n",
       "      <td id=\"T_9cf45_row1_col9\" class=\"data row1 col9\" >0.000000</td>\n",
       "      <td id=\"T_9cf45_row1_col10\" class=\"data row1 col10\" >0.000000</td>\n",
       "      <td id=\"T_9cf45_row1_col11\" class=\"data row1 col11\" >0.000000</td>\n",
       "      <td id=\"T_9cf45_row1_col12\" class=\"data row1 col12\" >0.011823</td>\n",
       "      <td id=\"T_9cf45_row1_col13\" class=\"data row1 col13\" >Collective</td>\n",
       "      <td id=\"T_9cf45_row1_col14\" class=\"data row1 col14\" >0.000000</td>\n",
       "      <td id=\"T_9cf45_row1_col15\" class=\"data row1 col15\" >11823.025174</td>\n",
       "      <td id=\"T_9cf45_row1_col16\" class=\"data row1 col16\" >0.096966</td>\n",
       "      <td id=\"T_9cf45_row1_col17\" class=\"data row1 col17\" >0.000000</td>\n",
       "      <td id=\"T_9cf45_row1_col18\" class=\"data row1 col18\" >0.000000</td>\n",
       "      <td id=\"T_9cf45_row1_col19\" class=\"data row1 col19\" >0.000000</td>\n",
       "      <td id=\"T_9cf45_row1_col20\" class=\"data row1 col20\" >1</td>\n",
       "      <td id=\"T_9cf45_row1_col21\" class=\"data row1 col21\" >11823.025174</td>\n",
       "    </tr>\n",
       "    <tr>\n",
       "      <th id=\"T_9cf45_level0_row2\" class=\"row_heading level0 row2\" >2</th>\n",
       "      <td id=\"T_9cf45_row2_col0\" class=\"data row2 col0\" >QKV</td>\n",
       "      <td id=\"T_9cf45_row2_col1\" class=\"data row2 col1\" >GEMM</td>\n",
       "      <td id=\"T_9cf45_row2_col2\" class=\"data row2 col2\" >[((1, 7168, 258), (1008, 7168), (1, 1008, 258))]</td>\n",
       "      <td id=\"T_9cf45_row2_col3\" class=\"data row2 col3\" >399.397596</td>\n",
       "      <td id=\"T_9cf45_row2_col4\" class=\"data row2 col4\" >0.057967</td>\n",
       "      <td id=\"T_9cf45_row2_col5\" class=\"data row2 col5\" >227424.927744</td>\n",
       "      <td id=\"T_9cf45_row2_col6\" class=\"data row2 col6\" >107.583984</td>\n",
       "      <td id=\"T_9cf45_row2_col7\" class=\"data row2 col7\" >420.328125</td>\n",
       "      <td id=\"T_9cf45_row2_col8\" class=\"data row2 col8\" >15.128998</td>\n",
       "      <td id=\"T_9cf45_row2_col9\" class=\"data row2 col9\" >543.041107</td>\n",
       "      <td id=\"T_9cf45_row2_col10\" class=\"data row2 col10\" >0.025269</td>\n",
       "      <td id=\"T_9cf45_row2_col11\" class=\"data row2 col11\" >0.057967</td>\n",
       "      <td id=\"T_9cf45_row2_col12\" class=\"data row2 col12\" >0.000000</td>\n",
       "      <td id=\"T_9cf45_row2_col13\" class=\"data row2 col13\" >Memory</td>\n",
       "      <td id=\"T_9cf45_row2_col14\" class=\"data row2 col14\" >0.435927</td>\n",
       "      <td id=\"T_9cf45_row2_col15\" class=\"data row2 col15\" >57967.190941</td>\n",
       "      <td id=\"T_9cf45_row2_col16\" class=\"data row2 col16\" >0.475415</td>\n",
       "      <td id=\"T_9cf45_row2_col17\" class=\"data row2 col17\" >3923.338772</td>\n",
       "      <td id=\"T_9cf45_row2_col18\" class=\"data row2 col18\" >25269.436416</td>\n",
       "      <td id=\"T_9cf45_row2_col19\" class=\"data row2 col19\" >57967.190941</td>\n",
       "      <td id=\"T_9cf45_row2_col20\" class=\"data row2 col20\" >1</td>\n",
       "      <td id=\"T_9cf45_row2_col21\" class=\"data row2 col21\" >0.000000</td>\n",
       "    </tr>\n",
       "    <tr>\n",
       "      <th id=\"T_9cf45_level0_row3\" class=\"row_heading level0 row3\" >3</th>\n",
       "      <td id=\"T_9cf45_row3_col0\" class=\"data row3 col0\" >Logit Pre</td>\n",
       "      <td id=\"T_9cf45_row3_col1\" class=\"data row3 col1\" >Logit</td>\n",
       "      <td id=\"T_9cf45_row3_col2\" class=\"data row3 col2\" >((1, 16, 256, 56), (1, 1, 256, 56), (1, 16, 256, 256))</td>\n",
       "      <td id=\"T_9cf45_row3_col3\" class=\"data row3 col3\" >90.877971</td>\n",
       "      <td id=\"T_9cf45_row3_col4\" class=\"data row3 col4\" >0.005040</td>\n",
       "      <td id=\"T_9cf45_row3_col5\" class=\"data row3 col5\" >7163.871232</td>\n",
       "      <td id=\"T_9cf45_row3_col6\" class=\"data row3 col6\" >13.343750</td>\n",
       "      <td id=\"T_9cf45_row3_col7\" class=\"data row3 col7\" >0.833984</td>\n",
       "      <td id=\"T_9cf45_row3_col8\" class=\"data row3 col8\" >61.000000</td>\n",
       "      <td id=\"T_9cf45_row3_col9\" class=\"data row3 col9\" >75.177734</td>\n",
       "      <td id=\"T_9cf45_row3_col10\" class=\"data row3 col10\" >0.000796</td>\n",
       "      <td id=\"T_9cf45_row3_col11\" class=\"data row3 col11\" >0.005040</td>\n",
       "      <td id=\"T_9cf45_row3_col12\" class=\"data row3 col12\" >0.000000</td>\n",
       "      <td id=\"T_9cf45_row3_col13\" class=\"data row3 col13\" >Memory</td>\n",
       "      <td id=\"T_9cf45_row3_col14\" class=\"data row3 col14\" >0.157929</td>\n",
       "      <td id=\"T_9cf45_row3_col15\" class=\"data row3 col15\" >5040.142271</td>\n",
       "      <td id=\"T_9cf45_row3_col16\" class=\"data row3 col16\" >0.041336</td>\n",
       "      <td id=\"T_9cf45_row3_col17\" class=\"data row3 col17\" >1421.362899</td>\n",
       "      <td id=\"T_9cf45_row3_col18\" class=\"data row3 col18\" >795.985692</td>\n",
       "      <td id=\"T_9cf45_row3_col19\" class=\"data row3 col19\" >5040.142271</td>\n",
       "      <td id=\"T_9cf45_row3_col20\" class=\"data row3 col20\" >1</td>\n",
       "      <td id=\"T_9cf45_row3_col21\" class=\"data row3 col21\" >0.000000</td>\n",
       "    </tr>\n",
       "    <tr>\n",
       "      <th id=\"T_9cf45_level0_row4\" class=\"row_heading level0 row4\" >4</th>\n",
       "      <td id=\"T_9cf45_row4_col0\" class=\"data row4 col0\" >Attend Pre</td>\n",
       "      <td id=\"T_9cf45_row4_col1\" class=\"data row4 col1\" >Attend</td>\n",
       "      <td id=\"T_9cf45_row4_col2\" class=\"data row4 col2\" >((1, 16, 256, 256), (1, 1, 256, 56), (1, 16, 256, 56))</td>\n",
       "      <td id=\"T_9cf45_row4_col3\" class=\"data row4 col3\" >90.877971</td>\n",
       "      <td id=\"T_9cf45_row4_col4\" class=\"data row4 col4\" >0.005040</td>\n",
       "      <td id=\"T_9cf45_row4_col5\" class=\"data row4 col5\" >7163.871232</td>\n",
       "      <td id=\"T_9cf45_row4_col6\" class=\"data row4 col6\" >61.000000</td>\n",
       "      <td id=\"T_9cf45_row4_col7\" class=\"data row4 col7\" >0.833984</td>\n",
       "      <td id=\"T_9cf45_row4_col8\" class=\"data row4 col8\" >13.343750</td>\n",
       "      <td id=\"T_9cf45_row4_col9\" class=\"data row4 col9\" >75.177734</td>\n",
       "      <td id=\"T_9cf45_row4_col10\" class=\"data row4 col10\" >0.000796</td>\n",
       "      <td id=\"T_9cf45_row4_col11\" class=\"data row4 col11\" >0.005040</td>\n",
       "      <td id=\"T_9cf45_row4_col12\" class=\"data row4 col12\" >0.000000</td>\n",
       "      <td id=\"T_9cf45_row4_col13\" class=\"data row4 col13\" >Memory</td>\n",
       "      <td id=\"T_9cf45_row4_col14\" class=\"data row4 col14\" >0.157929</td>\n",
       "      <td id=\"T_9cf45_row4_col15\" class=\"data row4 col15\" >5040.142271</td>\n",
       "      <td id=\"T_9cf45_row4_col16\" class=\"data row4 col16\" >0.041336</td>\n",
       "      <td id=\"T_9cf45_row4_col17\" class=\"data row4 col17\" >1421.362899</td>\n",
       "      <td id=\"T_9cf45_row4_col18\" class=\"data row4 col18\" >795.985692</td>\n",
       "      <td id=\"T_9cf45_row4_col19\" class=\"data row4 col19\" >5040.142271</td>\n",
       "      <td id=\"T_9cf45_row4_col20\" class=\"data row4 col20\" >1</td>\n",
       "      <td id=\"T_9cf45_row4_col21\" class=\"data row4 col21\" >0.000000</td>\n",
       "    </tr>\n",
       "    <tr>\n",
       "      <th id=\"T_9cf45_level0_row5\" class=\"row_heading level0 row5\" >5</th>\n",
       "      <td id=\"T_9cf45_row5_col0\" class=\"data row5 col0\" >Logit Dec</td>\n",
       "      <td id=\"T_9cf45_row5_col1\" class=\"data row5 col1\" >Logit</td>\n",
       "      <td id=\"T_9cf45_row5_col2\" class=\"data row5 col2\" >((1, 16, 1, 56), (1, 1, 256, 56), (1, 16, 1, 256))</td>\n",
       "      <td id=\"T_9cf45_row5_col3\" class=\"data row5 col3\" >23.735099</td>\n",
       "      <td id=\"T_9cf45_row5_col4\" class=\"data row5 col4\" >0.000118</td>\n",
       "      <td id=\"T_9cf45_row5_col5\" class=\"data row5 col5\" >27.983872</td>\n",
       "      <td id=\"T_9cf45_row5_col6\" class=\"data row5 col6\" >0.052124</td>\n",
       "      <td id=\"T_9cf45_row5_col7\" class=\"data row5 col7\" >0.833984</td>\n",
       "      <td id=\"T_9cf45_row5_col8\" class=\"data row5 col8\" >0.238281</td>\n",
       "      <td id=\"T_9cf45_row5_col9\" class=\"data row5 col9\" >1.124390</td>\n",
       "      <td id=\"T_9cf45_row5_col10\" class=\"data row5 col10\" >0.000003</td>\n",
       "      <td id=\"T_9cf45_row5_col11\" class=\"data row5 col11\" >0.000118</td>\n",
       "      <td id=\"T_9cf45_row5_col12\" class=\"data row5 col12\" >0.000000</td>\n",
       "      <td id=\"T_9cf45_row5_col13\" class=\"data row5 col13\" >Memory</td>\n",
       "      <td id=\"T_9cf45_row5_col14\" class=\"data row5 col14\" >0.026449</td>\n",
       "      <td id=\"T_9cf45_row5_col15\" class=\"data row5 col15\" >117.560228</td>\n",
       "      <td id=\"T_9cf45_row5_col16\" class=\"data row5 col16\" >0.000964</td>\n",
       "      <td id=\"T_9cf45_row5_col17\" class=\"data row5 col17\" >238.038600</td>\n",
       "      <td id=\"T_9cf45_row5_col18\" class=\"data row5 col18\" >3.109319</td>\n",
       "      <td id=\"T_9cf45_row5_col19\" class=\"data row5 col19\" >117.560228</td>\n",
       "      <td id=\"T_9cf45_row5_col20\" class=\"data row5 col20\" >1</td>\n",
       "      <td id=\"T_9cf45_row5_col21\" class=\"data row5 col21\" >0.000000</td>\n",
       "    </tr>\n",
       "    <tr>\n",
       "      <th id=\"T_9cf45_level0_row6\" class=\"row_heading level0 row6\" >6</th>\n",
       "      <td id=\"T_9cf45_row6_col0\" class=\"data row6 col0\" >Attend Dec</td>\n",
       "      <td id=\"T_9cf45_row6_col1\" class=\"data row6 col1\" >Attend</td>\n",
       "      <td id=\"T_9cf45_row6_col2\" class=\"data row6 col2\" >((1, 16, 1, 256), (1, 1, 256, 56), (1, 16, 1, 56))</td>\n",
       "      <td id=\"T_9cf45_row6_col3\" class=\"data row6 col3\" >23.735099</td>\n",
       "      <td id=\"T_9cf45_row6_col4\" class=\"data row6 col4\" >0.000118</td>\n",
       "      <td id=\"T_9cf45_row6_col5\" class=\"data row6 col5\" >27.983872</td>\n",
       "      <td id=\"T_9cf45_row6_col6\" class=\"data row6 col6\" >0.238281</td>\n",
       "      <td id=\"T_9cf45_row6_col7\" class=\"data row6 col7\" >0.833984</td>\n",
       "      <td id=\"T_9cf45_row6_col8\" class=\"data row6 col8\" >0.052124</td>\n",
       "      <td id=\"T_9cf45_row6_col9\" class=\"data row6 col9\" >1.124390</td>\n",
       "      <td id=\"T_9cf45_row6_col10\" class=\"data row6 col10\" >0.000003</td>\n",
       "      <td id=\"T_9cf45_row6_col11\" class=\"data row6 col11\" >0.000118</td>\n",
       "      <td id=\"T_9cf45_row6_col12\" class=\"data row6 col12\" >0.000000</td>\n",
       "      <td id=\"T_9cf45_row6_col13\" class=\"data row6 col13\" >Memory</td>\n",
       "      <td id=\"T_9cf45_row6_col14\" class=\"data row6 col14\" >0.026449</td>\n",
       "      <td id=\"T_9cf45_row6_col15\" class=\"data row6 col15\" >117.560228</td>\n",
       "      <td id=\"T_9cf45_row6_col16\" class=\"data row6 col16\" >0.000964</td>\n",
       "      <td id=\"T_9cf45_row6_col17\" class=\"data row6 col17\" >238.038600</td>\n",
       "      <td id=\"T_9cf45_row6_col18\" class=\"data row6 col18\" >3.109319</td>\n",
       "      <td id=\"T_9cf45_row6_col19\" class=\"data row6 col19\" >117.560228</td>\n",
       "      <td id=\"T_9cf45_row6_col20\" class=\"data row6 col20\" >1</td>\n",
       "      <td id=\"T_9cf45_row6_col21\" class=\"data row6 col21\" >0.000000</td>\n",
       "    </tr>\n",
       "    <tr>\n",
       "      <th id=\"T_9cf45_level0_row7\" class=\"row_heading level0 row7\" >7</th>\n",
       "      <td id=\"T_9cf45_row7_col0\" class=\"data row7 col0\" >Logit Dec</td>\n",
       "      <td id=\"T_9cf45_row7_col1\" class=\"data row7 col1\" >Logit</td>\n",
       "      <td id=\"T_9cf45_row7_col2\" class=\"data row7 col2\" >((1, 16, 1, 56), (1, 1, 512, 56), (1, 16, 1, 512))</td>\n",
       "      <td id=\"T_9cf45_row7_col3\" class=\"data row7 col3\" >24.298305</td>\n",
       "      <td id=\"T_9cf45_row7_col4\" class=\"data row7 col4\" >0.000232</td>\n",
       "      <td id=\"T_9cf45_row7_col5\" class=\"data row7 col5\" >55.967744</td>\n",
       "      <td id=\"T_9cf45_row7_col6\" class=\"data row7 col6\" >0.052124</td>\n",
       "      <td id=\"T_9cf45_row7_col7\" class=\"data row7 col7\" >1.667969</td>\n",
       "      <td id=\"T_9cf45_row7_col8\" class=\"data row7 col8\" >0.476562</td>\n",
       "      <td id=\"T_9cf45_row7_col9\" class=\"data row7 col9\" >2.196655</td>\n",
       "      <td id=\"T_9cf45_row7_col10\" class=\"data row7 col10\" >0.000006</td>\n",
       "      <td id=\"T_9cf45_row7_col11\" class=\"data row7 col11\" >0.000232</td>\n",
       "      <td id=\"T_9cf45_row7_col12\" class=\"data row7 col12\" >0.000000</td>\n",
       "      <td id=\"T_9cf45_row7_col13\" class=\"data row7 col13\" >Memory</td>\n",
       "      <td id=\"T_9cf45_row7_col14\" class=\"data row7 col14\" >0.026771</td>\n",
       "      <td id=\"T_9cf45_row7_col15\" class=\"data row7 col15\" >232.292546</td>\n",
       "      <td id=\"T_9cf45_row7_col16\" class=\"data row7 col16\" >0.001905</td>\n",
       "      <td id=\"T_9cf45_row7_col17\" class=\"data row7 col17\" >240.936461</td>\n",
       "      <td id=\"T_9cf45_row7_col18\" class=\"data row7 col18\" >6.218638</td>\n",
       "      <td id=\"T_9cf45_row7_col19\" class=\"data row7 col19\" >232.292546</td>\n",
       "      <td id=\"T_9cf45_row7_col20\" class=\"data row7 col20\" >1</td>\n",
       "      <td id=\"T_9cf45_row7_col21\" class=\"data row7 col21\" >0.000000</td>\n",
       "    </tr>\n",
       "    <tr>\n",
       "      <th id=\"T_9cf45_level0_row8\" class=\"row_heading level0 row8\" >8</th>\n",
       "      <td id=\"T_9cf45_row8_col0\" class=\"data row8 col0\" >Attend Dec</td>\n",
       "      <td id=\"T_9cf45_row8_col1\" class=\"data row8 col1\" >Attend</td>\n",
       "      <td id=\"T_9cf45_row8_col2\" class=\"data row8 col2\" >((1, 16, 1, 512), (1, 1, 512, 56), (1, 16, 1, 56))</td>\n",
       "      <td id=\"T_9cf45_row8_col3\" class=\"data row8 col3\" >24.298305</td>\n",
       "      <td id=\"T_9cf45_row8_col4\" class=\"data row8 col4\" >0.000232</td>\n",
       "      <td id=\"T_9cf45_row8_col5\" class=\"data row8 col5\" >55.967744</td>\n",
       "      <td id=\"T_9cf45_row8_col6\" class=\"data row8 col6\" >0.476562</td>\n",
       "      <td id=\"T_9cf45_row8_col7\" class=\"data row8 col7\" >1.667969</td>\n",
       "      <td id=\"T_9cf45_row8_col8\" class=\"data row8 col8\" >0.052124</td>\n",
       "      <td id=\"T_9cf45_row8_col9\" class=\"data row8 col9\" >2.196655</td>\n",
       "      <td id=\"T_9cf45_row8_col10\" class=\"data row8 col10\" >0.000006</td>\n",
       "      <td id=\"T_9cf45_row8_col11\" class=\"data row8 col11\" >0.000232</td>\n",
       "      <td id=\"T_9cf45_row8_col12\" class=\"data row8 col12\" >0.000000</td>\n",
       "      <td id=\"T_9cf45_row8_col13\" class=\"data row8 col13\" >Memory</td>\n",
       "      <td id=\"T_9cf45_row8_col14\" class=\"data row8 col14\" >0.026771</td>\n",
       "      <td id=\"T_9cf45_row8_col15\" class=\"data row8 col15\" >232.292546</td>\n",
       "      <td id=\"T_9cf45_row8_col16\" class=\"data row8 col16\" >0.001905</td>\n",
       "      <td id=\"T_9cf45_row8_col17\" class=\"data row8 col17\" >240.936461</td>\n",
       "      <td id=\"T_9cf45_row8_col18\" class=\"data row8 col18\" >6.218638</td>\n",
       "      <td id=\"T_9cf45_row8_col19\" class=\"data row8 col19\" >232.292546</td>\n",
       "      <td id=\"T_9cf45_row8_col20\" class=\"data row8 col20\" >1</td>\n",
       "      <td id=\"T_9cf45_row8_col21\" class=\"data row8 col21\" >0.000000</td>\n",
       "    </tr>\n",
       "    <tr>\n",
       "      <th id=\"T_9cf45_level0_row9\" class=\"row_heading level0 row9\" >9</th>\n",
       "      <td id=\"T_9cf45_row9_col0\" class=\"data row9 col0\" >Out Proj</td>\n",
       "      <td id=\"T_9cf45_row9_col1\" class=\"data row9 col1\" >GEMM</td>\n",
       "      <td id=\"T_9cf45_row9_col2\" class=\"data row9 col2\" >[((1, 896, 258), (7168, 896), (1, 7168, 258))]</td>\n",
       "      <td id=\"T_9cf45_row9_col3\" class=\"data row9 col3\" >389.745838</td>\n",
       "      <td id=\"T_9cf45_row9_col4\" class=\"data row9 col4\" >0.052175</td>\n",
       "      <td id=\"T_9cf45_row9_col5\" class=\"data row9 col5\" >202155.491328</td>\n",
       "      <td id=\"T_9cf45_row9_col6\" class=\"data row9 col6\" >13.447998</td>\n",
       "      <td id=\"T_9cf45_row9_col7\" class=\"data row9 col7\" >373.625000</td>\n",
       "      <td id=\"T_9cf45_row9_col8\" class=\"data row9 col8\" >107.583984</td>\n",
       "      <td id=\"T_9cf45_row9_col9\" class=\"data row9 col9\" >494.656982</td>\n",
       "      <td id=\"T_9cf45_row9_col10\" class=\"data row9 col10\" >0.022462</td>\n",
       "      <td id=\"T_9cf45_row9_col11\" class=\"data row9 col11\" >0.052175</td>\n",
       "      <td id=\"T_9cf45_row9_col12\" class=\"data row9 col12\" >0.000000</td>\n",
       "      <td id=\"T_9cf45_row9_col13\" class=\"data row9 col13\" >Memory</td>\n",
       "      <td id=\"T_9cf45_row9_col14\" class=\"data row9 col14\" >0.430508</td>\n",
       "      <td id=\"T_9cf45_row9_col15\" class=\"data row9 col15\" >52174.925804</td>\n",
       "      <td id=\"T_9cf45_row9_col16\" class=\"data row9 col16\" >0.427910</td>\n",
       "      <td id=\"T_9cf45_row9_col17\" class=\"data row9 col17\" >3874.571707</td>\n",
       "      <td id=\"T_9cf45_row9_col18\" class=\"data row9 col18\" >22461.721259</td>\n",
       "      <td id=\"T_9cf45_row9_col19\" class=\"data row9 col19\" >52174.925804</td>\n",
       "      <td id=\"T_9cf45_row9_col20\" class=\"data row9 col20\" >1</td>\n",
       "      <td id=\"T_9cf45_row9_col21\" class=\"data row9 col21\" >0.000000</td>\n",
       "    </tr>\n",
       "    <tr>\n",
       "      <th id=\"T_9cf45_level0_row10\" class=\"row_heading level0 row10\" >10</th>\n",
       "      <td id=\"T_9cf45_row10_col0\" class=\"data row10 col0\" >MHA AR</td>\n",
       "      <td id=\"T_9cf45_row10_col1\" class=\"data row10 col1\" >Sync</td>\n",
       "      <td id=\"T_9cf45_row10_col2\" class=\"data row10 col2\" >(1, 258, 7168)</td>\n",
       "      <td id=\"T_9cf45_row10_col3\" class=\"data row10 col3\" >0.000000</td>\n",
       "      <td id=\"T_9cf45_row10_col4\" class=\"data row10 col4\" >0.722788</td>\n",
       "      <td id=\"T_9cf45_row10_col5\" class=\"data row10 col5\" >0.000000</td>\n",
       "      <td id=\"T_9cf45_row10_col6\" class=\"data row10 col6\" >0.000000</td>\n",
       "      <td id=\"T_9cf45_row10_col7\" class=\"data row10 col7\" >0.000000</td>\n",
       "      <td id=\"T_9cf45_row10_col8\" class=\"data row10 col8\" >0.000000</td>\n",
       "      <td id=\"T_9cf45_row10_col9\" class=\"data row10 col9\" >0.000000</td>\n",
       "      <td id=\"T_9cf45_row10_col10\" class=\"data row10 col10\" >0.000000</td>\n",
       "      <td id=\"T_9cf45_row10_col11\" class=\"data row10 col11\" >0.000000</td>\n",
       "      <td id=\"T_9cf45_row10_col12\" class=\"data row10 col12\" >0.722788</td>\n",
       "      <td id=\"T_9cf45_row10_col13\" class=\"data row10 col13\" >Collective</td>\n",
       "      <td id=\"T_9cf45_row10_col14\" class=\"data row10 col14\" >0.000000</td>\n",
       "      <td id=\"T_9cf45_row10_col15\" class=\"data row10 col15\" >722788.164775</td>\n",
       "      <td id=\"T_9cf45_row10_col16\" class=\"data row10 col16\" >5.927909</td>\n",
       "      <td id=\"T_9cf45_row10_col17\" class=\"data row10 col17\" >0.000000</td>\n",
       "      <td id=\"T_9cf45_row10_col18\" class=\"data row10 col18\" >0.000000</td>\n",
       "      <td id=\"T_9cf45_row10_col19\" class=\"data row10 col19\" >0.000000</td>\n",
       "      <td id=\"T_9cf45_row10_col20\" class=\"data row10 col20\" >1</td>\n",
       "      <td id=\"T_9cf45_row10_col21\" class=\"data row10 col21\" >722788.164775</td>\n",
       "    </tr>\n",
       "    <tr>\n",
       "      <th id=\"T_9cf45_level0_row11\" class=\"row_heading level0 row11\" >11</th>\n",
       "      <td id=\"T_9cf45_row11_col0\" class=\"data row11 col0\" >Gate</td>\n",
       "      <td id=\"T_9cf45_row11_col1\" class=\"data row11 col1\" >GEMM</td>\n",
       "      <td id=\"T_9cf45_row11_col2\" class=\"data row11 col2\" >[((1, 896, 258), (256, 896), (1, 256, 258))]</td>\n",
       "      <td id=\"T_9cf45_row11_col3\" class=\"data row11 col3\" >224.762275</td>\n",
       "      <td id=\"T_9cf45_row11_col4\" class=\"data row11 col4\" >0.003740</td>\n",
       "      <td id=\"T_9cf45_row11_col5\" class=\"data row11 col5\" >7219.838976</td>\n",
       "      <td id=\"T_9cf45_row11_col6\" class=\"data row11 col6\" >13.447998</td>\n",
       "      <td id=\"T_9cf45_row11_col7\" class=\"data row11 col7\" >13.343750</td>\n",
       "      <td id=\"T_9cf45_row11_col8\" class=\"data row11 col8\" >3.842285</td>\n",
       "      <td id=\"T_9cf45_row11_col9\" class=\"data row11 col9\" >30.634033</td>\n",
       "      <td id=\"T_9cf45_row11_col10\" class=\"data row11 col10\" >0.000802</td>\n",
       "      <td id=\"T_9cf45_row11_col11\" class=\"data row11 col11\" >0.003740</td>\n",
       "      <td id=\"T_9cf45_row11_col12\" class=\"data row11 col12\" >0.000000</td>\n",
       "      <td id=\"T_9cf45_row11_col13\" class=\"data row11 col13\" >Memory</td>\n",
       "      <td id=\"T_9cf45_row11_col14\" class=\"data row11 col14\" >0.214521</td>\n",
       "      <td id=\"T_9cf45_row11_col15\" class=\"data row11 col15\" >3739.506006</td>\n",
       "      <td id=\"T_9cf45_row11_col16\" class=\"data row11 col16\" >0.030669</td>\n",
       "      <td id=\"T_9cf45_row11_col17\" class=\"data row11 col17\" >1930.693242</td>\n",
       "      <td id=\"T_9cf45_row11_col18\" class=\"data row11 col18\" >802.204331</td>\n",
       "      <td id=\"T_9cf45_row11_col19\" class=\"data row11 col19\" >3739.506006</td>\n",
       "      <td id=\"T_9cf45_row11_col20\" class=\"data row11 col20\" >1</td>\n",
       "      <td id=\"T_9cf45_row11_col21\" class=\"data row11 col21\" >0.000000</td>\n",
       "    </tr>\n",
       "    <tr>\n",
       "      <th id=\"T_9cf45_level0_row12\" class=\"row_heading level0 row12\" >12</th>\n",
       "      <td id=\"T_9cf45_row12_col0\" class=\"data row12 col0\" >Gate AR</td>\n",
       "      <td id=\"T_9cf45_row12_col1\" class=\"data row12 col1\" >Sync</td>\n",
       "      <td id=\"T_9cf45_row12_col2\" class=\"data row12 col2\" >(1, 258, 256)</td>\n",
       "      <td id=\"T_9cf45_row12_col3\" class=\"data row12 col3\" >0.000000</td>\n",
       "      <td id=\"T_9cf45_row12_col4\" class=\"data row12 col4\" >0.525796</td>\n",
       "      <td id=\"T_9cf45_row12_col5\" class=\"data row12 col5\" >0.000000</td>\n",
       "      <td id=\"T_9cf45_row12_col6\" class=\"data row12 col6\" >0.000000</td>\n",
       "      <td id=\"T_9cf45_row12_col7\" class=\"data row12 col7\" >0.000000</td>\n",
       "      <td id=\"T_9cf45_row12_col8\" class=\"data row12 col8\" >0.000000</td>\n",
       "      <td id=\"T_9cf45_row12_col9\" class=\"data row12 col9\" >0.000000</td>\n",
       "      <td id=\"T_9cf45_row12_col10\" class=\"data row12 col10\" >0.000000</td>\n",
       "      <td id=\"T_9cf45_row12_col11\" class=\"data row12 col11\" >0.000000</td>\n",
       "      <td id=\"T_9cf45_row12_col12\" class=\"data row12 col12\" >0.525796</td>\n",
       "      <td id=\"T_9cf45_row12_col13\" class=\"data row12 col13\" >Collective</td>\n",
       "      <td id=\"T_9cf45_row12_col14\" class=\"data row12 col14\" >0.000000</td>\n",
       "      <td id=\"T_9cf45_row12_col15\" class=\"data row12 col15\" >525796.005885</td>\n",
       "      <td id=\"T_9cf45_row12_col16\" class=\"data row12 col16\" >4.312288</td>\n",
       "      <td id=\"T_9cf45_row12_col17\" class=\"data row12 col17\" >0.000000</td>\n",
       "      <td id=\"T_9cf45_row12_col18\" class=\"data row12 col18\" >0.000000</td>\n",
       "      <td id=\"T_9cf45_row12_col19\" class=\"data row12 col19\" >0.000000</td>\n",
       "      <td id=\"T_9cf45_row12_col20\" class=\"data row12 col20\" >1</td>\n",
       "      <td id=\"T_9cf45_row12_col21\" class=\"data row12 col21\" >525796.005885</td>\n",
       "    </tr>\n",
       "    <tr>\n",
       "      <th id=\"T_9cf45_level0_row13\" class=\"row_heading level0 row13\" >13</th>\n",
       "      <td id=\"T_9cf45_row13_col0\" class=\"data row13 col0\" >up+gate</td>\n",
       "      <td id=\"T_9cf45_row13_col1\" class=\"data row13 col1\" >GEMM</td>\n",
       "      <td id=\"T_9cf45_row13_col2\" class=\"data row13 col2\" >[((1, 7168, 8), (131072, 7168), (1, 131072, 8))]</td>\n",
       "      <td id=\"T_9cf45_row13_col3\" class=\"data row13 col3\" >15.981188</td>\n",
       "      <td id=\"T_9cf45_row13_col4\" class=\"data row13 col4\" >6.679729</td>\n",
       "      <td id=\"T_9cf45_row13_col5\" class=\"data row13 col5\" >916975.517696</td>\n",
       "      <td id=\"T_9cf45_row13_col6\" class=\"data row13 col6\" >3.335938</td>\n",
       "      <td id=\"T_9cf45_row13_col7\" class=\"data row13 col7\" >54656.000000</td>\n",
       "      <td id=\"T_9cf45_row13_col8\" class=\"data row13 col8\" >61.000000</td>\n",
       "      <td id=\"T_9cf45_row13_col9\" class=\"data row13 col9\" >54720.335938</td>\n",
       "      <td id=\"T_9cf45_row13_col10\" class=\"data row13 col10\" >0.101886</td>\n",
       "      <td id=\"T_9cf45_row13_col11\" class=\"data row13 col11\" >6.679729</td>\n",
       "      <td id=\"T_9cf45_row13_col12\" class=\"data row13 col12\" >0.000000</td>\n",
       "      <td id=\"T_9cf45_row13_col13\" class=\"data row13 col13\" >Memory</td>\n",
       "      <td id=\"T_9cf45_row13_col14\" class=\"data row13 col14\" >0.015253</td>\n",
       "      <td id=\"T_9cf45_row13_col15\" class=\"data row13 col15\" >6679728.507996</td>\n",
       "      <td id=\"T_9cf45_row13_col16\" class=\"data row13 col16\" >54.783442</td>\n",
       "      <td id=\"T_9cf45_row13_col17\" class=\"data row13 col17\" >137.277363</td>\n",
       "      <td id=\"T_9cf45_row13_col18\" class=\"data row13 col18\" >101886.168633</td>\n",
       "      <td id=\"T_9cf45_row13_col19\" class=\"data row13 col19\" >6679728.507996</td>\n",
       "      <td id=\"T_9cf45_row13_col20\" class=\"data row13 col20\" >1</td>\n",
       "      <td id=\"T_9cf45_row13_col21\" class=\"data row13 col21\" >0.000000</td>\n",
       "    </tr>\n",
       "    <tr>\n",
       "      <th id=\"T_9cf45_level0_row14\" class=\"row_heading level0 row14\" >14</th>\n",
       "      <td id=\"T_9cf45_row14_col0\" class=\"data row14 col0\" >down</td>\n",
       "      <td id=\"T_9cf45_row14_col1\" class=\"data row14 col1\" >GEMM</td>\n",
       "      <td id=\"T_9cf45_row14_col2\" class=\"data row14 col2\" >[((1, 65536, 8), (7168, 65536), (1, 7168, 8))]</td>\n",
       "      <td id=\"T_9cf45_row14_col3\" class=\"data row14 col3\" >15.980214</td>\n",
       "      <td id=\"T_9cf45_row14_col4\" class=\"data row14 col4\" >3.340068</td>\n",
       "      <td id=\"T_9cf45_row14_col5\" class=\"data row14 col5\" >458487.758848</td>\n",
       "      <td id=\"T_9cf45_row14_col6\" class=\"data row14 col6\" >30.500000</td>\n",
       "      <td id=\"T_9cf45_row14_col7\" class=\"data row14 col7\" >27328.000000</td>\n",
       "      <td id=\"T_9cf45_row14_col8\" class=\"data row14 col8\" >3.335938</td>\n",
       "      <td id=\"T_9cf45_row14_col9\" class=\"data row14 col9\" >27361.835938</td>\n",
       "      <td id=\"T_9cf45_row14_col10\" class=\"data row14 col10\" >0.050943</td>\n",
       "      <td id=\"T_9cf45_row14_col11\" class=\"data row14 col11\" >3.340068</td>\n",
       "      <td id=\"T_9cf45_row14_col12\" class=\"data row14 col12\" >0.000000</td>\n",
       "      <td id=\"T_9cf45_row14_col13\" class=\"data row14 col13\" >Memory</td>\n",
       "      <td id=\"T_9cf45_row14_col14\" class=\"data row14 col14\" >0.015252</td>\n",
       "      <td id=\"T_9cf45_row14_col15\" class=\"data row14 col15\" >3340067.863464</td>\n",
       "      <td id=\"T_9cf45_row14_col16\" class=\"data row14 col16\" >27.393391</td>\n",
       "      <td id=\"T_9cf45_row14_col17\" class=\"data row14 col17\" >137.268995</td>\n",
       "      <td id=\"T_9cf45_row14_col18\" class=\"data row14 col18\" >50943.084316</td>\n",
       "      <td id=\"T_9cf45_row14_col19\" class=\"data row14 col19\" >3340067.863464</td>\n",
       "      <td id=\"T_9cf45_row14_col20\" class=\"data row14 col20\" >1</td>\n",
       "      <td id=\"T_9cf45_row14_col21\" class=\"data row14 col21\" >0.000000</td>\n",
       "    </tr>\n",
       "    <tr>\n",
       "      <th id=\"T_9cf45_level0_row15\" class=\"row_heading level0 row15\" >15</th>\n",
       "      <td id=\"T_9cf45_row15_col0\" class=\"data row15 col0\" >FFN AR</td>\n",
       "      <td id=\"T_9cf45_row15_col1\" class=\"data row15 col1\" >Sync</td>\n",
       "      <td id=\"T_9cf45_row15_col2\" class=\"data row15 col2\" >(1, 258, 7168)</td>\n",
       "      <td id=\"T_9cf45_row15_col3\" class=\"data row15 col3\" >0.000000</td>\n",
       "      <td id=\"T_9cf45_row15_col4\" class=\"data row15 col4\" >0.722788</td>\n",
       "      <td id=\"T_9cf45_row15_col5\" class=\"data row15 col5\" >0.000000</td>\n",
       "      <td id=\"T_9cf45_row15_col6\" class=\"data row15 col6\" >0.000000</td>\n",
       "      <td id=\"T_9cf45_row15_col7\" class=\"data row15 col7\" >0.000000</td>\n",
       "      <td id=\"T_9cf45_row15_col8\" class=\"data row15 col8\" >0.000000</td>\n",
       "      <td id=\"T_9cf45_row15_col9\" class=\"data row15 col9\" >0.000000</td>\n",
       "      <td id=\"T_9cf45_row15_col10\" class=\"data row15 col10\" >0.000000</td>\n",
       "      <td id=\"T_9cf45_row15_col11\" class=\"data row15 col11\" >0.000000</td>\n",
       "      <td id=\"T_9cf45_row15_col12\" class=\"data row15 col12\" >0.722788</td>\n",
       "      <td id=\"T_9cf45_row15_col13\" class=\"data row15 col13\" >Collective</td>\n",
       "      <td id=\"T_9cf45_row15_col14\" class=\"data row15 col14\" >0.000000</td>\n",
       "      <td id=\"T_9cf45_row15_col15\" class=\"data row15 col15\" >722788.164775</td>\n",
       "      <td id=\"T_9cf45_row15_col16\" class=\"data row15 col16\" >5.927909</td>\n",
       "      <td id=\"T_9cf45_row15_col17\" class=\"data row15 col17\" >0.000000</td>\n",
       "      <td id=\"T_9cf45_row15_col18\" class=\"data row15 col18\" >0.000000</td>\n",
       "      <td id=\"T_9cf45_row15_col19\" class=\"data row15 col19\" >0.000000</td>\n",
       "      <td id=\"T_9cf45_row15_col20\" class=\"data row15 col20\" >1</td>\n",
       "      <td id=\"T_9cf45_row15_col21\" class=\"data row15 col21\" >722788.164775</td>\n",
       "    </tr>\n",
       "    <tr>\n",
       "      <th id=\"T_9cf45_level0_row16\" class=\"row_heading level0 row16\" >16</th>\n",
       "      <td id=\"T_9cf45_row16_col0\" class=\"data row16 col0\" >classifier</td>\n",
       "      <td id=\"T_9cf45_row16_col1\" class=\"data row16 col1\" >GEMM</td>\n",
       "      <td id=\"T_9cf45_row16_col2\" class=\"data row16 col2\" >[((1, 7168, 258), (16160, 7168), (1, 16160, 258))]</td>\n",
       "      <td id=\"T_9cf45_row16_col3\" class=\"data row16 col3\" >490.513577</td>\n",
       "      <td id=\"T_9cf45_row16_col4\" class=\"data row16 col4\" >0.014186</td>\n",
       "      <td id=\"T_9cf45_row16_col5\" class=\"data row16 col5\" >59770.798080</td>\n",
       "      <td id=\"T_9cf45_row16_col6\" class=\"data row16 col6\" >1.763672</td>\n",
       "      <td id=\"T_9cf45_row16_col7\" class=\"data row16 col7\" >110.468750</td>\n",
       "      <td id=\"T_9cf45_row16_col8\" class=\"data row16 col8\" >3.976135</td>\n",
       "      <td id=\"T_9cf45_row16_col9\" class=\"data row16 col9\" >116.208557</td>\n",
       "      <td id=\"T_9cf45_row16_col10\" class=\"data row16 col10\" >0.006641</td>\n",
       "      <td id=\"T_9cf45_row16_col11\" class=\"data row16 col11\" >0.014186</td>\n",
       "      <td id=\"T_9cf45_row16_col12\" class=\"data row16 col12\" >0.000000</td>\n",
       "      <td id=\"T_9cf45_row16_col13\" class=\"data row16 col13\" >Memory</td>\n",
       "      <td id=\"T_9cf45_row16_col14\" class=\"data row16 col14\" >0.468164</td>\n",
       "      <td id=\"T_9cf45_row16_col15\" class=\"data row16 col15\" >14185.614884</td>\n",
       "      <td id=\"T_9cf45_row16_col16\" class=\"data row16 col16\" >0.116343</td>\n",
       "      <td id=\"T_9cf45_row16_col17\" class=\"data row16 col17\" >4213.479540</td>\n",
       "      <td id=\"T_9cf45_row16_col18\" class=\"data row16 col18\" >6641.199787</td>\n",
       "      <td id=\"T_9cf45_row16_col19\" class=\"data row16 col19\" >14185.614884</td>\n",
       "      <td id=\"T_9cf45_row16_col20\" class=\"data row16 col20\" >1</td>\n",
       "      <td id=\"T_9cf45_row16_col21\" class=\"data row16 col21\" >0.000000</td>\n",
       "    </tr>\n",
       "    <tr>\n",
       "      <th id=\"T_9cf45_level0_row17\" class=\"row_heading level0 row17\" >17</th>\n",
       "      <td id=\"T_9cf45_row17_col0\" class=\"data row17 col0\" >classifier_AG</td>\n",
       "      <td id=\"T_9cf45_row17_col1\" class=\"data row17 col1\" >Sync</td>\n",
       "      <td id=\"T_9cf45_row17_col2\" class=\"data row17 col2\" >(1, 258, 129280)</td>\n",
       "      <td id=\"T_9cf45_row17_col3\" class=\"data row17 col3\" >0.000000</td>\n",
       "      <td id=\"T_9cf45_row17_col4\" class=\"data row17 col4\" >0.036951</td>\n",
       "      <td id=\"T_9cf45_row17_col5\" class=\"data row17 col5\" >0.000000</td>\n",
       "      <td id=\"T_9cf45_row17_col6\" class=\"data row17 col6\" >0.000000</td>\n",
       "      <td id=\"T_9cf45_row17_col7\" class=\"data row17 col7\" >0.000000</td>\n",
       "      <td id=\"T_9cf45_row17_col8\" class=\"data row17 col8\" >0.000000</td>\n",
       "      <td id=\"T_9cf45_row17_col9\" class=\"data row17 col9\" >0.000000</td>\n",
       "      <td id=\"T_9cf45_row17_col10\" class=\"data row17 col10\" >0.000000</td>\n",
       "      <td id=\"T_9cf45_row17_col11\" class=\"data row17 col11\" >0.000000</td>\n",
       "      <td id=\"T_9cf45_row17_col12\" class=\"data row17 col12\" >0.036951</td>\n",
       "      <td id=\"T_9cf45_row17_col13\" class=\"data row17 col13\" >Collective</td>\n",
       "      <td id=\"T_9cf45_row17_col14\" class=\"data row17 col14\" >0.000000</td>\n",
       "      <td id=\"T_9cf45_row17_col15\" class=\"data row17 col15\" >36950.680097</td>\n",
       "      <td id=\"T_9cf45_row17_col16\" class=\"data row17 col16\" >0.303049</td>\n",
       "      <td id=\"T_9cf45_row17_col17\" class=\"data row17 col17\" >0.000000</td>\n",
       "      <td id=\"T_9cf45_row17_col18\" class=\"data row17 col18\" >0.000000</td>\n",
       "      <td id=\"T_9cf45_row17_col19\" class=\"data row17 col19\" >0.000000</td>\n",
       "      <td id=\"T_9cf45_row17_col20\" class=\"data row17 col20\" >1</td>\n",
       "      <td id=\"T_9cf45_row17_col21\" class=\"data row17 col21\" >36950.680097</td>\n",
       "    </tr>\n",
       "  </tbody>\n",
       "</table>\n"
      ],
      "text/plain": [
       "<pandas.io.formats.style.Styler at 0x169e93710>"
      ]
     },
     "metadata": {},
     "output_type": "display_data"
    },
    {
     "data": {
      "application/vnd.microsoft.datawrangler.viewer.v0+json": {
       "columns": [
        {
         "name": "index",
         "rawType": "int64",
         "type": "integer"
        },
        {
         "name": "MACs (MFLOP)",
         "rawType": "float64",
         "type": "float"
        },
        {
         "name": "Total Data (MB)",
         "rawType": "float64",
         "type": "float"
        },
        {
         "name": "Total Weights (MB)",
         "rawType": "float64",
         "type": "float"
        },
        {
         "name": "Unused Weights (MB)",
         "rawType": "int64",
         "type": "integer"
        },
        {
         "name": "KV Cache (MB)",
         "rawType": "float64",
         "type": "float"
        },
        {
         "name": "On-chip Memory Footprint (MB)",
         "rawType": "float64",
         "type": "float"
        },
        {
         "name": "Latency (msec)",
         "rawType": "float64",
         "type": "float"
        },
        {
         "name": "Cycles",
         "rawType": "float64",
         "type": "float"
        },
        {
         "name": "Attn Latency (msec)",
         "rawType": "float64",
         "type": "float"
        },
        {
         "name": "Linear Latency (msec)",
         "rawType": "float64",
         "type": "float"
        },
        {
         "name": "Comm Latency (msec)",
         "rawType": "float64",
         "type": "float"
        }
       ],
       "conversionMethod": "pd.DataFrame",
       "ref": "cbe83111-ff0d-4f1e-88e3-e994d2106e84",
       "rows": [
        [
         "0",
         "1945837.4369280003",
         "83539.87417602539",
         "83012.234375",
         "0",
         "6.671875",
         "897.0546875",
         "12.19296982330084",
         "12192969.823300838",
         "0.010779990090264214",
         "10.162043792506058",
         "2.0201460407045153"
        ]
       ],
       "shape": {
        "columns": 11,
        "rows": 1
       }
      },
      "text/html": [
       "<div>\n",
       "<style scoped>\n",
       "    .dataframe tbody tr th:only-of-type {\n",
       "        vertical-align: middle;\n",
       "    }\n",
       "\n",
       "    .dataframe tbody tr th {\n",
       "        vertical-align: top;\n",
       "    }\n",
       "\n",
       "    .dataframe thead th {\n",
       "        text-align: right;\n",
       "    }\n",
       "</style>\n",
       "<table border=\"1\" class=\"dataframe\">\n",
       "  <thead>\n",
       "    <tr style=\"text-align: right;\">\n",
       "      <th></th>\n",
       "      <th>MACs (MFLOP)</th>\n",
       "      <th>Total Data (MB)</th>\n",
       "      <th>Total Weights (MB)</th>\n",
       "      <th>Unused Weights (MB)</th>\n",
       "      <th>KV Cache (MB)</th>\n",
       "      <th>On-chip Memory Footprint (MB)</th>\n",
       "      <th>Latency (msec)</th>\n",
       "      <th>Cycles</th>\n",
       "      <th>Attn Latency (msec)</th>\n",
       "      <th>Linear Latency (msec)</th>\n",
       "      <th>Comm Latency (msec)</th>\n",
       "    </tr>\n",
       "  </thead>\n",
       "  <tbody>\n",
       "    <tr>\n",
       "      <th>0</th>\n",
       "      <td>1945837.43693</td>\n",
       "      <td>83539.87418</td>\n",
       "      <td>83012.23438</td>\n",
       "      <td>0</td>\n",
       "      <td>6.67188</td>\n",
       "      <td>897.05469</td>\n",
       "      <td>12.19297</td>\n",
       "      <td>12192969.82330</td>\n",
       "      <td>0.01078</td>\n",
       "      <td>10.16204</td>\n",
       "      <td>2.02015</td>\n",
       "    </tr>\n",
       "  </tbody>\n",
       "</table>\n",
       "</div>"
      ],
      "text/plain": [
       "   MACs (MFLOP)  Total Data (MB)  Total Weights (MB)  Unused Weights (MB)  \\\n",
       "0 1945837.43693      83539.87418         83012.23438                    0   \n",
       "\n",
       "   KV Cache (MB)  On-chip Memory Footprint (MB)  Latency (msec)  \\\n",
       "0        6.67188                      897.05469        12.19297   \n",
       "\n",
       "          Cycles  Attn Latency (msec)  Linear Latency (msec)  \\\n",
       "0 12192969.82330              0.01078               10.16204   \n",
       "\n",
       "   Comm Latency (msec)  \n",
       "0              2.02015  "
      ]
     },
     "metadata": {},
     "output_type": "display_data"
    }
   ],
   "source": [
    "system = System(frequency=1000 , flops=4500, off_chip_mem_size=(192*1024), compute_efficiency=1, memory_efficiency=1,\n",
    "                offchip_mem_bw=8000, bits='int8', external_mem_bw=128, interchip_link_bw=900, interchip_link_latency=0.25, num_nodes=4)\n",
    "chunked_output = chunked_moddeling(model='deepseek-ai/DeepSeek-V3-Base',\n",
    "                        prefill_kv_sizes = [(0, 256)],\n",
    "                        system_name=system, debug=True, bits='int8',\n",
    "                        decode_kv_sizes = [256, 512] , tensor_parallel=8)"
   ]
  },
  {
   "cell_type": "code",
   "execution_count": 9,
   "metadata": {},
   "outputs": [
    {
     "name": "stderr",
     "output_type": "stream",
     "text": [
      "/opt/homebrew/Caskroom/miniconda/base/envs/genz_pip_test/lib/python3.12/site-packages/GenZ/LLM_inference/llm_chunked.py:64: UserWarning:\n",
      "\n",
      "All params would not fit on chip. System Memory Cap:192.0 GB , Weights : 648.2594299316406 GB, KV Cache:1.2725591659545898e-05 \n",
      "\n"
     ]
    },
    {
     "data": {
      "application/vnd.microsoft.datawrangler.viewer.v0+json": {
       "columns": [
        {
         "name": "index",
         "rawType": "int64",
         "type": "integer"
        },
        {
         "name": "Layer Name",
         "rawType": "object",
         "type": "string"
        },
        {
         "name": "Op Type",
         "rawType": "object",
         "type": "string"
        },
        {
         "name": "Dimension",
         "rawType": "object",
         "type": "unknown"
        },
        {
         "name": "Op Intensity",
         "rawType": "object",
         "type": "unknown"
        },
        {
         "name": "Num ops (MFLOP)",
         "rawType": "object",
         "type": "unknown"
        },
        {
         "name": "Input_a (MB)",
         "rawType": "object",
         "type": "unknown"
        },
        {
         "name": "Input_w (MB)",
         "rawType": "object",
         "type": "unknown"
        },
        {
         "name": "Output (MB)",
         "rawType": "object",
         "type": "unknown"
        },
        {
         "name": "Total Data (MB)",
         "rawType": "object",
         "type": "unknown"
        }
       ],
       "conversionMethod": "pd.DataFrame",
       "ref": "c36013a5-5bb5-4609-9600-6e72cb64db6b",
       "rows": [
        [
         "0",
         "embeddings",
         "GEMM",
         "[((1, 129280, 0), (7168, 129280), (1, 7168, 0))]",
         "0.0",
         "0.0",
         "0.0",
         "883.75",
         "0.0",
         "883.75"
        ],
        [
         "1",
         "Repeat",
         "Repeat",
         "61",
         "0",
         "0.0",
         "0.0",
         "0.0",
         "0.0",
         "0.0"
        ],
        [
         "2",
         "QKV",
         "GEMM",
         "[((1, 7168, 1), (7392, 7168), (1, 7392, 1))]",
         "0.9997252851751202",
         "52.985856",
         "0.0068359375",
         "50.53125",
         "0.007049560546875",
         "50.545135498046875"
        ],
        [
         "3",
         "Logit Dec",
         "Logit",
         "((1, 128, 1, 56), (1, 2, 1, 56), (1, 128, 1, 1))",
         "0.9676025917926566",
         "0.007168",
         "0.0068359375",
         "0.0001068115234375",
         "0.0001220703125",
         "0.0070648193359375"
        ],
        [
         "4",
         "Attend Dec",
         "Attend",
         "((1, 128, 1, 1), (1, 2, 1, 56), (1, 128, 1, 56))",
         "0.9676025917926566",
         "0.007168",
         "0.0001220703125",
         "0.0001068115234375",
         "0.0068359375",
         "0.0070648193359375"
        ],
        [
         "5",
         "Out Proj",
         "GEMM",
         "[((1, 7168, 1), (7168, 7168), (1, 7168, 1))]",
         "0.999721059972106",
         "51.380224",
         "0.0068359375",
         "49.0",
         "0.0068359375",
         "49.013671875"
        ],
        [
         "6",
         "Gate",
         "GEMM",
         "[((1, 7168, 1), (256, 7168), (1, 256, 1))]",
         "0.995970543281923",
         "1.835008",
         "0.0068359375",
         "1.75",
         "0.000244140625",
         "1.757080078125"
        ],
        [
         "7",
         "up+gate",
         "GEMM",
         "[((1, 7168, 1), (32768, 7168), (1, 32768, 1))]",
         "0.999830002397402",
         "234.881024",
         "0.0068359375",
         "224.0",
         "0.03125",
         "224.0380859375"
        ],
        [
         "8",
         "down",
         "GEMM",
         "[((1, 16384, 1), (7168, 16384), (1, 7168, 1))]",
         "0.9997994961250447",
         "117.440512",
         "0.015625",
         "112.0",
         "0.0068359375",
         "112.0224609375"
        ],
        [
         "9",
         "up+gate",
         "GEMM",
         "[((1, 7168, 0), (1015808, 7168), (1, 1015808, 0))]",
         "0.0",
         "0.0",
         "0.0",
         "6944.0",
         "0.0",
         "6944.0"
        ],
        [
         "10",
         "down",
         "GEMM",
         "[((1, 507904, 0), (7168, 507904), (1, 7168, 0))]",
         "0.0",
         "0.0",
         "0.0",
         "3472.0",
         "0.0",
         "3472.0"
        ],
        [
         "11",
         "End Repeat",
         "EndRepeat",
         "61",
         "0",
         "0.0",
         "0.0",
         "0.0",
         "0.0",
         "0.0"
        ],
        [
         "12",
         "classifier",
         "GEMM",
         "[((1, 7168, 1), (129280, 7168), (1, 129280, 1))]",
         "0.99985277760054",
         "926.67904",
         "0.0068359375",
         "883.75",
         "0.123291015625",
         "883.880126953125"
        ]
       ],
       "shape": {
        "columns": 9,
        "rows": 13
       }
      },
      "text/html": [
       "<div>\n",
       "<style scoped>\n",
       "    .dataframe tbody tr th:only-of-type {\n",
       "        vertical-align: middle;\n",
       "    }\n",
       "\n",
       "    .dataframe tbody tr th {\n",
       "        vertical-align: top;\n",
       "    }\n",
       "\n",
       "    .dataframe thead th {\n",
       "        text-align: right;\n",
       "    }\n",
       "</style>\n",
       "<table border=\"1\" class=\"dataframe\">\n",
       "  <thead>\n",
       "    <tr style=\"text-align: right;\">\n",
       "      <th></th>\n",
       "      <th>Layer Name</th>\n",
       "      <th>Op Type</th>\n",
       "      <th>Dimension</th>\n",
       "      <th>Op Intensity</th>\n",
       "      <th>Num ops (MFLOP)</th>\n",
       "      <th>Input_a (MB)</th>\n",
       "      <th>Input_w (MB)</th>\n",
       "      <th>Output (MB)</th>\n",
       "      <th>Total Data (MB)</th>\n",
       "    </tr>\n",
       "  </thead>\n",
       "  <tbody>\n",
       "    <tr>\n",
       "      <th>0</th>\n",
       "      <td>embeddings</td>\n",
       "      <td>GEMM</td>\n",
       "      <td>[((1, 129280, 0), (7168, 129280), (1, 7168, 0))]</td>\n",
       "      <td>0.00000</td>\n",
       "      <td>0.00000</td>\n",
       "      <td>0.00000</td>\n",
       "      <td>883.75000</td>\n",
       "      <td>0.00000</td>\n",
       "      <td>883.75000</td>\n",
       "    </tr>\n",
       "    <tr>\n",
       "      <th>1</th>\n",
       "      <td>Repeat</td>\n",
       "      <td>Repeat</td>\n",
       "      <td>61</td>\n",
       "      <td>0</td>\n",
       "      <td>0.00000</td>\n",
       "      <td>0.00000</td>\n",
       "      <td>0.00000</td>\n",
       "      <td>0.00000</td>\n",
       "      <td>0.00000</td>\n",
       "    </tr>\n",
       "    <tr>\n",
       "      <th>2</th>\n",
       "      <td>QKV</td>\n",
       "      <td>GEMM</td>\n",
       "      <td>[((1, 7168, 1), (7392, 7168), (1, 7392, 1))]</td>\n",
       "      <td>0.99973</td>\n",
       "      <td>52.98586</td>\n",
       "      <td>0.00684</td>\n",
       "      <td>50.53125</td>\n",
       "      <td>0.00705</td>\n",
       "      <td>50.54514</td>\n",
       "    </tr>\n",
       "    <tr>\n",
       "      <th>3</th>\n",
       "      <td>Logit Dec</td>\n",
       "      <td>Logit</td>\n",
       "      <td>((1, 128, 1, 56), (1, 2, 1, 56), (1, 128, 1, 1))</td>\n",
       "      <td>0.96760</td>\n",
       "      <td>0.00717</td>\n",
       "      <td>0.00684</td>\n",
       "      <td>0.00011</td>\n",
       "      <td>0.00012</td>\n",
       "      <td>0.00706</td>\n",
       "    </tr>\n",
       "    <tr>\n",
       "      <th>4</th>\n",
       "      <td>Attend Dec</td>\n",
       "      <td>Attend</td>\n",
       "      <td>((1, 128, 1, 1), (1, 2, 1, 56), (1, 128, 1, 56))</td>\n",
       "      <td>0.96760</td>\n",
       "      <td>0.00717</td>\n",
       "      <td>0.00012</td>\n",
       "      <td>0.00011</td>\n",
       "      <td>0.00684</td>\n",
       "      <td>0.00706</td>\n",
       "    </tr>\n",
       "    <tr>\n",
       "      <th>5</th>\n",
       "      <td>Out Proj</td>\n",
       "      <td>GEMM</td>\n",
       "      <td>[((1, 7168, 1), (7168, 7168), (1, 7168, 1))]</td>\n",
       "      <td>0.99972</td>\n",
       "      <td>51.38022</td>\n",
       "      <td>0.00684</td>\n",
       "      <td>49.00000</td>\n",
       "      <td>0.00684</td>\n",
       "      <td>49.01367</td>\n",
       "    </tr>\n",
       "    <tr>\n",
       "      <th>6</th>\n",
       "      <td>Gate</td>\n",
       "      <td>GEMM</td>\n",
       "      <td>[((1, 7168, 1), (256, 7168), (1, 256, 1))]</td>\n",
       "      <td>0.99597</td>\n",
       "      <td>1.83501</td>\n",
       "      <td>0.00684</td>\n",
       "      <td>1.75000</td>\n",
       "      <td>0.00024</td>\n",
       "      <td>1.75708</td>\n",
       "    </tr>\n",
       "    <tr>\n",
       "      <th>7</th>\n",
       "      <td>up+gate</td>\n",
       "      <td>GEMM</td>\n",
       "      <td>[((1, 7168, 1), (32768, 7168), (1, 32768, 1))]</td>\n",
       "      <td>0.99983</td>\n",
       "      <td>234.88102</td>\n",
       "      <td>0.00684</td>\n",
       "      <td>224.00000</td>\n",
       "      <td>0.03125</td>\n",
       "      <td>224.03809</td>\n",
       "    </tr>\n",
       "    <tr>\n",
       "      <th>8</th>\n",
       "      <td>down</td>\n",
       "      <td>GEMM</td>\n",
       "      <td>[((1, 16384, 1), (7168, 16384), (1, 7168, 1))]</td>\n",
       "      <td>0.99980</td>\n",
       "      <td>117.44051</td>\n",
       "      <td>0.01562</td>\n",
       "      <td>112.00000</td>\n",
       "      <td>0.00684</td>\n",
       "      <td>112.02246</td>\n",
       "    </tr>\n",
       "    <tr>\n",
       "      <th>9</th>\n",
       "      <td>up+gate</td>\n",
       "      <td>GEMM</td>\n",
       "      <td>[((1, 7168, 0), (1015808, 7168), (1, 1015808, ...</td>\n",
       "      <td>0.00000</td>\n",
       "      <td>0.00000</td>\n",
       "      <td>0.00000</td>\n",
       "      <td>6944.00000</td>\n",
       "      <td>0.00000</td>\n",
       "      <td>6944.00000</td>\n",
       "    </tr>\n",
       "    <tr>\n",
       "      <th>10</th>\n",
       "      <td>down</td>\n",
       "      <td>GEMM</td>\n",
       "      <td>[((1, 507904, 0), (7168, 507904), (1, 7168, 0))]</td>\n",
       "      <td>0.00000</td>\n",
       "      <td>0.00000</td>\n",
       "      <td>0.00000</td>\n",
       "      <td>3472.00000</td>\n",
       "      <td>0.00000</td>\n",
       "      <td>3472.00000</td>\n",
       "    </tr>\n",
       "    <tr>\n",
       "      <th>11</th>\n",
       "      <td>End Repeat</td>\n",
       "      <td>EndRepeat</td>\n",
       "      <td>61</td>\n",
       "      <td>0</td>\n",
       "      <td>0.00000</td>\n",
       "      <td>0.00000</td>\n",
       "      <td>0.00000</td>\n",
       "      <td>0.00000</td>\n",
       "      <td>0.00000</td>\n",
       "    </tr>\n",
       "    <tr>\n",
       "      <th>12</th>\n",
       "      <td>classifier</td>\n",
       "      <td>GEMM</td>\n",
       "      <td>[((1, 7168, 1), (129280, 7168), (1, 129280, 1))]</td>\n",
       "      <td>0.99985</td>\n",
       "      <td>926.67904</td>\n",
       "      <td>0.00684</td>\n",
       "      <td>883.75000</td>\n",
       "      <td>0.12329</td>\n",
       "      <td>883.88013</td>\n",
       "    </tr>\n",
       "  </tbody>\n",
       "</table>\n",
       "</div>"
      ],
      "text/plain": [
       "    Layer Name    Op Type                                          Dimension  \\\n",
       "0   embeddings       GEMM   [((1, 129280, 0), (7168, 129280), (1, 7168, 0))]   \n",
       "1       Repeat     Repeat                                                 61   \n",
       "2          QKV       GEMM       [((1, 7168, 1), (7392, 7168), (1, 7392, 1))]   \n",
       "3    Logit Dec      Logit   ((1, 128, 1, 56), (1, 2, 1, 56), (1, 128, 1, 1))   \n",
       "4   Attend Dec     Attend   ((1, 128, 1, 1), (1, 2, 1, 56), (1, 128, 1, 56))   \n",
       "5     Out Proj       GEMM       [((1, 7168, 1), (7168, 7168), (1, 7168, 1))]   \n",
       "6         Gate       GEMM         [((1, 7168, 1), (256, 7168), (1, 256, 1))]   \n",
       "7      up+gate       GEMM     [((1, 7168, 1), (32768, 7168), (1, 32768, 1))]   \n",
       "8         down       GEMM     [((1, 16384, 1), (7168, 16384), (1, 7168, 1))]   \n",
       "9      up+gate       GEMM  [((1, 7168, 0), (1015808, 7168), (1, 1015808, ...   \n",
       "10        down       GEMM   [((1, 507904, 0), (7168, 507904), (1, 7168, 0))]   \n",
       "11  End Repeat  EndRepeat                                                 61   \n",
       "12  classifier       GEMM   [((1, 7168, 1), (129280, 7168), (1, 129280, 1))]   \n",
       "\n",
       "   Op Intensity Num ops (MFLOP) Input_a (MB) Input_w (MB) Output (MB)  \\\n",
       "0       0.00000         0.00000      0.00000    883.75000     0.00000   \n",
       "1             0         0.00000      0.00000      0.00000     0.00000   \n",
       "2       0.99973        52.98586      0.00684     50.53125     0.00705   \n",
       "3       0.96760         0.00717      0.00684      0.00011     0.00012   \n",
       "4       0.96760         0.00717      0.00012      0.00011     0.00684   \n",
       "5       0.99972        51.38022      0.00684     49.00000     0.00684   \n",
       "6       0.99597         1.83501      0.00684      1.75000     0.00024   \n",
       "7       0.99983       234.88102      0.00684    224.00000     0.03125   \n",
       "8       0.99980       117.44051      0.01562    112.00000     0.00684   \n",
       "9       0.00000         0.00000      0.00000   6944.00000     0.00000   \n",
       "10      0.00000         0.00000      0.00000   3472.00000     0.00000   \n",
       "11            0         0.00000      0.00000      0.00000     0.00000   \n",
       "12      0.99985       926.67904      0.00684    883.75000     0.12329   \n",
       "\n",
       "   Total Data (MB)  \n",
       "0        883.75000  \n",
       "1          0.00000  \n",
       "2         50.54514  \n",
       "3          0.00706  \n",
       "4          0.00706  \n",
       "5         49.01367  \n",
       "6          1.75708  \n",
       "7        224.03809  \n",
       "8        112.02246  \n",
       "9       6944.00000  \n",
       "10      3472.00000  \n",
       "11         0.00000  \n",
       "12       883.88013  "
      ]
     },
     "metadata": {},
     "output_type": "display_data"
    },
    {
     "data": {
      "application/vnd.microsoft.datawrangler.viewer.v0+json": {
       "columns": [
        {
         "name": "index",
         "rawType": "int64",
         "type": "integer"
        },
        {
         "name": "MACs (MFLOP)",
         "rawType": "float64",
         "type": "float"
        },
        {
         "name": "Total Data (MB)",
         "rawType": "float64",
         "type": "float"
        },
        {
         "name": "Total Weights (MB)",
         "rawType": "float64",
         "type": "float"
        },
        {
         "name": "Unused Weights (MB)",
         "rawType": "float64",
         "type": "float"
        },
        {
         "name": "KV Cache (MB)",
         "rawType": "float64",
         "type": "float"
        },
        {
         "name": "On-chip Memory Footprint (MB)",
         "rawType": "float64",
         "type": "float"
        }
       ],
       "conversionMethod": "pd.DataFrame",
       "ref": "6f9f071c-8b1f-4f13-b85b-caa6451481e1",
       "rows": [
        [
         "0",
         "28897.4336",
         "663824.4545288086",
         "663817.65625",
         "636259.75",
         "0.013031005859375",
         "6944.0"
        ]
       ],
       "shape": {
        "columns": 6,
        "rows": 1
       }
      },
      "text/html": [
       "<div>\n",
       "<style scoped>\n",
       "    .dataframe tbody tr th:only-of-type {\n",
       "        vertical-align: middle;\n",
       "    }\n",
       "\n",
       "    .dataframe tbody tr th {\n",
       "        vertical-align: top;\n",
       "    }\n",
       "\n",
       "    .dataframe thead th {\n",
       "        text-align: right;\n",
       "    }\n",
       "</style>\n",
       "<table border=\"1\" class=\"dataframe\">\n",
       "  <thead>\n",
       "    <tr style=\"text-align: right;\">\n",
       "      <th></th>\n",
       "      <th>MACs (MFLOP)</th>\n",
       "      <th>Total Data (MB)</th>\n",
       "      <th>Total Weights (MB)</th>\n",
       "      <th>Unused Weights (MB)</th>\n",
       "      <th>KV Cache (MB)</th>\n",
       "      <th>On-chip Memory Footprint (MB)</th>\n",
       "    </tr>\n",
       "  </thead>\n",
       "  <tbody>\n",
       "    <tr>\n",
       "      <th>0</th>\n",
       "      <td>28897.43360</td>\n",
       "      <td>663824.45453</td>\n",
       "      <td>663817.65625</td>\n",
       "      <td>636259.75000</td>\n",
       "      <td>0.01303</td>\n",
       "      <td>6944.00000</td>\n",
       "    </tr>\n",
       "  </tbody>\n",
       "</table>\n",
       "</div>"
      ],
      "text/plain": [
       "   MACs (MFLOP)  Total Data (MB)  Total Weights (MB)  Unused Weights (MB)  \\\n",
       "0   28897.43360     663824.45453        663817.65625         636259.75000   \n",
       "\n",
       "   KV Cache (MB)  On-chip Memory Footprint (MB)  \n",
       "0        0.01303                     6944.00000  "
      ]
     },
     "metadata": {},
     "output_type": "display_data"
    }
   ],
   "source": [
    "system = System(frequency=1000 , flops=4500, off_chip_mem_size=(192*1024), compute_efficiency=1, memory_efficiency=1,\n",
    "                offchip_mem_bw=8000, bits='int8', external_mem_bw=128, interchip_link_bw=900, interchip_link_latency=0.25, num_nodes=4)\n",
    "chunked_output = chunked_moddeling(model='deepseek-ai/DeepSeek-V3-Base',\n",
    "                        prefill_kv_sizes = [], model_profilling=True,\n",
    "                        system_name=system, debug=True, bits='int8',\n",
    "                        decode_kv_sizes = [1] , tensor_parallel=1)\n",
    "display(chunked_output[0])\n",
    "display(chunked_output[1])\n"
   ]
  },
  {
   "cell_type": "code",
   "execution_count": 10,
   "metadata": {},
   "outputs": [
    {
     "name": "stderr",
     "output_type": "stream",
     "text": [
      "/opt/homebrew/Caskroom/miniconda/base/envs/genz_pip_test/lib/python3.12/site-packages/GenZ/utils/plot_rooflines.py:58: RuntimeWarning:\n",
      "\n",
      "invalid value encountered in scalar divide\n",
      "\n",
      "/opt/homebrew/Caskroom/miniconda/base/envs/genz_pip_test/lib/python3.12/site-packages/GenZ/utils/plot_rooflines.py:58: RuntimeWarning:\n",
      "\n",
      "invalid value encountered in scalar divide\n",
      "\n",
      "/opt/homebrew/Caskroom/miniconda/base/envs/genz_pip_test/lib/python3.12/site-packages/GenZ/utils/plot_rooflines.py:58: RuntimeWarning:\n",
      "\n",
      "invalid value encountered in scalar divide\n",
      "\n",
      "/opt/homebrew/Caskroom/miniconda/base/envs/genz_pip_test/lib/python3.12/site-packages/GenZ/utils/plot_rooflines.py:58: RuntimeWarning:\n",
      "\n",
      "invalid value encountered in scalar divide\n",
      "\n",
      "/opt/homebrew/Caskroom/miniconda/base/envs/genz_pip_test/lib/python3.12/site-packages/GenZ/utils/plot_rooflines.py:58: RuntimeWarning:\n",
      "\n",
      "invalid value encountered in scalar divide\n",
      "\n",
      "/opt/homebrew/Caskroom/miniconda/base/envs/genz_pip_test/lib/python3.12/site-packages/GenZ/utils/plot_rooflines.py:58: RuntimeWarning:\n",
      "\n",
      "invalid value encountered in scalar divide\n",
      "\n",
      "/opt/homebrew/Caskroom/miniconda/base/envs/genz_pip_test/lib/python3.12/site-packages/GenZ/utils/plot_rooflines.py:58: RuntimeWarning:\n",
      "\n",
      "invalid value encountered in scalar divide\n",
      "\n",
      "/opt/homebrew/Caskroom/miniconda/base/envs/genz_pip_test/lib/python3.12/site-packages/GenZ/utils/plot_rooflines.py:58: RuntimeWarning:\n",
      "\n",
      "invalid value encountered in scalar divide\n",
      "\n",
      "/opt/homebrew/Caskroom/miniconda/base/envs/genz_pip_test/lib/python3.12/site-packages/GenZ/utils/plot_rooflines.py:58: RuntimeWarning:\n",
      "\n",
      "invalid value encountered in scalar divide\n",
      "\n",
      "/opt/homebrew/Caskroom/miniconda/base/envs/genz_pip_test/lib/python3.12/site-packages/GenZ/utils/plot_rooflines.py:58: RuntimeWarning:\n",
      "\n",
      "invalid value encountered in scalar divide\n",
      "\n"
     ]
    },
    {
     "data": {
      "text/html": [
       "<style type=\"text/css\">\n",
       "#T_a9ed7_row0_col3, #T_a9ed7_row1_col3, #T_a9ed7_row2_col3, #T_a9ed7_row3_col3, #T_a9ed7_row4_col3, #T_a9ed7_row5_col3, #T_a9ed7_row6_col3, #T_a9ed7_row7_col3, #T_a9ed7_row8_col3, #T_a9ed7_row9_col3 {\n",
       "  background-color: #fff5eb;\n",
       "  color: #000000;\n",
       "}\n",
       "#T_a9ed7_row0_col4, #T_a9ed7_row0_col15, #T_a9ed7_row1_col4, #T_a9ed7_row1_col9, #T_a9ed7_row1_col15, #T_a9ed7_row2_col4, #T_a9ed7_row2_col15, #T_a9ed7_row3_col4, #T_a9ed7_row3_col15, #T_a9ed7_row4_col4, #T_a9ed7_row4_col9, #T_a9ed7_row4_col15, #T_a9ed7_row5_col4, #T_a9ed7_row5_col15, #T_a9ed7_row6_col4, #T_a9ed7_row6_col15, #T_a9ed7_row7_col4, #T_a9ed7_row7_col9, #T_a9ed7_row7_col15, #T_a9ed7_row8_col4, #T_a9ed7_row8_col15, #T_a9ed7_row9_col4, #T_a9ed7_row9_col9, #T_a9ed7_row9_col15 {\n",
       "  background-color: #f7fbff;\n",
       "  color: #000000;\n",
       "}\n",
       "#T_a9ed7_row0_col6, #T_a9ed7_row0_col8, #T_a9ed7_row1_col6, #T_a9ed7_row1_col7, #T_a9ed7_row1_col8, #T_a9ed7_row2_col6, #T_a9ed7_row2_col8, #T_a9ed7_row3_col6, #T_a9ed7_row3_col8, #T_a9ed7_row4_col6, #T_a9ed7_row4_col7, #T_a9ed7_row4_col8, #T_a9ed7_row5_col6, #T_a9ed7_row5_col8, #T_a9ed7_row6_col6, #T_a9ed7_row6_col8, #T_a9ed7_row7_col6, #T_a9ed7_row7_col7, #T_a9ed7_row7_col8, #T_a9ed7_row8_col6, #T_a9ed7_row8_col8, #T_a9ed7_row9_col6, #T_a9ed7_row9_col7, #T_a9ed7_row9_col8 {\n",
       "  background-color: #5e4fa2;\n",
       "  color: #f1f1f1;\n",
       "}\n",
       "#T_a9ed7_row0_col7, #T_a9ed7_row2_col7, #T_a9ed7_row3_col7, #T_a9ed7_row5_col7, #T_a9ed7_row6_col7, #T_a9ed7_row8_col7 {\n",
       "  background-color: #9e0142;\n",
       "  color: #f1f1f1;\n",
       "}\n",
       "#T_a9ed7_row0_col9, #T_a9ed7_row8_col9 {\n",
       "  background-color: #f5fafe;\n",
       "  color: #000000;\n",
       "}\n",
       "#T_a9ed7_row0_col10, #T_a9ed7_row0_col11, #T_a9ed7_row0_col12, #T_a9ed7_row1_col10, #T_a9ed7_row1_col11, #T_a9ed7_row1_col12, #T_a9ed7_row2_col10, #T_a9ed7_row2_col11, #T_a9ed7_row2_col12, #T_a9ed7_row3_col10, #T_a9ed7_row3_col11, #T_a9ed7_row3_col12, #T_a9ed7_row4_col10, #T_a9ed7_row4_col11, #T_a9ed7_row4_col12, #T_a9ed7_row5_col10, #T_a9ed7_row5_col11, #T_a9ed7_row5_col12, #T_a9ed7_row6_col10, #T_a9ed7_row6_col11, #T_a9ed7_row6_col12, #T_a9ed7_row7_col10, #T_a9ed7_row7_col11, #T_a9ed7_row7_col12, #T_a9ed7_row8_col10, #T_a9ed7_row8_col11, #T_a9ed7_row8_col12, #T_a9ed7_row9_col10, #T_a9ed7_row9_col11, #T_a9ed7_row9_col12 {\n",
       "  background-color: green;\n",
       "}\n",
       "#T_a9ed7_row0_col13, #T_a9ed7_row1_col13, #T_a9ed7_row2_col13, #T_a9ed7_row3_col13, #T_a9ed7_row4_col13, #T_a9ed7_row5_col13, #T_a9ed7_row6_col13, #T_a9ed7_row7_col13, #T_a9ed7_row8_col13, #T_a9ed7_row9_col13 {\n",
       "  color: blue;\n",
       "}\n",
       "#T_a9ed7_row2_col9 {\n",
       "  background-color: #2070b4;\n",
       "  color: #f1f1f1;\n",
       "}\n",
       "#T_a9ed7_row3_col9 {\n",
       "  background-color: #c6dbef;\n",
       "  color: #000000;\n",
       "}\n",
       "#T_a9ed7_row5_col9, #T_a9ed7_row6_col9 {\n",
       "  background-color: #08306b;\n",
       "  color: #f1f1f1;\n",
       "}\n",
       "</style>\n",
       "<table id=\"T_a9ed7\">\n",
       "  <thead>\n",
       "    <tr>\n",
       "      <th class=\"blank level0\" >&nbsp;</th>\n",
       "      <th id=\"T_a9ed7_level0_col0\" class=\"col_heading level0 col0\" >Layer Name</th>\n",
       "      <th id=\"T_a9ed7_level0_col1\" class=\"col_heading level0 col1\" >Op Type</th>\n",
       "      <th id=\"T_a9ed7_level0_col2\" class=\"col_heading level0 col2\" >Dimension</th>\n",
       "      <th id=\"T_a9ed7_level0_col3\" class=\"col_heading level0 col3\" >Op Intensity</th>\n",
       "      <th id=\"T_a9ed7_level0_col4\" class=\"col_heading level0 col4\" >Latency (msec)</th>\n",
       "      <th id=\"T_a9ed7_level0_col5\" class=\"col_heading level0 col5\" >Num ops (MFLOP)</th>\n",
       "      <th id=\"T_a9ed7_level0_col6\" class=\"col_heading level0 col6\" >Input_a (MB)</th>\n",
       "      <th id=\"T_a9ed7_level0_col7\" class=\"col_heading level0 col7\" >Input_w (MB)</th>\n",
       "      <th id=\"T_a9ed7_level0_col8\" class=\"col_heading level0 col8\" >Output (MB)</th>\n",
       "      <th id=\"T_a9ed7_level0_col9\" class=\"col_heading level0 col9\" >Total Data (MB)</th>\n",
       "      <th id=\"T_a9ed7_level0_col10\" class=\"col_heading level0 col10\" >Compute time (msec)</th>\n",
       "      <th id=\"T_a9ed7_level0_col11\" class=\"col_heading level0 col11\" >Memory time (msec)</th>\n",
       "      <th id=\"T_a9ed7_level0_col12\" class=\"col_heading level0 col12\" >Communication time (msec)</th>\n",
       "      <th id=\"T_a9ed7_level0_col13\" class=\"col_heading level0 col13\" >Bound</th>\n",
       "      <th id=\"T_a9ed7_level0_col14\" class=\"col_heading level0 col14\" >C/M ratio</th>\n",
       "      <th id=\"T_a9ed7_level0_col15\" class=\"col_heading level0 col15\" >Cycles</th>\n",
       "      <th id=\"T_a9ed7_level0_col16\" class=\"col_heading level0 col16\" >% of total time</th>\n",
       "      <th id=\"T_a9ed7_level0_col17\" class=\"col_heading level0 col17\" >Throughput (Tflops)</th>\n",
       "      <th id=\"T_a9ed7_level0_col18\" class=\"col_heading level0 col18\" >Compute cycle</th>\n",
       "      <th id=\"T_a9ed7_level0_col19\" class=\"col_heading level0 col19\" >Memory cycle</th>\n",
       "      <th id=\"T_a9ed7_level0_col20\" class=\"col_heading level0 col20\" >C Effcy</th>\n",
       "      <th id=\"T_a9ed7_level0_col21\" class=\"col_heading level0 col21\" >Communication cycle</th>\n",
       "    </tr>\n",
       "  </thead>\n",
       "  <tbody>\n",
       "    <tr>\n",
       "      <th id=\"T_a9ed7_level0_row0\" class=\"row_heading level0 row0\" >0</th>\n",
       "      <td id=\"T_a9ed7_row0_col0\" class=\"data row0 col0\" >embeddings</td>\n",
       "      <td id=\"T_a9ed7_row0_col1\" class=\"data row0 col1\" >GEMM</td>\n",
       "      <td id=\"T_a9ed7_row0_col2\" class=\"data row0 col2\" >[((1, 12568, 0), (12288, 12568), (1, 12288, 0))]</td>\n",
       "      <td id=\"T_a9ed7_row0_col3\" class=\"data row0 col3\" >0.000000</td>\n",
       "      <td id=\"T_a9ed7_row0_col4\" class=\"data row0 col4\" >0.000000</td>\n",
       "      <td id=\"T_a9ed7_row0_col5\" class=\"data row0 col5\" >0.000000</td>\n",
       "      <td id=\"T_a9ed7_row0_col6\" class=\"data row0 col6\" >0.000000</td>\n",
       "      <td id=\"T_a9ed7_row0_col7\" class=\"data row0 col7\" >294.562500</td>\n",
       "      <td id=\"T_a9ed7_row0_col8\" class=\"data row0 col8\" >0.000000</td>\n",
       "      <td id=\"T_a9ed7_row0_col9\" class=\"data row0 col9\" >294.562500</td>\n",
       "      <td id=\"T_a9ed7_row0_col10\" class=\"data row0 col10\" >0.000000</td>\n",
       "      <td id=\"T_a9ed7_row0_col11\" class=\"data row0 col11\" >0.000000</td>\n",
       "      <td id=\"T_a9ed7_row0_col12\" class=\"data row0 col12\" >0.000000</td>\n",
       "      <td id=\"T_a9ed7_row0_col13\" class=\"data row0 col13\" >Collective</td>\n",
       "      <td id=\"T_a9ed7_row0_col14\" class=\"data row0 col14\" >0</td>\n",
       "      <td id=\"T_a9ed7_row0_col15\" class=\"data row0 col15\" >0.000000</td>\n",
       "      <td id=\"T_a9ed7_row0_col16\" class=\"data row0 col16\" >nan</td>\n",
       "      <td id=\"T_a9ed7_row0_col17\" class=\"data row0 col17\" >0.000000</td>\n",
       "      <td id=\"T_a9ed7_row0_col18\" class=\"data row0 col18\" >0.000000</td>\n",
       "      <td id=\"T_a9ed7_row0_col19\" class=\"data row0 col19\" >0.000000</td>\n",
       "      <td id=\"T_a9ed7_row0_col20\" class=\"data row0 col20\" >1</td>\n",
       "      <td id=\"T_a9ed7_row0_col21\" class=\"data row0 col21\" >0.000000</td>\n",
       "    </tr>\n",
       "    <tr>\n",
       "      <th id=\"T_a9ed7_level0_row1\" class=\"row_heading level0 row1\" >1</th>\n",
       "      <td id=\"T_a9ed7_row1_col0\" class=\"data row1 col0\" >Emb_AR</td>\n",
       "      <td id=\"T_a9ed7_row1_col1\" class=\"data row1 col1\" >Sync</td>\n",
       "      <td id=\"T_a9ed7_row1_col2\" class=\"data row1 col2\" >(1, 0, 12288)</td>\n",
       "      <td id=\"T_a9ed7_row1_col3\" class=\"data row1 col3\" >0.000000</td>\n",
       "      <td id=\"T_a9ed7_row1_col4\" class=\"data row1 col4\" >0.000000</td>\n",
       "      <td id=\"T_a9ed7_row1_col5\" class=\"data row1 col5\" >0.000000</td>\n",
       "      <td id=\"T_a9ed7_row1_col6\" class=\"data row1 col6\" >0.000000</td>\n",
       "      <td id=\"T_a9ed7_row1_col7\" class=\"data row1 col7\" >0.000000</td>\n",
       "      <td id=\"T_a9ed7_row1_col8\" class=\"data row1 col8\" >0.000000</td>\n",
       "      <td id=\"T_a9ed7_row1_col9\" class=\"data row1 col9\" >0.000000</td>\n",
       "      <td id=\"T_a9ed7_row1_col10\" class=\"data row1 col10\" >0.000000</td>\n",
       "      <td id=\"T_a9ed7_row1_col11\" class=\"data row1 col11\" >0.000000</td>\n",
       "      <td id=\"T_a9ed7_row1_col12\" class=\"data row1 col12\" >0.000000</td>\n",
       "      <td id=\"T_a9ed7_row1_col13\" class=\"data row1 col13\" >Collective</td>\n",
       "      <td id=\"T_a9ed7_row1_col14\" class=\"data row1 col14\" >0</td>\n",
       "      <td id=\"T_a9ed7_row1_col15\" class=\"data row1 col15\" >0.000000</td>\n",
       "      <td id=\"T_a9ed7_row1_col16\" class=\"data row1 col16\" >nan</td>\n",
       "      <td id=\"T_a9ed7_row1_col17\" class=\"data row1 col17\" >0.000000</td>\n",
       "      <td id=\"T_a9ed7_row1_col18\" class=\"data row1 col18\" >0.000000</td>\n",
       "      <td id=\"T_a9ed7_row1_col19\" class=\"data row1 col19\" >0.000000</td>\n",
       "      <td id=\"T_a9ed7_row1_col20\" class=\"data row1 col20\" >1</td>\n",
       "      <td id=\"T_a9ed7_row1_col21\" class=\"data row1 col21\" >0.000000</td>\n",
       "    </tr>\n",
       "    <tr>\n",
       "      <th id=\"T_a9ed7_level0_row2\" class=\"row_heading level0 row2\" >2</th>\n",
       "      <td id=\"T_a9ed7_row2_col0\" class=\"data row2 col0\" >QKV</td>\n",
       "      <td id=\"T_a9ed7_row2_col1\" class=\"data row2 col1\" >GEMM</td>\n",
       "      <td id=\"T_a9ed7_row2_col2\" class=\"data row2 col2\" >[((1, 12288, 0), (9216, 12288), (1, 9216, 0))]</td>\n",
       "      <td id=\"T_a9ed7_row2_col3\" class=\"data row2 col3\" >0.000000</td>\n",
       "      <td id=\"T_a9ed7_row2_col4\" class=\"data row2 col4\" >0.000000</td>\n",
       "      <td id=\"T_a9ed7_row2_col5\" class=\"data row2 col5\" >0.000000</td>\n",
       "      <td id=\"T_a9ed7_row2_col6\" class=\"data row2 col6\" >0.000000</td>\n",
       "      <td id=\"T_a9ed7_row2_col7\" class=\"data row2 col7\" >20736.000000</td>\n",
       "      <td id=\"T_a9ed7_row2_col8\" class=\"data row2 col8\" >0.000000</td>\n",
       "      <td id=\"T_a9ed7_row2_col9\" class=\"data row2 col9\" >20736.000000</td>\n",
       "      <td id=\"T_a9ed7_row2_col10\" class=\"data row2 col10\" >0.000000</td>\n",
       "      <td id=\"T_a9ed7_row2_col11\" class=\"data row2 col11\" >0.000000</td>\n",
       "      <td id=\"T_a9ed7_row2_col12\" class=\"data row2 col12\" >0.000000</td>\n",
       "      <td id=\"T_a9ed7_row2_col13\" class=\"data row2 col13\" >Collective</td>\n",
       "      <td id=\"T_a9ed7_row2_col14\" class=\"data row2 col14\" >0</td>\n",
       "      <td id=\"T_a9ed7_row2_col15\" class=\"data row2 col15\" >0.000000</td>\n",
       "      <td id=\"T_a9ed7_row2_col16\" class=\"data row2 col16\" >nan</td>\n",
       "      <td id=\"T_a9ed7_row2_col17\" class=\"data row2 col17\" >0.000000</td>\n",
       "      <td id=\"T_a9ed7_row2_col18\" class=\"data row2 col18\" >0.000000</td>\n",
       "      <td id=\"T_a9ed7_row2_col19\" class=\"data row2 col19\" >0.000000</td>\n",
       "      <td id=\"T_a9ed7_row2_col20\" class=\"data row2 col20\" >1</td>\n",
       "      <td id=\"T_a9ed7_row2_col21\" class=\"data row2 col21\" >0.000000</td>\n",
       "    </tr>\n",
       "    <tr>\n",
       "      <th id=\"T_a9ed7_level0_row3\" class=\"row_heading level0 row3\" >3</th>\n",
       "      <td id=\"T_a9ed7_row3_col0\" class=\"data row3 col0\" >Out Proj</td>\n",
       "      <td id=\"T_a9ed7_row3_col1\" class=\"data row3 col1\" >GEMM</td>\n",
       "      <td id=\"T_a9ed7_row3_col2\" class=\"data row3 col2\" >[((1, 3072, 0), (12288, 3072), (1, 12288, 0))]</td>\n",
       "      <td id=\"T_a9ed7_row3_col3\" class=\"data row3 col3\" >0.000000</td>\n",
       "      <td id=\"T_a9ed7_row3_col4\" class=\"data row3 col4\" >0.000000</td>\n",
       "      <td id=\"T_a9ed7_row3_col5\" class=\"data row3 col5\" >0.000000</td>\n",
       "      <td id=\"T_a9ed7_row3_col6\" class=\"data row3 col6\" >0.000000</td>\n",
       "      <td id=\"T_a9ed7_row3_col7\" class=\"data row3 col7\" >6912.000000</td>\n",
       "      <td id=\"T_a9ed7_row3_col8\" class=\"data row3 col8\" >0.000000</td>\n",
       "      <td id=\"T_a9ed7_row3_col9\" class=\"data row3 col9\" >6912.000000</td>\n",
       "      <td id=\"T_a9ed7_row3_col10\" class=\"data row3 col10\" >0.000000</td>\n",
       "      <td id=\"T_a9ed7_row3_col11\" class=\"data row3 col11\" >0.000000</td>\n",
       "      <td id=\"T_a9ed7_row3_col12\" class=\"data row3 col12\" >0.000000</td>\n",
       "      <td id=\"T_a9ed7_row3_col13\" class=\"data row3 col13\" >Collective</td>\n",
       "      <td id=\"T_a9ed7_row3_col14\" class=\"data row3 col14\" >0</td>\n",
       "      <td id=\"T_a9ed7_row3_col15\" class=\"data row3 col15\" >0.000000</td>\n",
       "      <td id=\"T_a9ed7_row3_col16\" class=\"data row3 col16\" >nan</td>\n",
       "      <td id=\"T_a9ed7_row3_col17\" class=\"data row3 col17\" >0.000000</td>\n",
       "      <td id=\"T_a9ed7_row3_col18\" class=\"data row3 col18\" >0.000000</td>\n",
       "      <td id=\"T_a9ed7_row3_col19\" class=\"data row3 col19\" >0.000000</td>\n",
       "      <td id=\"T_a9ed7_row3_col20\" class=\"data row3 col20\" >1</td>\n",
       "      <td id=\"T_a9ed7_row3_col21\" class=\"data row3 col21\" >0.000000</td>\n",
       "    </tr>\n",
       "    <tr>\n",
       "      <th id=\"T_a9ed7_level0_row4\" class=\"row_heading level0 row4\" >4</th>\n",
       "      <td id=\"T_a9ed7_row4_col0\" class=\"data row4 col0\" >MHA AR</td>\n",
       "      <td id=\"T_a9ed7_row4_col1\" class=\"data row4 col1\" >Sync</td>\n",
       "      <td id=\"T_a9ed7_row4_col2\" class=\"data row4 col2\" >(1, 0, 12288)</td>\n",
       "      <td id=\"T_a9ed7_row4_col3\" class=\"data row4 col3\" >0.000000</td>\n",
       "      <td id=\"T_a9ed7_row4_col4\" class=\"data row4 col4\" >0.000000</td>\n",
       "      <td id=\"T_a9ed7_row4_col5\" class=\"data row4 col5\" >0.000000</td>\n",
       "      <td id=\"T_a9ed7_row4_col6\" class=\"data row4 col6\" >0.000000</td>\n",
       "      <td id=\"T_a9ed7_row4_col7\" class=\"data row4 col7\" >0.000000</td>\n",
       "      <td id=\"T_a9ed7_row4_col8\" class=\"data row4 col8\" >0.000000</td>\n",
       "      <td id=\"T_a9ed7_row4_col9\" class=\"data row4 col9\" >0.000000</td>\n",
       "      <td id=\"T_a9ed7_row4_col10\" class=\"data row4 col10\" >0.000000</td>\n",
       "      <td id=\"T_a9ed7_row4_col11\" class=\"data row4 col11\" >0.000000</td>\n",
       "      <td id=\"T_a9ed7_row4_col12\" class=\"data row4 col12\" >0.000000</td>\n",
       "      <td id=\"T_a9ed7_row4_col13\" class=\"data row4 col13\" >Collective</td>\n",
       "      <td id=\"T_a9ed7_row4_col14\" class=\"data row4 col14\" >0</td>\n",
       "      <td id=\"T_a9ed7_row4_col15\" class=\"data row4 col15\" >0.000000</td>\n",
       "      <td id=\"T_a9ed7_row4_col16\" class=\"data row4 col16\" >nan</td>\n",
       "      <td id=\"T_a9ed7_row4_col17\" class=\"data row4 col17\" >0.000000</td>\n",
       "      <td id=\"T_a9ed7_row4_col18\" class=\"data row4 col18\" >0.000000</td>\n",
       "      <td id=\"T_a9ed7_row4_col19\" class=\"data row4 col19\" >0.000000</td>\n",
       "      <td id=\"T_a9ed7_row4_col20\" class=\"data row4 col20\" >1</td>\n",
       "      <td id=\"T_a9ed7_row4_col21\" class=\"data row4 col21\" >0.000000</td>\n",
       "    </tr>\n",
       "    <tr>\n",
       "      <th id=\"T_a9ed7_level0_row5\" class=\"row_heading level0 row5\" >5</th>\n",
       "      <td id=\"T_a9ed7_row5_col0\" class=\"data row5 col0\" >up+gate</td>\n",
       "      <td id=\"T_a9ed7_row5_col1\" class=\"data row5 col1\" >GEMM</td>\n",
       "      <td id=\"T_a9ed7_row5_col2\" class=\"data row5 col2\" >[((1, 12288, 0), (12288, 12288), (1, 12288, 0))]</td>\n",
       "      <td id=\"T_a9ed7_row5_col3\" class=\"data row5 col3\" >0.000000</td>\n",
       "      <td id=\"T_a9ed7_row5_col4\" class=\"data row5 col4\" >0.000000</td>\n",
       "      <td id=\"T_a9ed7_row5_col5\" class=\"data row5 col5\" >0.000000</td>\n",
       "      <td id=\"T_a9ed7_row5_col6\" class=\"data row5 col6\" >0.000000</td>\n",
       "      <td id=\"T_a9ed7_row5_col7\" class=\"data row5 col7\" >27648.000000</td>\n",
       "      <td id=\"T_a9ed7_row5_col8\" class=\"data row5 col8\" >0.000000</td>\n",
       "      <td id=\"T_a9ed7_row5_col9\" class=\"data row5 col9\" >27648.000000</td>\n",
       "      <td id=\"T_a9ed7_row5_col10\" class=\"data row5 col10\" >0.000000</td>\n",
       "      <td id=\"T_a9ed7_row5_col11\" class=\"data row5 col11\" >0.000000</td>\n",
       "      <td id=\"T_a9ed7_row5_col12\" class=\"data row5 col12\" >0.000000</td>\n",
       "      <td id=\"T_a9ed7_row5_col13\" class=\"data row5 col13\" >Collective</td>\n",
       "      <td id=\"T_a9ed7_row5_col14\" class=\"data row5 col14\" >0</td>\n",
       "      <td id=\"T_a9ed7_row5_col15\" class=\"data row5 col15\" >0.000000</td>\n",
       "      <td id=\"T_a9ed7_row5_col16\" class=\"data row5 col16\" >nan</td>\n",
       "      <td id=\"T_a9ed7_row5_col17\" class=\"data row5 col17\" >0.000000</td>\n",
       "      <td id=\"T_a9ed7_row5_col18\" class=\"data row5 col18\" >0.000000</td>\n",
       "      <td id=\"T_a9ed7_row5_col19\" class=\"data row5 col19\" >0.000000</td>\n",
       "      <td id=\"T_a9ed7_row5_col20\" class=\"data row5 col20\" >1</td>\n",
       "      <td id=\"T_a9ed7_row5_col21\" class=\"data row5 col21\" >0.000000</td>\n",
       "    </tr>\n",
       "    <tr>\n",
       "      <th id=\"T_a9ed7_level0_row6\" class=\"row_heading level0 row6\" >6</th>\n",
       "      <td id=\"T_a9ed7_row6_col0\" class=\"data row6 col0\" >down</td>\n",
       "      <td id=\"T_a9ed7_row6_col1\" class=\"data row6 col1\" >GEMM</td>\n",
       "      <td id=\"T_a9ed7_row6_col2\" class=\"data row6 col2\" >[((1, 12288, 0), (12288, 12288), (1, 12288, 0))]</td>\n",
       "      <td id=\"T_a9ed7_row6_col3\" class=\"data row6 col3\" >0.000000</td>\n",
       "      <td id=\"T_a9ed7_row6_col4\" class=\"data row6 col4\" >0.000000</td>\n",
       "      <td id=\"T_a9ed7_row6_col5\" class=\"data row6 col5\" >0.000000</td>\n",
       "      <td id=\"T_a9ed7_row6_col6\" class=\"data row6 col6\" >0.000000</td>\n",
       "      <td id=\"T_a9ed7_row6_col7\" class=\"data row6 col7\" >27648.000000</td>\n",
       "      <td id=\"T_a9ed7_row6_col8\" class=\"data row6 col8\" >0.000000</td>\n",
       "      <td id=\"T_a9ed7_row6_col9\" class=\"data row6 col9\" >27648.000000</td>\n",
       "      <td id=\"T_a9ed7_row6_col10\" class=\"data row6 col10\" >0.000000</td>\n",
       "      <td id=\"T_a9ed7_row6_col11\" class=\"data row6 col11\" >0.000000</td>\n",
       "      <td id=\"T_a9ed7_row6_col12\" class=\"data row6 col12\" >0.000000</td>\n",
       "      <td id=\"T_a9ed7_row6_col13\" class=\"data row6 col13\" >Collective</td>\n",
       "      <td id=\"T_a9ed7_row6_col14\" class=\"data row6 col14\" >0</td>\n",
       "      <td id=\"T_a9ed7_row6_col15\" class=\"data row6 col15\" >0.000000</td>\n",
       "      <td id=\"T_a9ed7_row6_col16\" class=\"data row6 col16\" >nan</td>\n",
       "      <td id=\"T_a9ed7_row6_col17\" class=\"data row6 col17\" >0.000000</td>\n",
       "      <td id=\"T_a9ed7_row6_col18\" class=\"data row6 col18\" >0.000000</td>\n",
       "      <td id=\"T_a9ed7_row6_col19\" class=\"data row6 col19\" >0.000000</td>\n",
       "      <td id=\"T_a9ed7_row6_col20\" class=\"data row6 col20\" >1</td>\n",
       "      <td id=\"T_a9ed7_row6_col21\" class=\"data row6 col21\" >0.000000</td>\n",
       "    </tr>\n",
       "    <tr>\n",
       "      <th id=\"T_a9ed7_level0_row7\" class=\"row_heading level0 row7\" >7</th>\n",
       "      <td id=\"T_a9ed7_row7_col0\" class=\"data row7 col0\" >FFN AR</td>\n",
       "      <td id=\"T_a9ed7_row7_col1\" class=\"data row7 col1\" >Sync</td>\n",
       "      <td id=\"T_a9ed7_row7_col2\" class=\"data row7 col2\" >(1, 0, 12288)</td>\n",
       "      <td id=\"T_a9ed7_row7_col3\" class=\"data row7 col3\" >0.000000</td>\n",
       "      <td id=\"T_a9ed7_row7_col4\" class=\"data row7 col4\" >0.000000</td>\n",
       "      <td id=\"T_a9ed7_row7_col5\" class=\"data row7 col5\" >0.000000</td>\n",
       "      <td id=\"T_a9ed7_row7_col6\" class=\"data row7 col6\" >0.000000</td>\n",
       "      <td id=\"T_a9ed7_row7_col7\" class=\"data row7 col7\" >0.000000</td>\n",
       "      <td id=\"T_a9ed7_row7_col8\" class=\"data row7 col8\" >0.000000</td>\n",
       "      <td id=\"T_a9ed7_row7_col9\" class=\"data row7 col9\" >0.000000</td>\n",
       "      <td id=\"T_a9ed7_row7_col10\" class=\"data row7 col10\" >0.000000</td>\n",
       "      <td id=\"T_a9ed7_row7_col11\" class=\"data row7 col11\" >0.000000</td>\n",
       "      <td id=\"T_a9ed7_row7_col12\" class=\"data row7 col12\" >0.000000</td>\n",
       "      <td id=\"T_a9ed7_row7_col13\" class=\"data row7 col13\" >Collective</td>\n",
       "      <td id=\"T_a9ed7_row7_col14\" class=\"data row7 col14\" >0</td>\n",
       "      <td id=\"T_a9ed7_row7_col15\" class=\"data row7 col15\" >0.000000</td>\n",
       "      <td id=\"T_a9ed7_row7_col16\" class=\"data row7 col16\" >nan</td>\n",
       "      <td id=\"T_a9ed7_row7_col17\" class=\"data row7 col17\" >0.000000</td>\n",
       "      <td id=\"T_a9ed7_row7_col18\" class=\"data row7 col18\" >0.000000</td>\n",
       "      <td id=\"T_a9ed7_row7_col19\" class=\"data row7 col19\" >0.000000</td>\n",
       "      <td id=\"T_a9ed7_row7_col20\" class=\"data row7 col20\" >1</td>\n",
       "      <td id=\"T_a9ed7_row7_col21\" class=\"data row7 col21\" >0.000000</td>\n",
       "    </tr>\n",
       "    <tr>\n",
       "      <th id=\"T_a9ed7_level0_row8\" class=\"row_heading level0 row8\" >8</th>\n",
       "      <td id=\"T_a9ed7_row8_col0\" class=\"data row8 col0\" >classifier</td>\n",
       "      <td id=\"T_a9ed7_row8_col1\" class=\"data row8 col1\" >GEMM</td>\n",
       "      <td id=\"T_a9ed7_row8_col2\" class=\"data row8 col2\" >[((1, 12288, 0), (12568, 12288), (1, 12568, 0))]</td>\n",
       "      <td id=\"T_a9ed7_row8_col3\" class=\"data row8 col3\" >0.000000</td>\n",
       "      <td id=\"T_a9ed7_row8_col4\" class=\"data row8 col4\" >0.000000</td>\n",
       "      <td id=\"T_a9ed7_row8_col5\" class=\"data row8 col5\" >0.000000</td>\n",
       "      <td id=\"T_a9ed7_row8_col6\" class=\"data row8 col6\" >0.000000</td>\n",
       "      <td id=\"T_a9ed7_row8_col7\" class=\"data row8 col7\" >294.562500</td>\n",
       "      <td id=\"T_a9ed7_row8_col8\" class=\"data row8 col8\" >0.000000</td>\n",
       "      <td id=\"T_a9ed7_row8_col9\" class=\"data row8 col9\" >294.562500</td>\n",
       "      <td id=\"T_a9ed7_row8_col10\" class=\"data row8 col10\" >0.000000</td>\n",
       "      <td id=\"T_a9ed7_row8_col11\" class=\"data row8 col11\" >0.000000</td>\n",
       "      <td id=\"T_a9ed7_row8_col12\" class=\"data row8 col12\" >0.000000</td>\n",
       "      <td id=\"T_a9ed7_row8_col13\" class=\"data row8 col13\" >Collective</td>\n",
       "      <td id=\"T_a9ed7_row8_col14\" class=\"data row8 col14\" >0</td>\n",
       "      <td id=\"T_a9ed7_row8_col15\" class=\"data row8 col15\" >0.000000</td>\n",
       "      <td id=\"T_a9ed7_row8_col16\" class=\"data row8 col16\" >nan</td>\n",
       "      <td id=\"T_a9ed7_row8_col17\" class=\"data row8 col17\" >0.000000</td>\n",
       "      <td id=\"T_a9ed7_row8_col18\" class=\"data row8 col18\" >0.000000</td>\n",
       "      <td id=\"T_a9ed7_row8_col19\" class=\"data row8 col19\" >0.000000</td>\n",
       "      <td id=\"T_a9ed7_row8_col20\" class=\"data row8 col20\" >1</td>\n",
       "      <td id=\"T_a9ed7_row8_col21\" class=\"data row8 col21\" >0.000000</td>\n",
       "    </tr>\n",
       "    <tr>\n",
       "      <th id=\"T_a9ed7_level0_row9\" class=\"row_heading level0 row9\" >9</th>\n",
       "      <td id=\"T_a9ed7_row9_col0\" class=\"data row9 col0\" >classifier_AG</td>\n",
       "      <td id=\"T_a9ed7_row9_col1\" class=\"data row9 col1\" >Sync</td>\n",
       "      <td id=\"T_a9ed7_row9_col2\" class=\"data row9 col2\" >(1, 0, 50272)</td>\n",
       "      <td id=\"T_a9ed7_row9_col3\" class=\"data row9 col3\" >0.000000</td>\n",
       "      <td id=\"T_a9ed7_row9_col4\" class=\"data row9 col4\" >0.000000</td>\n",
       "      <td id=\"T_a9ed7_row9_col5\" class=\"data row9 col5\" >0.000000</td>\n",
       "      <td id=\"T_a9ed7_row9_col6\" class=\"data row9 col6\" >0.000000</td>\n",
       "      <td id=\"T_a9ed7_row9_col7\" class=\"data row9 col7\" >0.000000</td>\n",
       "      <td id=\"T_a9ed7_row9_col8\" class=\"data row9 col8\" >0.000000</td>\n",
       "      <td id=\"T_a9ed7_row9_col9\" class=\"data row9 col9\" >0.000000</td>\n",
       "      <td id=\"T_a9ed7_row9_col10\" class=\"data row9 col10\" >0.000000</td>\n",
       "      <td id=\"T_a9ed7_row9_col11\" class=\"data row9 col11\" >0.000000</td>\n",
       "      <td id=\"T_a9ed7_row9_col12\" class=\"data row9 col12\" >0.000000</td>\n",
       "      <td id=\"T_a9ed7_row9_col13\" class=\"data row9 col13\" >Collective</td>\n",
       "      <td id=\"T_a9ed7_row9_col14\" class=\"data row9 col14\" >0</td>\n",
       "      <td id=\"T_a9ed7_row9_col15\" class=\"data row9 col15\" >0.000000</td>\n",
       "      <td id=\"T_a9ed7_row9_col16\" class=\"data row9 col16\" >nan</td>\n",
       "      <td id=\"T_a9ed7_row9_col17\" class=\"data row9 col17\" >0.000000</td>\n",
       "      <td id=\"T_a9ed7_row9_col18\" class=\"data row9 col18\" >0.000000</td>\n",
       "      <td id=\"T_a9ed7_row9_col19\" class=\"data row9 col19\" >0.000000</td>\n",
       "      <td id=\"T_a9ed7_row9_col20\" class=\"data row9 col20\" >1</td>\n",
       "      <td id=\"T_a9ed7_row9_col21\" class=\"data row9 col21\" >0.000000</td>\n",
       "    </tr>\n",
       "  </tbody>\n",
       "</table>\n"
      ],
      "text/plain": [
       "<pandas.io.formats.style.Styler at 0x16979a240>"
      ]
     },
     "metadata": {},
     "output_type": "display_data"
    },
    {
     "data": {
      "application/vnd.microsoft.datawrangler.viewer.v0+json": {
       "columns": [
        {
         "name": "index",
         "rawType": "int64",
         "type": "integer"
        },
        {
         "name": "MACs (MFLOP)",
         "rawType": "float64",
         "type": "float"
        },
        {
         "name": "Total Data (MB)",
         "rawType": "float64",
         "type": "float"
        },
        {
         "name": "Total Weights (MB)",
         "rawType": "float64",
         "type": "float"
        },
        {
         "name": "Unused Weights (MB)",
         "rawType": "float64",
         "type": "float"
        },
        {
         "name": "KV Cache (MB)",
         "rawType": "int64",
         "type": "integer"
        },
        {
         "name": "On-chip Memory Footprint (MB)",
         "rawType": "float64",
         "type": "float"
        },
        {
         "name": "Latency (msec)",
         "rawType": "float64",
         "type": "float"
        },
        {
         "name": "Cycles",
         "rawType": "float64",
         "type": "float"
        },
        {
         "name": "Attn Latency (msec)",
         "rawType": "int64",
         "type": "integer"
        },
        {
         "name": "Linear Latency (msec)",
         "rawType": "float64",
         "type": "float"
        },
        {
         "name": "Comm Latency (msec)",
         "rawType": "float64",
         "type": "float"
        }
       ],
       "conversionMethod": "pd.DataFrame",
       "ref": "83c831eb-00cc-4fa2-b6a4-ce41378d7c7d",
       "rows": [
        [
         "0",
         "0.0",
         "83533.125",
         "83533.125",
         "83533.125",
         "0",
         "294.5625",
         "0.0",
         "0.0",
         "0",
         "0.0",
         "0.0"
        ]
       ],
       "shape": {
        "columns": 11,
        "rows": 1
       }
      },
      "text/html": [
       "<div>\n",
       "<style scoped>\n",
       "    .dataframe tbody tr th:only-of-type {\n",
       "        vertical-align: middle;\n",
       "    }\n",
       "\n",
       "    .dataframe tbody tr th {\n",
       "        vertical-align: top;\n",
       "    }\n",
       "\n",
       "    .dataframe thead th {\n",
       "        text-align: right;\n",
       "    }\n",
       "</style>\n",
       "<table border=\"1\" class=\"dataframe\">\n",
       "  <thead>\n",
       "    <tr style=\"text-align: right;\">\n",
       "      <th></th>\n",
       "      <th>MACs (MFLOP)</th>\n",
       "      <th>Total Data (MB)</th>\n",
       "      <th>Total Weights (MB)</th>\n",
       "      <th>Unused Weights (MB)</th>\n",
       "      <th>KV Cache (MB)</th>\n",
       "      <th>On-chip Memory Footprint (MB)</th>\n",
       "      <th>Latency (msec)</th>\n",
       "      <th>Cycles</th>\n",
       "      <th>Attn Latency (msec)</th>\n",
       "      <th>Linear Latency (msec)</th>\n",
       "      <th>Comm Latency (msec)</th>\n",
       "    </tr>\n",
       "  </thead>\n",
       "  <tbody>\n",
       "    <tr>\n",
       "      <th>0</th>\n",
       "      <td>0.00000</td>\n",
       "      <td>83533.12500</td>\n",
       "      <td>83533.12500</td>\n",
       "      <td>83533.12500</td>\n",
       "      <td>0</td>\n",
       "      <td>294.56250</td>\n",
       "      <td>0.00000</td>\n",
       "      <td>0.00000</td>\n",
       "      <td>0</td>\n",
       "      <td>0.00000</td>\n",
       "      <td>0.00000</td>\n",
       "    </tr>\n",
       "  </tbody>\n",
       "</table>\n",
       "</div>"
      ],
      "text/plain": [
       "   MACs (MFLOP)  Total Data (MB)  Total Weights (MB)  Unused Weights (MB)  \\\n",
       "0       0.00000      83533.12500         83533.12500          83533.12500   \n",
       "\n",
       "   KV Cache (MB)  On-chip Memory Footprint (MB)  Latency (msec)  Cycles  \\\n",
       "0              0                      294.56250         0.00000 0.00000   \n",
       "\n",
       "   Attn Latency (msec)  Linear Latency (msec)  Comm Latency (msec)  \n",
       "0                    0                0.00000              0.00000  "
      ]
     },
     "metadata": {},
     "output_type": "display_data"
    },
    {
     "name": "stderr",
     "output_type": "stream",
     "text": [
      "/opt/homebrew/Caskroom/miniconda/base/envs/genz_pip_test/lib/python3.12/site-packages/GenZ/LLM_inference/llm_chunked.py:98: RuntimeWarning:\n",
      "\n",
      "invalid value encountered in scalar divide\n",
      "\n"
     ]
    },
    {
     "data": {
      "text/plain": [
       "{'Latency': 0.0,\n",
       " 'Throughput': nan,\n",
       " 'Runtime_breakdown': Embedding: 0.0, MHA: 0.0, FFN: 0.0, Collective: 0.0, LA_layers: 0, QKVO_layers: 0.0, FFN_layers: 0.0, Softmax: 0, AR_time: 0.0, A2A_time: 0, Send_Recv_time: 0, Mamba_time: 0,\n",
       " 'is_offload': False,\n",
       " 'model_df':        Layer Name    Op Type  \\\n",
       " 0      embeddings       GEMM   \n",
       " 1          Emb_AR       Sync   \n",
       " 2          Repeat     Repeat   \n",
       " 3             QKV       GEMM   \n",
       " 4        Out Proj       GEMM   \n",
       " 5          MHA AR       Sync   \n",
       " 6         up+gate       GEMM   \n",
       " 7            down       GEMM   \n",
       " 8          FFN AR       Sync   \n",
       " 9      End Repeat  EndRepeat   \n",
       " 10     classifier       GEMM   \n",
       " 11  classifier_AG       Sync   \n",
       " \n",
       "                                            Dimension       Bound C/M ratio  \\\n",
       " 0   [((1, 12568, 0), (12288, 12568), (1, 12288, 0))]  Collective         0   \n",
       " 1                                      (1, 0, 12288)  Collective         0   \n",
       " 2                                                 96  Collective         0   \n",
       " 3     [((1, 12288, 0), (9216, 12288), (1, 9216, 0))]  Collective         0   \n",
       " 4     [((1, 3072, 0), (12288, 3072), (1, 12288, 0))]  Collective         0   \n",
       " 5                                      (1, 0, 12288)  Collective         0   \n",
       " 6   [((1, 12288, 0), (12288, 12288), (1, 12288, 0))]  Collective         0   \n",
       " 7   [((1, 12288, 0), (12288, 12288), (1, 12288, 0))]  Collective         0   \n",
       " 8                                      (1, 0, 12288)  Collective         0   \n",
       " 9                                                 96  Collective         0   \n",
       " 10  [((1, 12288, 0), (12568, 12288), (1, 12568, 0))]  Collective         0   \n",
       " 11                                     (1, 0, 50272)  Collective         0   \n",
       " \n",
       "    Op Intensity Latency (msec)  Cycles C Effcy Num ops (MFLOP)  ...  \\\n",
       " 0       0.00000        0.00000 0.00000       1         0.00000  ...   \n",
       " 1             0        0.00000 0.00000       1         0.00000  ...   \n",
       " 2             0        0.00000 0.00000       1         0.00000  ...   \n",
       " 3       0.00000        0.00000 0.00000       1         0.00000  ...   \n",
       " 4       0.00000        0.00000 0.00000       1         0.00000  ...   \n",
       " 5             0        0.00000 0.00000       1         0.00000  ...   \n",
       " 6       0.00000        0.00000 0.00000       1         0.00000  ...   \n",
       " 7       0.00000        0.00000 0.00000       1         0.00000  ...   \n",
       " 8             0        0.00000 0.00000       1         0.00000  ...   \n",
       " 9             0        0.00000 0.00000       1         0.00000  ...   \n",
       " 10      0.00000        0.00000 0.00000       1         0.00000  ...   \n",
       " 11            0        0.00000 0.00000       1         0.00000  ...   \n",
       " \n",
       "    Input_w (MB) Output (MB) Total Data (MB) Throughput (Tflops)  \\\n",
       " 0     294.56250     0.00000       294.56250             0.00000   \n",
       " 1       0.00000     0.00000         0.00000             0.00000   \n",
       " 2       0.00000     0.00000         0.00000             0.00000   \n",
       " 3     216.00000     0.00000       216.00000             0.00000   \n",
       " 4      72.00000     0.00000        72.00000             0.00000   \n",
       " 5       0.00000     0.00000         0.00000             0.00000   \n",
       " 6     288.00000     0.00000       288.00000             0.00000   \n",
       " 7     288.00000     0.00000       288.00000             0.00000   \n",
       " 8       0.00000     0.00000         0.00000             0.00000   \n",
       " 9       0.00000     0.00000         0.00000             0.00000   \n",
       " 10    294.56250     0.00000       294.56250             0.00000   \n",
       " 11      0.00000     0.00000         0.00000             0.00000   \n",
       " \n",
       "    Compute time (msec) Memory time (msec) Communication time (msec)  \\\n",
       " 0              0.00000            0.00000                   0.00000   \n",
       " 1              0.00000            0.00000                   0.00000   \n",
       " 2              0.00000            0.00000                   0.00000   \n",
       " 3              0.00000            0.00000                   0.00000   \n",
       " 4              0.00000            0.00000                   0.00000   \n",
       " 5              0.00000            0.00000                   0.00000   \n",
       " 6              0.00000            0.00000                   0.00000   \n",
       " 7              0.00000            0.00000                   0.00000   \n",
       " 8              0.00000            0.00000                   0.00000   \n",
       " 9              0.00000            0.00000                   0.00000   \n",
       " 10             0.00000            0.00000                   0.00000   \n",
       " 11             0.00000            0.00000                   0.00000   \n",
       " \n",
       "    Compute cycle Memory cycle Communication cycle  \n",
       " 0        0.00000      0.00000             0.00000  \n",
       " 1        0.00000      0.00000             0.00000  \n",
       " 2        0.00000      0.00000             0.00000  \n",
       " 3        0.00000      0.00000             0.00000  \n",
       " 4        0.00000      0.00000             0.00000  \n",
       " 5        0.00000      0.00000             0.00000  \n",
       " 6        0.00000      0.00000             0.00000  \n",
       " 7        0.00000      0.00000             0.00000  \n",
       " 8        0.00000      0.00000             0.00000  \n",
       " 9        0.00000      0.00000             0.00000  \n",
       " 10       0.00000      0.00000             0.00000  \n",
       " 11       0.00000      0.00000             0.00000  \n",
       " \n",
       " [12 rows x 21 columns],\n",
       " 'summary_table':    MACs (MFLOP)  Total Data (MB)  Total Weights (MB)  Unused Weights (MB)  \\\n",
       " 0       0.00000      83533.12500         83533.12500          83533.12500   \n",
       " \n",
       "    KV Cache (MB)  On-chip Memory Footprint (MB)  Latency (msec)  Cycles  \\\n",
       " 0              0                      294.56250         0.00000 0.00000   \n",
       " \n",
       "    Attn Latency (msec)  Linear Latency (msec)  Comm Latency (msec)  \n",
       " 0                    0                0.00000              0.00000  }"
      ]
     },
     "execution_count": 10,
     "metadata": {},
     "output_type": "execute_result"
    }
   ],
   "source": [
    "chunked_moddeling(model='gpt-3', \n",
    "                        prefill_kv_sizes = [],\n",
    "                        decode_kv_sizes= [],\n",
    "                        system_name=system,\n",
    "                        tensor_parallel=TP, debug=True)"
   ]
  },
  {
   "cell_type": "code",
   "execution_count": null,
   "metadata": {},
   "outputs": [],
   "source": []
  },
  {
   "cell_type": "code",
   "execution_count": null,
   "metadata": {},
   "outputs": [],
   "source": []
  },
  {
   "cell_type": "code",
   "execution_count": null,
   "metadata": {},
   "outputs": [],
   "source": []
  },
  {
   "cell_type": "code",
   "execution_count": null,
   "metadata": {},
   "outputs": [],
   "source": []
  }
 ],
 "metadata": {
  "kernelspec": {
   "display_name": "genz_pip_test",
   "language": "python",
   "name": "python3"
  },
  "language_info": {
   "codemirror_mode": {
    "name": "ipython",
    "version": 3
   },
   "file_extension": ".py",
   "mimetype": "text/x-python",
   "name": "python",
   "nbconvert_exporter": "python",
   "pygments_lexer": "ipython3",
   "version": "3.12.7"
  }
 },
 "nbformat": 4,
 "nbformat_minor": 2
}
